{
 "cells": [
  {
   "cell_type": "markdown",
   "id": "92ac3fcb",
   "metadata": {},
   "source": [
    "- python installation\n",
    "\n",
    "- variables \n",
    "\n",
    "- data type \n",
    "\n",
    "- type casting\n",
    "\n",
    "- packages"
   ]
  },
  {
   "cell_type": "markdown",
   "id": "c3c85758",
   "metadata": {},
   "source": [
    "$print$"
   ]
  },
  {
   "cell_type": "code",
   "execution_count": 1,
   "id": "4dc98f86",
   "metadata": {},
   "outputs": [
    {
     "data": {
      "text/plain": [
       "20"
      ]
     },
     "execution_count": 1,
     "metadata": {},
     "output_type": "execute_result"
    }
   ],
   "source": [
    "a=20\n",
    "a"
   ]
  },
  {
   "cell_type": "code",
   "execution_count": 2,
   "id": "4e56cae3",
   "metadata": {},
   "outputs": [
    {
     "name": "stdout",
     "output_type": "stream",
     "text": [
      "20\n"
     ]
    }
   ],
   "source": [
    "print(a)"
   ]
  },
  {
   "cell_type": "code",
   "execution_count": 5,
   "id": "4ac7c3cc",
   "metadata": {},
   "outputs": [
    {
     "data": {
      "text/plain": [
       "30"
      ]
     },
     "execution_count": 5,
     "metadata": {},
     "output_type": "execute_result"
    }
   ],
   "source": [
    "a=20\n",
    "b=30\n",
    "a\n",
    "b\n",
    "a\n",
    "b"
   ]
  },
  {
   "cell_type": "code",
   "execution_count": 7,
   "id": "4b7603a4",
   "metadata": {},
   "outputs": [
    {
     "name": "stdout",
     "output_type": "stream",
     "text": [
      "50\n",
      "100\n"
     ]
    }
   ],
   "source": [
    "a=50\n",
    "b=100\n",
    "print(a)\n",
    "print(b)"
   ]
  },
  {
   "cell_type": "code",
   "execution_count": 8,
   "id": "18beb49a",
   "metadata": {},
   "outputs": [
    {
     "name": "stdout",
     "output_type": "stream",
     "text": [
      "hai how are you\n"
     ]
    }
   ],
   "source": [
    "# I want to print\n",
    "# hai how are you\n",
    "\n",
    "print(\"hai how are you\")"
   ]
  },
  {
   "cell_type": "code",
   "execution_count": 9,
   "id": "5d6717ac",
   "metadata": {},
   "outputs": [
    {
     "name": "stdout",
     "output_type": "stream",
     "text": [
      "python\n"
     ]
    }
   ],
   "source": [
    "name=\"python\"\n",
    "# what is name here \n",
    "# name is a variable\n",
    "print(name)"
   ]
  },
  {
   "cell_type": "code",
   "execution_count": 10,
   "id": "dfaf0aaa",
   "metadata": {},
   "outputs": [
    {
     "name": "stdout",
     "output_type": "stream",
     "text": [
      "my name is python\n"
     ]
    }
   ],
   "source": [
    "# my name is python\n",
    "print(\"my name is python\")\n",
    "# what ever you write in red /quotes it will print"
   ]
  },
  {
   "cell_type": "code",
   "execution_count": 12,
   "id": "0ff6737d",
   "metadata": {},
   "outputs": [
    {
     "name": "stdout",
     "output_type": "stream",
     "text": [
      "my name is python\n"
     ]
    }
   ],
   "source": [
    "print(\"my name is\",name)"
   ]
  },
  {
   "cell_type": "code",
   "execution_count": 15,
   "id": "5c29a0ea",
   "metadata": {},
   "outputs": [
    {
     "name": "stdout",
     "output_type": "stream",
     "text": [
      "my name is python\n",
      "my name is python\n",
      "my name is python\n"
     ]
    }
   ],
   "source": [
    "name=\"python\"\n",
    "print(\"my name is python\")\n",
    "print(\"my name is\",\"python\")\n",
    "print(\"my name is\",name)"
   ]
  },
  {
   "cell_type": "code",
   "execution_count": 18,
   "id": "0eeba1f9",
   "metadata": {},
   "outputs": [
    {
     "name": "stdout",
     "output_type": "stream",
     "text": [
      "the value of num1 is 30\n",
      "the value of num1 is 30\n"
     ]
    }
   ],
   "source": [
    "num1=30\n",
    "# the value of num1 is 30\n",
    "print(\"the value of num1 is 30\")\n",
    "print(\"the value of num1 is\",num1)"
   ]
  },
  {
   "cell_type": "code",
   "execution_count": 20,
   "id": "d10a4a3d",
   "metadata": {},
   "outputs": [
    {
     "name": "stdout",
     "output_type": "stream",
     "text": [
      "The value of num1 is: 30\n"
     ]
    }
   ],
   "source": [
    "# the value of num1 is : 30\n",
    "print(\"The value of num1 is:\",num1)"
   ]
  },
  {
   "cell_type": "code",
   "execution_count": 21,
   "id": "0e663844",
   "metadata": {},
   "outputs": [
    {
     "name": "stdout",
     "output_type": "stream",
     "text": [
      "hai\n",
      "how are you\n"
     ]
    }
   ],
   "source": [
    "# hai\n",
    "# how are you\n",
    "print(\"hai\")\n",
    "print(\"how are you\")"
   ]
  },
  {
   "cell_type": "markdown",
   "id": "b9a96665",
   "metadata": {},
   "source": [
    "I want to combine multiple print statements"
   ]
  },
  {
   "cell_type": "markdown",
   "id": "f1757d4c",
   "metadata": {},
   "source": [
    "$end$"
   ]
  },
  {
   "cell_type": "code",
   "execution_count": 30,
   "id": "1f8e467d",
   "metadata": {},
   "outputs": [
    {
     "name": "stdout",
     "output_type": "stream",
     "text": [
      "hai*****how are you\n"
     ]
    }
   ],
   "source": [
    "print(\"hai\",end='*****')\n",
    "print(\"how are you\")\n",
    "\n",
    "#haihow are you"
   ]
  },
  {
   "cell_type": "code",
   "execution_count": null,
   "id": "63c9b6d9",
   "metadata": {},
   "outputs": [],
   "source": [
    "# hai\n",
    "# how\n",
    "# are\n",
    "# you\n",
    "\n",
    "# hai how are you"
   ]
  },
  {
   "cell_type": "code",
   "execution_count": 34,
   "id": "e95b5640",
   "metadata": {},
   "outputs": [
    {
     "name": "stdout",
     "output_type": "stream",
     "text": [
      "hai how are you\n"
     ]
    }
   ],
   "source": [
    "print('hai',end=' ')\n",
    "print('how',end=' ')\n",
    "print('are',end=' ')\n",
    "print(\"you\")"
   ]
  },
  {
   "cell_type": "code",
   "execution_count": 42,
   "id": "f1636e86",
   "metadata": {},
   "outputs": [
    {
     "data": {
      "text/plain": [
       "600"
      ]
     },
     "execution_count": 42,
     "metadata": {},
     "output_type": "execute_result"
    }
   ],
   "source": [
    "number1=100\n",
    "number2=500\n",
    "add=number1+number2\n",
    "add\n",
    "\n",
    "# the addition of 100 and 500 is 600\n"
   ]
  },
  {
   "cell_type": "code",
   "execution_count": 43,
   "id": "b6f8d8e2",
   "metadata": {},
   "outputs": [
    {
     "name": "stdout",
     "output_type": "stream",
     "text": [
      "The addition of  100 and 500  is 600\n",
      "The addition of  100 and 500  is 600\n"
     ]
    }
   ],
   "source": [
    "print(\"The addition of \", number1, \"and\", number2, \" is\", number1+number2) \n",
    "print(\"The addition of \", number1, \"and\", number2, \" is\", add)"
   ]
  },
  {
   "cell_type": "code",
   "execution_count": 39,
   "id": "33e9dfbf",
   "metadata": {},
   "outputs": [
    {
     "name": "stdout",
     "output_type": "stream",
     "text": [
      "the addition of number1 and number2 6000\n",
      "the addition of 100 and 500 is 6000\n"
     ]
    }
   ],
   "source": [
    "print(\"the addition of number1 and number2\",add)\n",
    "print('the addition of 100 and 500 is',add)"
   ]
  },
  {
   "cell_type": "code",
   "execution_count": 45,
   "id": "aa009d1f",
   "metadata": {},
   "outputs": [
    {
     "name": "stdout",
     "output_type": "stream",
     "text": [
      "The multiplication of 20 and 30 is 600\n",
      "the multiplication of 20 30 is 600\n",
      "The multiplication of 20 and 30 is 600\n"
     ]
    }
   ],
   "source": [
    "a=20\n",
    "b=30\n",
    "mul=a*b\n",
    "# the multiplication of 20 and 30 is 600\n",
    "print(\"The multiplication of\",a,\"and\",b,\"is\",mul)\n",
    "print(\"the multiplication of\", a,b,\"is\", mul)\n",
    "print(\"The multiplication of\",a ,\"and\", b,\"is\",mul)"
   ]
  },
  {
   "cell_type": "code",
   "execution_count": 48,
   "id": "683e91b3",
   "metadata": {},
   "outputs": [
    {
     "name": "stdout",
     "output_type": "stream",
     "text": [
      "the multiplication of 20 and 30 is 600\n",
      "the multiplication of 20 and 30 is 600\n"
     ]
    }
   ],
   "source": [
    "a=20\n",
    "b=30\n",
    "mul=a*b\n",
    "# the multiplication of 20 and 30 is 600\n",
    "print(\"the multiplication of 20 and 30 is 600\")\n",
    "# 20 \n",
    "# 30\n",
    "# 600\n",
    "# assume that fill in the blanks\n",
    "print(\"the multiplication of {} and {} is {}\".format(a,b,mul))"
   ]
  },
  {
   "cell_type": "code",
   "execution_count": 51,
   "id": "9eb7ccd9",
   "metadata": {},
   "outputs": [
    {
     "name": "stdout",
     "output_type": "stream",
     "text": [
      "the addition of 300 and 100 is 200\n"
     ]
    }
   ],
   "source": [
    "number1=100\n",
    "number2=200\n",
    "add=number1+number2\n",
    "# what you want to print\n",
    "# the addition of 100 and 200 is 300\n",
    "print(\"the addition of {} and {} is {}\".format(add,number1,number2))"
   ]
  },
  {
   "cell_type": "code",
   "execution_count": 54,
   "id": "76e70f0f",
   "metadata": {},
   "outputs": [],
   "source": [
    "name='python'\n",
    "city='hyd'\n",
    "age=30\n",
    "\n",
    "# my name is python, i leaves in hyd and my age is 30"
   ]
  },
  {
   "cell_type": "code",
   "execution_count": 57,
   "id": "2c15a649",
   "metadata": {},
   "outputs": [
    {
     "name": "stdout",
     "output_type": "stream",
     "text": [
      "my name is python ,I leavesinhydand my age is30\n",
      "My name is python, I live in hyd and my age is30\n",
      "my name is python, i lives in hyd and my age is 30\n",
      "my name is python, I leaves in hyd and my age is 30\n",
      "my name is python,I leaves in hyd and my age is30\n"
     ]
    }
   ],
   "source": [
    "print(\"my name is {} ,I leavesin{}and my age is{}\".format (name,city,age))\n",
    "print(\"My name is {}, I live in {} and my age is{}\".format(name,city,age))\n",
    "print(\"my name is {}, i lives in {} and my age is {}\".format(name,city,age))\n",
    "print(\"my name is {}, I leaves in {} and my age is {}\".format(name,city,age))\n",
    "print(\"my name is {},I leaves in {} and my age is{}\".format(name,city,age))"
   ]
  },
  {
   "cell_type": "code",
   "execution_count": null,
   "id": "6e5a420f",
   "metadata": {},
   "outputs": [],
   "source": []
  },
  {
   "cell_type": "code",
   "execution_count": null,
   "id": "4104b608",
   "metadata": {},
   "outputs": [],
   "source": []
  }
 ],
 "metadata": {
  "kernelspec": {
   "display_name": "Python 3 (ipykernel)",
   "language": "python",
   "name": "python3"
  },
  "language_info": {
   "codemirror_mode": {
    "name": "ipython",
    "version": 3
   },
   "file_extension": ".py",
   "mimetype": "text/x-python",
   "name": "python",
   "nbconvert_exporter": "python",
   "pygments_lexer": "ipython3",
   "version": "3.11.5"
  }
 },
 "nbformat": 4,
 "nbformat_minor": 5
}
