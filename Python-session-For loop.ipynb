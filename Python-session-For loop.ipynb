{
 "cells": [
  {
   "cell_type": "markdown",
   "id": "9ca74407",
   "metadata": {},
   "source": [
    "- Basic python\n",
    "\n",
    "   - data types\n",
    "    \n",
    "   - type casting\n",
    "\n",
    "   - print statments\n",
    "    \n",
    "   - eval concept\n",
    "\n",
    "   - input from key board\n",
    "    \n",
    "    \n",
    "- try except\n",
    "\n",
    "- if elif else\n",
    "\n",
    "- Functions\n",
    "    - with out arguments\n",
    "    \n",
    "    - with arguments\n",
    "    \n",
    "    - default arguments\n",
    "    \n",
    "    - return \n",
    "\n",
    "    - local vs global"
   ]
  },
  {
   "cell_type": "code",
   "execution_count": null,
   "id": "39f8d654",
   "metadata": {},
   "outputs": [],
   "source": [
    "- For\n",
    "\n",
    "- while "
   ]
  },
  {
   "cell_type": "code",
   "execution_count": null,
   "id": "7c09a7ae",
   "metadata": {},
   "outputs": [],
   "source": [
    "loop means circle \n",
    "\n",
    "if you want to iterate same task many number of times , then we go for loops\n",
    "\n",
    "if we want to use same piece of code , functions"
   ]
  },
  {
   "cell_type": "code",
   "execution_count": null,
   "id": "88b4f640",
   "metadata": {},
   "outputs": [],
   "source": [
    "def <function_name>():\n",
    "    # st-1\n",
    "    # st-2\n",
    "    \n",
    "whenever you have : ===== indentation will be there\n",
    "    \n",
    "if  <condition>:\n",
    "    "
   ]
  },
  {
   "cell_type": "code",
   "execution_count": null,
   "id": "7f765421",
   "metadata": {},
   "outputs": [],
   "source": [
    "# if i want to print first 10 numbers"
   ]
  },
  {
   "cell_type": "code",
   "execution_count": null,
   "id": "83603a7f",
   "metadata": {},
   "outputs": [],
   "source": [
    "- intialisation (start point)\n",
    "\n",
    "- condition     (stop point)\n",
    "\n",
    "- increment/decrement"
   ]
  },
  {
   "cell_type": "code",
   "execution_count": null,
   "id": "ec7c0caa",
   "metadata": {},
   "outputs": [],
   "source": [
    "# if i want to print first 10 numbers\n",
    "\n",
    "# start point : 1\n",
    "# stop point: 10\n",
    "# 1 2 3 4 increment"
   ]
  },
  {
   "cell_type": "markdown",
   "id": "ae07d470",
   "metadata": {},
   "source": [
    "**Note**\n",
    "\n",
    "in python the index always start with zero"
   ]
  },
  {
   "cell_type": "code",
   "execution_count": 1,
   "id": "f67d61d0",
   "metadata": {},
   "outputs": [
    {
     "name": "stdout",
     "output_type": "stream",
     "text": [
      "0\n",
      "1\n",
      "2\n",
      "3\n",
      "4\n",
      "5\n",
      "6\n",
      "7\n",
      "8\n",
      "9\n"
     ]
    }
   ],
   "source": [
    "for i in range(10):\n",
    "    print(i)\n",
    "    \n",
    "#start=0  (python index start with zero)\n",
    "#  i in range(10) ====== start/stop./incre\n",
    "# nothing mentioned means zero is the starting point"
   ]
  },
  {
   "cell_type": "markdown",
   "id": "90414694",
   "metadata": {},
   "source": [
    "$pattern-1$"
   ]
  },
  {
   "cell_type": "markdown",
   "id": "cd108d3b",
   "metadata": {},
   "source": [
    "range(stop)\n",
    "\n",
    "- start=0   python index start with zero\n",
    "\n",
    "- end= stop-1\n",
    "\n",
    "- increment"
   ]
  },
  {
   "cell_type": "code",
   "execution_count": 2,
   "id": "89cb0678",
   "metadata": {},
   "outputs": [
    {
     "name": "stdout",
     "output_type": "stream",
     "text": [
      "0\n",
      "1\n",
      "2\n",
      "3\n",
      "4\n",
      "5\n",
      "6\n",
      "7\n",
      "8\n",
      "9\n",
      "10\n",
      "11\n",
      "12\n",
      "13\n",
      "14\n",
      "15\n",
      "16\n",
      "17\n",
      "18\n",
      "19\n"
     ]
    }
   ],
   "source": [
    "for i in range(20):\n",
    "    print(i)\n",
    "# start=0   end= stop-1= 20-1=19   increment"
   ]
  },
  {
   "cell_type": "code",
   "execution_count": 5,
   "id": "d8b57581",
   "metadata": {},
   "outputs": [
    {
     "name": "stdout",
     "output_type": "stream",
     "text": [
      "0 1 2 3 "
     ]
    }
   ],
   "source": [
    "print(0,end=' ')\n",
    "print(1,end=' ')\n",
    "print(2,end=' ')\n",
    "print(3,end=' ')\n",
    "\n",
    "# combine the print statements\n",
    "\n",
    "#print(i,end=' ')"
   ]
  },
  {
   "cell_type": "code",
   "execution_count": 6,
   "id": "61bb9978",
   "metadata": {},
   "outputs": [
    {
     "name": "stdout",
     "output_type": "stream",
     "text": [
      "0 1 2 3 4 5 6 7 8 9 10 11 12 13 14 15 16 17 18 19 "
     ]
    }
   ],
   "source": [
    "for i in range(20):\n",
    "    print(i,end=' ')"
   ]
  },
  {
   "cell_type": "markdown",
   "id": "75ac540b",
   "metadata": {},
   "source": [
    "$pattern-2$"
   ]
  },
  {
   "cell_type": "markdown",
   "id": "0d380f2e",
   "metadata": {},
   "source": [
    "range(start,stop)\n",
    "\n",
    "- start=start\n",
    "\n",
    "- end=stop-1\n",
    "\n",
    "- incremental\n",
    "\n",
    "ex:  range(10,20)\n",
    "    \n",
    "- start=10\n",
    "\n",
    "- stop= 20-1=19\n",
    "\n",
    "- incremental"
   ]
  },
  {
   "cell_type": "code",
   "execution_count": 7,
   "id": "e3afe98d",
   "metadata": {},
   "outputs": [
    {
     "name": "stdout",
     "output_type": "stream",
     "text": [
      "10 11 12 13 14 15 16 17 18 19 "
     ]
    }
   ],
   "source": [
    "for i in range(10,20):\n",
    "    print(i,end=' ')"
   ]
  },
  {
   "cell_type": "markdown",
   "id": "059d497d",
   "metadata": {},
   "source": [
    "$pattern-3$"
   ]
  },
  {
   "cell_type": "markdown",
   "id": "1b938cc9",
   "metadata": {},
   "source": [
    "range(start,stop,step)\n",
    "\n",
    "- start= start\n",
    "\n",
    "- stop value depends on sign of step value\n",
    "\n",
    "- step sign is + : incremental\n",
    "    \n",
    "       - end= stop-1\n",
    "    \n",
    "- step sign is - : decremental\n",
    "    \n",
    "      - end= stop+1"
   ]
  },
  {
   "cell_type": "code",
   "execution_count": null,
   "id": "884b3626",
   "metadata": {},
   "outputs": [],
   "source": [
    "for i in range(5,20,3)\n",
    "\n",
    "# start=5\n",
    "# stop  value decide on step sign\n",
    "# step = 3 ===== +ve\n",
    "# end= stop-1= 20-1=19\n",
    "\n",
    "for i in range(5,20,-3)\n",
    "# step=-3 ======== -ve\n",
    "# start=5\n",
    "# end=stop+1=20+1=21\n",
    "\n",
    "\n",
    "\n"
   ]
  },
  {
   "cell_type": "code",
   "execution_count": 9,
   "id": "0224c83a",
   "metadata": {},
   "outputs": [
    {
     "name": "stdout",
     "output_type": "stream",
     "text": [
      "5 8 11 14 17 "
     ]
    }
   ],
   "source": [
    "#for i in range(5,20,3)\n",
    "\n",
    "# =============== Observation -1 : fix the values=========\n",
    "# start= 5\n",
    "# step sign =+ve\n",
    "# end= stop-1= 20-1=19\n",
    "\n",
    "#==================== Obervation-2: answer is possibile==========\n",
    "\n",
    "\n",
    "#========== Observation-3 ===========\n",
    "#5  8  11 14  17  \n",
    "\n",
    "for i in range(5,20,3):\n",
    "    print(i,end=' ')"
   ]
  },
  {
   "cell_type": "code",
   "execution_count": 10,
   "id": "cd09fdc2",
   "metadata": {},
   "outputs": [
    {
     "name": "stdout",
     "output_type": "stream",
     "text": [
      "-5 -8 -11 -14 -17 "
     ]
    }
   ],
   "source": [
    "for i in range(-5,-20,-3):\n",
    "    print(i,end=' ')\n",
    "    \n",
    "# obs-1:\n",
    "# start= -5\n",
    "# step sign = -ve  ====== > decrement\n",
    "# end= stop+1= -20+1=-19\n",
    "\n",
    "# obs-2 : possibile\n",
    "# -5  -8  -11   -14    -17"
   ]
  },
  {
   "cell_type": "code",
   "execution_count": 11,
   "id": "5f11f10e",
   "metadata": {},
   "outputs": [],
   "source": [
    "for i in range(5,20,-3):\n",
    "    print(i,end=' ')\n",
    "    \n",
    "# obs-1\n",
    "# start=5\n",
    "# sign= -\n",
    "# end= stop+1 = 20+1 =21\n",
    "# 5           21\n",
    "\n",
    "# obs-2 : not possibile"
   ]
  },
  {
   "cell_type": "code",
   "execution_count": null,
   "id": "c3b5273d",
   "metadata": {},
   "outputs": [],
   "source": [
    "for i in range(5,20,3):\n",
    "    print(i,end=' ')\n",
    "    \n",
    "for i in range(-5,-20,-3):\n",
    "    print(i,end=' ')\n",
    "    \n",
    "for i in range(5,20,-3):\n",
    "    print(i,end=' ')"
   ]
  },
  {
   "cell_type": "code",
   "execution_count": null,
   "id": "d85ece52",
   "metadata": {},
   "outputs": [],
   "source": [
    "range(10,30,3) ========= possibile\n",
    "range(10,30,-3) =======  NP ======= > No answer\n",
    "range(10,-30,3) =======  NP======= > No answer\n",
    "range(10,-30,-3) ======  Possib\n",
    "range(-10,-30,-3) ====   P\n",
    "range(-10,-30,3)  =====  NP ======= > No error/ No answer\n",
    "range(-10,30,-3)  =====  NP ======= > No answer\n",
    "range(-10,30,3)   =====  p"
   ]
  },
  {
   "cell_type": "code",
   "execution_count": 13,
   "id": "0ecce2e0",
   "metadata": {},
   "outputs": [],
   "source": [
    "# start=10, dire=post, stop =30-1=29, step=3\n",
    "for i in range(10,30,-3):\n",
    "    print(i,end=' ')"
   ]
  },
  {
   "cell_type": "code",
   "execution_count": 14,
   "id": "7a2ce9ef",
   "metadata": {},
   "outputs": [],
   "source": [
    "for i in range(10,-30,3):\n",
    "    print(i,end=' ')"
   ]
  },
  {
   "cell_type": "code",
   "execution_count": 16,
   "id": "1c26396e",
   "metadata": {},
   "outputs": [
    {
     "name": "stdout",
     "output_type": "stream",
     "text": [
      "40 37 34 31 28 25 22 "
     ]
    }
   ],
   "source": [
    "for i in range(40,20,-3):\n",
    "    print(i,end=\" \")\n",
    "    \n",
    "#Not possible because reverse direction"
   ]
  },
  {
   "cell_type": "code",
   "execution_count": null,
   "id": "0cd98d00",
   "metadata": {},
   "outputs": [],
   "source": [
    "# WAP ask the user print first 10 square numbers\n",
    "# 1 to 10\n",
    "# 1  4   9  16  25  36  49  64  81  100"
   ]
  },
  {
   "cell_type": "code",
   "execution_count": 17,
   "id": "c5187ee6",
   "metadata": {},
   "outputs": [
    {
     "name": "stdout",
     "output_type": "stream",
     "text": [
      "The square of 1 is 1\n",
      "The square of 2 is 4\n",
      "The square of 3 is 9\n",
      "The square of 4 is 16\n",
      "The square of 5 is 25\n",
      "The square of 6 is 36\n",
      "The square of 7 is 49\n",
      "The square of 8 is 64\n",
      "The square of 9 is 81\n",
      "The square of 10 is 100\n"
     ]
    }
   ],
   "source": [
    "for i in range(1,11):\n",
    "    print(\"The square of {} is {}\".format(i,i*i))"
   ]
  },
  {
   "cell_type": "code",
   "execution_count": 18,
   "id": "04d51275",
   "metadata": {},
   "outputs": [
    {
     "name": "stdout",
     "output_type": "stream",
     "text": [
      "7 * 1 = 7\n",
      "7 * 2 = 14\n",
      "7 * 3 = 21\n",
      "7 * 4 = 28\n",
      "7 * 5 = 35\n",
      "7 * 6 = 42\n",
      "7 * 7 = 49\n",
      "7 * 8 = 56\n",
      "7 * 9 = 63\n",
      "7 * 10 = 70\n"
     ]
    }
   ],
   "source": [
    "# WAP to print 7th table 7x1=7  tp 7x10=70\n",
    "for i in range(1,11):\n",
    "    print(\"7 * {} = {}\".format(i,7*i))"
   ]
  },
  {
   "cell_type": "code",
   "execution_count": 19,
   "id": "b6ca66ae",
   "metadata": {},
   "outputs": [
    {
     "name": "stdout",
     "output_type": "stream",
     "text": [
      "7 14 21 28 35 42 49 56 63 70 "
     ]
    }
   ],
   "source": [
    "for i in range(1,11):\n",
    "    print(i*7,end=\" \")"
   ]
  },
  {
   "cell_type": "code",
   "execution_count": 22,
   "id": "d29fccb1",
   "metadata": {
    "scrolled": true
   },
   "outputs": [
    {
     "name": "stdout",
     "output_type": "stream",
     "text": [
      "The 7x1 is:7\n",
      "The 7x2 is:14\n",
      "The 7x3 is:21\n",
      "The 7x4 is:28\n",
      "The 7x5 is:35\n",
      "The 7x6 is:42\n",
      "The 7x7 is:49\n",
      "The 7x8 is:56\n",
      "The 7x9 is:63\n"
     ]
    }
   ],
   "source": [
    "for i in range(1,10):\n",
    "    print('The 7x{} is:{}'.format(i,i*7))"
   ]
  },
  {
   "cell_type": "code",
   "execution_count": 23,
   "id": "c042c2eb",
   "metadata": {},
   "outputs": [
    {
     "name": "stdout",
     "output_type": "stream",
     "text": [
      "7 *  1 = 7\n",
      "7 *  2 = 14\n",
      "7 *  3 = 21\n",
      "7 *  4 = 28\n",
      "7 *  5 = 35\n",
      "7 *  6 = 42\n",
      "7 *  7 = 49\n",
      "7 *  8 = 56\n",
      "7 *  9 = 63\n",
      "7 *  10 = 70\n"
     ]
    }
   ],
   "source": [
    "for i in range(1,11):\n",
    "    print(\"7 * \",i,\"=\",i*7)"
   ]
  },
  {
   "cell_type": "code",
   "execution_count": null,
   "id": "e60a3f78",
   "metadata": {},
   "outputs": [],
   "source": [
    "# WAP ask the user take random number between 1 to 100\n",
    "# and print sauqre of random numbr\n",
    "# and this operation to 5 times"
   ]
  },
  {
   "cell_type": "code",
   "execution_count": 29,
   "id": "ab7eedad",
   "metadata": {},
   "outputs": [
    {
     "data": {
      "text/plain": [
       "961"
      ]
     },
     "execution_count": 29,
     "metadata": {},
     "output_type": "execute_result"
    }
   ],
   "source": [
    "import random\n",
    "num=random.randint(1,100)\n",
    "sq_num=num*num\n",
    "sq_num"
   ]
  },
  {
   "cell_type": "code",
   "execution_count": 30,
   "id": "dcad96ba",
   "metadata": {},
   "outputs": [
    {
     "name": "stdout",
     "output_type": "stream",
     "text": [
      "0\n",
      "1\n",
      "2\n",
      "3\n",
      "4\n"
     ]
    }
   ],
   "source": [
    "for i in range(5):\n",
    "    \n",
    "    print(i)"
   ]
  },
  {
   "cell_type": "code",
   "execution_count": null,
   "id": "e9f31a93",
   "metadata": {},
   "outputs": [],
   "source": [
    "import random\n",
    "num=random.randint(1,100)\n",
    "for i in range(num,num+5):\n",
    "    print(i*i,end=' ')"
   ]
  },
  {
   "cell_type": "code",
   "execution_count": 32,
   "id": "6b0f598e",
   "metadata": {},
   "outputs": [
    {
     "name": "stdout",
     "output_type": "stream",
     "text": [
      "Square of 0 is=0\n",
      "Square of 1 is=1\n",
      "Square of 2 is=4\n",
      "Square of 3 is=9\n",
      "Square of 4 is=16\n"
     ]
    }
   ],
   "source": [
    "#import random\n",
    "#num=random.randint(1,100)\n",
    "for num in range(5):\n",
    "    #\n",
    "    print(\"Square of {} is={}\".format(num,num*num))"
   ]
  },
  {
   "cell_type": "code",
   "execution_count": 35,
   "id": "541e7edc",
   "metadata": {},
   "outputs": [
    {
     "name": "stdout",
     "output_type": "stream",
     "text": [
      "hello good\n",
      "hello good\n",
      "hello good\n",
      "hello good\n",
      "hello good\n"
     ]
    }
   ],
   "source": [
    "for i in range(5):\n",
    "    print('hello good')"
   ]
  },
  {
   "cell_type": "code",
   "execution_count": 38,
   "id": "cfd12a6e",
   "metadata": {},
   "outputs": [
    {
     "name": "stdout",
     "output_type": "stream",
     "text": [
      "The sqaure of 85 is 7225\n",
      "The sqaure of 98 is 9604\n",
      "The sqaure of 30 is 900\n",
      "The sqaure of 30 is 900\n",
      "The sqaure of 35 is 1225\n"
     ]
    }
   ],
   "source": [
    "import random\n",
    "for i in range(5):\n",
    "    num=random.randint(1,100)\n",
    "    print(\"The sqaure of {} is {}\".format(num,num*num))\n",
    "    \n",
    "    \n",
    "import random\n",
    "num=random.randint(1,100)\n",
    "sq_num=num*num\n",
    "sq_num"
   ]
  },
  {
   "cell_type": "code",
   "execution_count": null,
   "id": "6b94c235",
   "metadata": {},
   "outputs": [],
   "source": [
    "# For loop is just a jaint wheel\n",
    "#"
   ]
  },
  {
   "cell_type": "code",
   "execution_count": 1,
   "id": "8cb9de2d",
   "metadata": {},
   "outputs": [
    {
     "name": "stdout",
     "output_type": "stream",
     "text": [
      "hello\n",
      "hello\n",
      "hello\n",
      "hello\n",
      "hello\n"
     ]
    }
   ],
   "source": [
    "print('hello')\n",
    "print('hello')\n",
    "print('hello')\n",
    "print('hello')\n",
    "print('hello')\n",
    "\n",
    "# I want to run any code multiple times ====> loop"
   ]
  },
  {
   "cell_type": "code",
   "execution_count": 3,
   "id": "15c00174",
   "metadata": {},
   "outputs": [
    {
     "name": "stdout",
     "output_type": "stream",
     "text": [
      "hello\n",
      "hello\n",
      "hello\n",
      "hello\n",
      "hello\n"
     ]
    }
   ],
   "source": [
    "# my loop should run 5 times\n",
    "for i in range(5):\n",
    "    print('hello')"
   ]
  },
  {
   "cell_type": "code",
   "execution_count": 5,
   "id": "5df45688",
   "metadata": {},
   "outputs": [
    {
     "name": "stdout",
     "output_type": "stream",
     "text": [
      "60\n"
     ]
    }
   ],
   "source": [
    "# wap ask the user to get 5 random numbers ==== square\n",
    "import random\n",
    "num=random.randint(1,100)\n",
    "num=random.randint(1,100)\n",
    "num=random.randint(1,100)\n",
    "num=random.randint(1,100)\n",
    "num=random.randint(1,100)\n",
    "print(num)"
   ]
  },
  {
   "cell_type": "markdown",
   "id": "746e8a87",
   "metadata": {},
   "source": [
    "**Normal approach**"
   ]
  },
  {
   "cell_type": "code",
   "execution_count": 6,
   "id": "17a388ec",
   "metadata": {},
   "outputs": [
    {
     "name": "stdout",
     "output_type": "stream",
     "text": [
      "the square of 78 is 6084\n",
      "the square of 27 is 729\n",
      "the square of 93 is 8649\n",
      "the square of 97 is 9409\n",
      "the square of 99 is 9801\n"
     ]
    }
   ],
   "source": [
    "for i in range(5):\n",
    "    num=random.randint(1,100)\n",
    "    print(\"the square of {} is {}\".format(num,num*num))"
   ]
  },
  {
   "cell_type": "code",
   "execution_count": null,
   "id": "a78a17f4",
   "metadata": {},
   "outputs": [],
   "source": [
    "# WAP print the number is even or odd number\n",
    "# the numbers ranges from 10 to 40\n",
    "\n",
    "# do for loop ranges between 10,40\n",
    "# then perform if else concept"
   ]
  },
  {
   "cell_type": "code",
   "execution_count": 10,
   "id": "3683063a",
   "metadata": {},
   "outputs": [
    {
     "name": "stdout",
     "output_type": "stream",
     "text": [
      "10 an even number\n",
      "11 an odd number\n",
      "12 an even number\n",
      "13 an odd number\n",
      "14 an even number\n",
      "15 an odd number\n",
      "16 an even number\n",
      "17 an odd number\n",
      "18 an even number\n",
      "19 an odd number\n",
      "20 an even number\n",
      "21 an odd number\n",
      "22 an even number\n",
      "23 an odd number\n",
      "24 an even number\n",
      "25 an odd number\n",
      "26 an even number\n",
      "27 an odd number\n",
      "28 an even number\n",
      "29 an odd number\n",
      "30 an even number\n",
      "31 an odd number\n",
      "32 an even number\n",
      "33 an odd number\n",
      "34 an even number\n",
      "35 an odd number\n",
      "36 an even number\n",
      "37 an odd number\n",
      "38 an even number\n",
      "39 an odd number\n",
      "40 an even number\n"
     ]
    }
   ],
   "source": [
    "for i in range(10,41):\n",
    "    if i%2==0:\n",
    "        print('{} an even number'.format(i))\n",
    "    else:\n",
    "        print('{} an odd number'.format(i))"
   ]
  },
  {
   "cell_type": "markdown",
   "id": "e4ddc3a9",
   "metadata": {},
   "source": [
    "**With out argument**"
   ]
  },
  {
   "cell_type": "code",
   "execution_count": 13,
   "id": "b92d6078",
   "metadata": {},
   "outputs": [
    {
     "name": "stdout",
     "output_type": "stream",
     "text": [
      "20 an even number\n",
      "21 an odd number\n",
      "22 an even number\n",
      "23 an odd number\n",
      "24 an even number\n",
      "25 an odd number\n",
      "26 an even number\n",
      "27 an odd number\n",
      "28 an even number\n",
      "29 an odd number\n"
     ]
    }
   ],
   "source": [
    "# when you copied makes sure indeation should maintain\n",
    "# with out argument\n",
    "def even_odd():\n",
    "    for i in range(25,35,3):\n",
    "        if i%2==0:\n",
    "            print('{} an even number'.format(i))\n",
    "        else:\n",
    "            print('{} an odd number'.format(i))\n",
    "            \n",
    "even_odd()\n",
    "\n",
    "# Instead of changing numbers inside the code\n",
    "# we can provide those as arguments"
   ]
  },
  {
   "cell_type": "code",
   "execution_count": null,
   "id": "cc131e55",
   "metadata": {},
   "outputs": [],
   "source": []
  },
  {
   "cell_type": "markdown",
   "id": "5a873810",
   "metadata": {},
   "source": [
    "**With arguments**"
   ]
  },
  {
   "cell_type": "code",
   "execution_count": 14,
   "id": "abd07296",
   "metadata": {},
   "outputs": [
    {
     "name": "stdout",
     "output_type": "stream",
     "text": [
      "10 an even number\n",
      "11 an odd number\n",
      "12 an even number\n",
      "13 an odd number\n",
      "14 an even number\n"
     ]
    }
   ],
   "source": [
    "# With arguments\n",
    "def even_odd(start,stop,step):\n",
    "    for i in range(start,stop,step):\n",
    "        if i%2==0:\n",
    "            print('{} an even number'.format(i))\n",
    "        else:\n",
    "            print('{} an odd number'.format(i))\n",
    "            \n",
    "even_odd(10,15)"
   ]
  },
  {
   "cell_type": "markdown",
   "id": "00b116c9",
   "metadata": {},
   "source": [
    "**Global variable**"
   ]
  },
  {
   "cell_type": "code",
   "execution_count": 15,
   "id": "15fde941",
   "metadata": {},
   "outputs": [
    {
     "name": "stdout",
     "output_type": "stream",
     "text": [
      "enter stop value:20\n",
      "enter start value10\n",
      "10 an even number\n",
      "11 an odd number\n",
      "12 an even number\n",
      "13 an odd number\n",
      "14 an even number\n",
      "15 an odd number\n",
      "16 an even number\n",
      "17 an odd number\n",
      "18 an even number\n",
      "19 an odd number\n"
     ]
    }
   ],
   "source": [
    "# Global variable \n",
    "# I want to take start and stop from keyboard\n",
    "start=eval(input(\"enter start value:\")) # global variable\n",
    "stop=eval(input(\"enter stop value\")) # global variale\n",
    "\n",
    "def even_odd():  # parameters are not required\n",
    "    for i in range(start,stop):\n",
    "        if i%2==0:\n",
    "            print('{} an even number'.format(i))\n",
    "        else:\n",
    "            print('{} an odd number'.format(i))\n",
    "            \n",
    "even_odd()"
   ]
  },
  {
   "cell_type": "markdown",
   "id": "c79acb87",
   "metadata": {},
   "source": [
    "**Local variable**"
   ]
  },
  {
   "cell_type": "code",
   "execution_count": 16,
   "id": "b3e07658",
   "metadata": {},
   "outputs": [
    {
     "name": "stdout",
     "output_type": "stream",
     "text": [
      "enter start10\n",
      "enter stop15\n",
      "10 is even\n",
      "11 is odd\n",
      "12 is even\n",
      "13 is odd\n",
      "14 is even\n"
     ]
    }
   ],
   "source": [
    "# Local variable\n",
    "def oddeven():\n",
    "    a=eval(input(\"enter start\"))  # Local variable\n",
    "    b=eval(input(\"enter stop\"))   # local variable\n",
    "    for i in range (a,b):\n",
    "        if i%2==0:\n",
    "            print(\"{} is even\".format(i))\n",
    "        else:\n",
    "            print(\"{} is odd\".format(i))\n",
    "oddeven()"
   ]
  },
  {
   "cell_type": "code",
   "execution_count": null,
   "id": "997a7032",
   "metadata": {},
   "outputs": [],
   "source": [
    "start=eval(input(\"enter the value\"))\n",
    "stop=eval(input(\"enter the value\"))\n",
    "def fun():\n",
    "    for i in range(start,stop):\n",
    "        if i%2==0:\n",
    "            print(\"{} is an even number\".format(i))\n",
    "        else:\n",
    "            print(\"{} is odd number\".format(i))\n",
    "\n",
    "fun()"
   ]
  },
  {
   "cell_type": "code",
   "execution_count": 18,
   "id": "42d5e37a",
   "metadata": {},
   "outputs": [
    {
     "name": "stdout",
     "output_type": "stream",
     "text": [
      "enter stop value:15\n",
      "enter start value:10\n",
      "Given number 10 is even number\n",
      "Given number 11 is odd number\n",
      "Given number 12 is even number\n",
      "Given number 13 is odd number\n",
      "Given number 14 is even number\n"
     ]
    }
   ],
   "source": [
    "stop =eval(input(\"enter stop value:\"))\n",
    "start =eval(input(\"enter start value:\"))\n",
    "\n",
    "def evenodd():\n",
    "    for i in range(start,stop):\n",
    "        if i%2 == 0:\n",
    "            print(\"Given number {} is even number\". format(i))\n",
    "           \n",
    "        else:\n",
    "            print(\"Given number {} is odd number\". format(i))\n",
    "            \n",
    "evenodd()"
   ]
  },
  {
   "cell_type": "markdown",
   "id": "c10d39da",
   "metadata": {},
   "source": [
    "**Function in function**"
   ]
  },
  {
   "cell_type": "code",
   "execution_count": null,
   "id": "b05daa15",
   "metadata": {},
   "outputs": [],
   "source": [
    "# Global variable \n",
    "# I want to take start and stop from keyboard\n",
    "\n",
    "    start=eval(input(\"enter start value:\")) \n",
    "    stop=eval(input(\"enter stop value\")) \n",
    "    \n",
    "\n",
    "def even_odd():  # parameters are not required\n",
    "    for i in range(start,stop):\n",
    "        if i%2==0:\n",
    "            print('{} an even number'.format(i))\n",
    "        else:\n",
    "            print('{} an odd number'.format(i))\n",
    "            \n",
    "even_odd()"
   ]
  },
  {
   "cell_type": "code",
   "execution_count": 22,
   "id": "f851ac86",
   "metadata": {},
   "outputs": [
    {
     "name": "stdout",
     "output_type": "stream",
     "text": [
      "enter start value:20\n",
      "enter stop value30\n",
      "20 an even number\n",
      "21 an odd number\n",
      "22 an even number\n",
      "23 an odd number\n",
      "24 an even number\n",
      "25 an odd number\n",
      "26 an even number\n",
      "27 an odd number\n",
      "28 an even number\n",
      "29 an odd number\n"
     ]
    }
   ],
   "source": [
    "def get_values():\n",
    "    start=eval(input(\"enter start value:\")) \n",
    "    stop=eval(input(\"enter stop value\")) \n",
    "    return(start,stop)\n",
    "\n",
    "def even_odd():  \n",
    "    start,stop=get_values()\n",
    "    for i in range(start,stop):\n",
    "        if i%2==0:\n",
    "            print('{} an even number'.format(i))\n",
    "        else:\n",
    "            print('{} an odd number'.format(i))\n",
    "            \n",
    "even_odd()\n",
    "\n",
    "# step-1: it will call get_values()\n",
    "# step-2: start= enter the start values\n",
    "# step-3: stop value\n",
    "# for loop"
   ]
  },
  {
   "cell_type": "code",
   "execution_count": 21,
   "id": "5d27b456",
   "metadata": {},
   "outputs": [
    {
     "name": "stdout",
     "output_type": "stream",
     "text": [
      "enter start value:20\n",
      "enter stop value30\n"
     ]
    },
    {
     "data": {
      "text/plain": [
       "(20, 30)"
      ]
     },
     "execution_count": 21,
     "metadata": {},
     "output_type": "execute_result"
    }
   ],
   "source": [
    "def get_values():\n",
    "    start=eval(input(\"enter start value:\")) \n",
    "    stop=eval(input(\"enter stop value\")) \n",
    "    return(start,stop)\n",
    "\n",
    "get_values()"
   ]
  },
  {
   "cell_type": "code",
   "execution_count": 25,
   "id": "c7180ca7",
   "metadata": {},
   "outputs": [
    {
     "name": "stdout",
     "output_type": "stream",
     "text": [
      "enter start value:10\n",
      "enter stop value20\n"
     ]
    }
   ],
   "source": [
    "start=eval(input(\"enter start value:\")) \n",
    "stop=eval(input(\"enter stop value\"))"
   ]
  },
  {
   "cell_type": "code",
   "execution_count": null,
   "id": "735f0b58",
   "metadata": {},
   "outputs": [],
   "source": [
    "range((20,30))"
   ]
  },
  {
   "cell_type": "code",
   "execution_count": 24,
   "id": "52a471d3",
   "metadata": {},
   "outputs": [
    {
     "data": {
      "text/plain": [
       "(20, 30)"
      ]
     },
     "execution_count": 24,
     "metadata": {},
     "output_type": "execute_result"
    }
   ],
   "source": [
    "def values():\n",
    "    num1=20\n",
    "    num2=30\n",
    "    return(num1,num2)\n",
    "\n",
    "num1,num2=values()\n",
    "num1,num2"
   ]
  },
  {
   "cell_type": "code",
   "execution_count": null,
   "id": "ff6a8e2f",
   "metadata": {},
   "outputs": [],
   "source": [
    "# It will not come one day\n",
    "# You need to avoid the error\n",
    "# you need understand the concept\n",
    "# logics will come \n",
    "\n",
    "# It is okay if you are not able to create function in function\n",
    "# tryto understand the concept"
   ]
  },
  {
   "cell_type": "code",
   "execution_count": null,
   "id": "9c1c31fe",
   "metadata": {},
   "outputs": [],
   "source": []
  },
  {
   "cell_type": "code",
   "execution_count": 26,
   "id": "6212c119",
   "metadata": {},
   "outputs": [
    {
     "name": "stdout",
     "output_type": "stream",
     "text": [
      "hai\n",
      "hello\n",
      "good\n",
      "morning\n",
      "good\n",
      "morning\n",
      "good\n",
      "morning\n",
      "bye\n"
     ]
    }
   ],
   "source": [
    "print('hai')\n",
    "print('hello')\n",
    "for i in range(3):\n",
    "    print('good')\n",
    "    print('morning')\n",
    "    \n",
    "print('bye')\n",
    "\n",
    "# hai\n",
    "# hello\n",
    "# good\n",
    "# morning\n",
    "# good\n",
    "# morning\n",
    "# good\n",
    "# morning\n",
    "# bye"
   ]
  },
  {
   "cell_type": "code",
   "execution_count": 29,
   "id": "a6f73deb",
   "metadata": {},
   "outputs": [
    {
     "name": "stdout",
     "output_type": "stream",
     "text": [
      "42 is even\n"
     ]
    }
   ],
   "source": [
    "# WAP ask the user get a 10 random numbers between 1 to 100\n",
    "# and print it is an even or odd\n",
    "# first write normal code\n",
    "# keep that code in a loop\n",
    "# that loop should run 10 times\n",
    "\n",
    "n=random.randint(1,100)\n",
    "if n%2==0:\n",
    "    print(\"{} is even\".format(n))\n",
    "else:\n",
    "    print(\"{} is odd\".format(n))"
   ]
  },
  {
   "cell_type": "code",
   "execution_count": 30,
   "id": "190ad9e5",
   "metadata": {},
   "outputs": [
    {
     "name": "stdout",
     "output_type": "stream",
     "text": [
      "45 is odd\n",
      "48 is even\n",
      "42 is even\n",
      "18 is even\n",
      "1 is odd\n",
      "43 is odd\n",
      "49 is odd\n",
      "29 is odd\n",
      "85 is odd\n",
      "71 is odd\n"
     ]
    }
   ],
   "source": [
    "import random\n",
    "for n in range(10):\n",
    "    n=random.randint(1,100)\n",
    "    if n%2==0:\n",
    "        print(\"{} is even\".format(n))\n",
    "    else:\n",
    "        print(\"{} is odd\".format(n))"
   ]
  },
  {
   "cell_type": "code",
   "execution_count": null,
   "id": "f1203cf5",
   "metadata": {},
   "outputs": [],
   "source": [
    "# Game: Guessing\n",
    "# step-1: get a random number between 1 to 20  : num1\n",
    "# step-2: ask the user enter a number  : num2\n",
    "# step-3: if the num1==num2 : print( you won)\n",
    "# step-4: otherwise you lost\n",
    "# I will give only 3 chances\n",
    "# # step-2: ask the user enter a number  : num2\n",
    "#                           check the condition num1==num2"
   ]
  },
  {
   "cell_type": "code",
   "execution_count": null,
   "id": "96d1606d",
   "metadata": {},
   "outputs": [],
   "source": [
    "# num1= random.randint(1,20)\n",
    "# for i in range(3):\n",
    "#    num2=eval()\n",
    "#    if"
   ]
  },
  {
   "cell_type": "code",
   "execution_count": 31,
   "id": "14631647",
   "metadata": {},
   "outputs": [
    {
     "name": "stdout",
     "output_type": "stream",
     "text": [
      "Enetr u Value:4\n",
      "You Lost\n",
      "Enetr u Value:6\n",
      "You Lost\n",
      "Enetr u Value:7\n",
      "You Lost\n"
     ]
    }
   ],
   "source": [
    "import random\n",
    "n=random.randint(1,20)\n",
    "for i in range(3):\n",
    "    u=eval(input(\"Enetr u Value:\"))\n",
    "    if n==u:\n",
    "        print(\"You own\")\n",
    "    else:\n",
    "        print(\"You Lost\")"
   ]
  },
  {
   "cell_type": "code",
   "execution_count": 32,
   "id": "04398941",
   "metadata": {},
   "outputs": [
    {
     "name": "stdout",
     "output_type": "stream",
     "text": [
      "enter number: 2\n",
      "you lost\n",
      "enter number: 4\n",
      "you lost\n",
      "enter number: 7\n",
      "you lost\n"
     ]
    }
   ],
   "source": [
    "import random\n",
    "for i in range(3):\n",
    "    num1 = random.randint(1,20)\n",
    "    num2 = eval(input(\"enter number: \"))\n",
    "    if num1 == num2:\n",
    "        print(\"you won\")\n",
    "    else:\n",
    "        print(\"you lost\")"
   ]
  },
  {
   "cell_type": "code",
   "execution_count": null,
   "id": "6d8bd3ce",
   "metadata": {},
   "outputs": [],
   "source": []
  },
  {
   "cell_type": "code",
   "execution_count": null,
   "id": "5103035b",
   "metadata": {},
   "outputs": [],
   "source": [
    "import random\n",
    "\n",
    "for i in range(3):\n",
    "    num1=random.randint(1,20)\n",
    "    num2=eval()\n",
    "    if num1==num2:\n",
    "         print(\"{} is equal to {} and YOU WON\".format(num1,num2))\n",
    "    else:\n",
    "        print(\"{} is not equal to {} and YOU LOST\".format(num1,num2))"
   ]
  },
  {
   "cell_type": "code",
   "execution_count": 40,
   "id": "43a679b2",
   "metadata": {},
   "outputs": [
    {
     "name": "stdout",
     "output_type": "stream",
     "text": [
      "7\n",
      "enter the number: 8\n",
      "you lost\n",
      "enter the number: 9\n",
      "you lost\n",
      "enter the number: 6\n",
      "you lost\n"
     ]
    }
   ],
   "source": [
    "import random\n",
    "num1=random.randint(1,20)\n",
    "print(num1)\n",
    "for i in range(3):\n",
    "    num2=eval(input(\"enter the number: \"))\n",
    "    if num1==num2:\n",
    "        print(\"You won\")\n",
    "        break\n",
    "    else:\n",
    "        print('you lost')\n",
    "        # chances are left"
   ]
  },
  {
   "cell_type": "code",
   "execution_count": null,
   "id": "367bc4c0",
   "metadata": {},
   "outputs": [],
   "source": [
    "#how to write code if first time we are wrong it must return you got n-1 chances\n"
   ]
  },
  {
   "cell_type": "code",
   "execution_count": 41,
   "id": "2409934b",
   "metadata": {},
   "outputs": [
    {
     "name": "stdout",
     "output_type": "stream",
     "text": [
      "4\n",
      "You lost\n",
      "you have 0 chances left\n",
      "5\n",
      "You lost\n",
      "you have 1 chances left\n",
      "7\n",
      "You lost\n",
      "you have 2 chances left\n",
      "num1 is: 14\n"
     ]
    }
   ],
   "source": [
    "import random\n",
    "num1=random.randint(1,20)\n",
    "for i in range(3):\n",
    "    num2=eval(input())\n",
    "    if num2==num1:\n",
    "        print(\"You won\")\n",
    "        break   \n",
    "    else:\n",
    "        print(\"You lost\")\n",
    "        print(\"you have {} chances left\".format(i))\n",
    "print(\"num1 is:\",num1)"
   ]
  },
  {
   "cell_type": "code",
   "execution_count": 45,
   "id": "037e415f",
   "metadata": {},
   "outputs": [
    {
     "name": "stdout",
     "output_type": "stream",
     "text": [
      "enter the number of chances:4\n",
      "Enter the Numnber9\n",
      "13 is not equal to 9 and YOU LOST\n",
      " 3 is left \n",
      "Enter the Numnber9\n",
      "7 is not equal to 9 and YOU LOST\n",
      " 2 is left \n",
      "Enter the Numnber9\n",
      "14 is not equal to 9 and YOU LOST\n",
      " 1 is left \n",
      "Enter the Numnber9\n",
      "15 is not equal to 9 and YOU LOST\n",
      " 0 is left \n"
     ]
    }
   ],
   "source": [
    "import random\n",
    "chances=eval(input(\"enter the number of chances:\"))\n",
    "for i in range(chances):\n",
    "    num1=random.randint(1,15)\n",
    "    num2=eval(input(\"Enter the Numnber\"))\n",
    "    if num1==num2:\n",
    "        print(\"{} is equal to {} and YOU WON\".format(num1,num2))\n",
    "        break\n",
    "    else:\n",
    "        print(\"{} is not equal to {} and YOU LOST\".format(num1,num2))\n",
    "        print(\" {} is left \".format(chances-1-i))  # 3-1-0 =2"
   ]
  },
  {
   "cell_type": "code",
   "execution_count": null,
   "id": "34be5f1e",
   "metadata": {},
   "outputs": [],
   "source": [
    "import random\n",
    "try:\n",
    "    num1=random.randint(1,20)\n",
    "    \n",
    "    for i in range(3):\n",
    "        total_chances=3\n",
    "        num2=eval(input(\"Enter a number : \"))\n",
    "        if num1==num2:\n",
    "            print(\"You won\")\n",
    "            break\n",
    "        else:\n",
    "            print(\"You lost\")\n",
    "            print(\"{} attempt is left\".format(total_chances-1-i))\n",
    "            \n",
    "except Exception as e:\n",
    "    print(e)"
   ]
  },
  {
   "cell_type": "code",
   "execution_count": null,
   "id": "1f03c227",
   "metadata": {},
   "outputs": [],
   "source": [
    "import random\n",
    "n=eval(input(\"how many Chances you will give\"))\n",
    "num1 = random.randint(1,20)\n",
    "for i in range(3):\n",
    "    num2 = eval(input(\"enter number: \"))\n",
    "    if num1 == num2:\n",
    "        print(\"you won\")\n",
    "        break\n",
    "        \n",
    "    else:\n",
    "        print(\"you lost\")\n",
    "        print(\"{} chances left\".format(n-1-i))"
   ]
  },
  {
   "cell_type": "code",
   "execution_count": 47,
   "id": "f0feeb18",
   "metadata": {},
   "outputs": [
    {
     "name": "stdout",
     "output_type": "stream",
     "text": [
      "enter the number of chances:3\n",
      "Enter the Numnber2\n",
      "12 is not equal to 2 and YOU LOST\n",
      " 2 is left \n",
      "Enter the Numnber12\n",
      "12 is equal to 12 and YOU WON\n",
      "your all chances are over,better luck next time!\n"
     ]
    }
   ],
   "source": [
    "import random\n",
    "chances=eval(input(\"enter the number of chances:\"))\n",
    "num1=random.randint(1,15)\n",
    "for i in range(chances):\n",
    "    num2=eval(input(\"Enter the Numnber\"))\n",
    "    if num1==num2:\n",
    "        print(\"{} is equal to {} and YOU WON\".format(num1,num2))\n",
    "        break\n",
    "    else:\n",
    "        print(\"{} is not equal to {} and YOU LOST\".format(num1,num2))\n",
    "        print(\" {} is left \".format(chances-1-i))\n",
    "        \n",
    "print(\"your all chances are over,better luck next time!\") # problem"
   ]
  },
  {
   "cell_type": "code",
   "execution_count": 48,
   "id": "88f0aa95",
   "metadata": {},
   "outputs": [
    {
     "name": "stdout",
     "output_type": "stream",
     "text": [
      "how many Chances you will give3\n",
      "2\n",
      "enter number: 2\n",
      "you won\n",
      "All your chances are over!, Better Luck Next Time\n"
     ]
    }
   ],
   "source": [
    "import random\n",
    "chances=eval(input(\"how many Chances you will give\"))\n",
    "num1 = random.randint(1,20)\n",
    "print(num1)\n",
    "for i in range(chances):\n",
    "    num2 = eval(input(\"enter number: \"))\n",
    "    if num1 == num2:\n",
    "        print(\"you won\")\n",
    "        break\n",
    "        \n",
    "    else:\n",
    "        print(\"you lost\")\n",
    "        print(\"{} chances left\".format(chances-1-i))\n",
    "print(\"All your chances are over!, Better Luck Next Time\")"
   ]
  },
  {
   "cell_type": "code",
   "execution_count": null,
   "id": "56fb1b83",
   "metadata": {},
   "outputs": [],
   "source": [
    "# ============= Case-1: Guess program==================================\n",
    "import random\n",
    "n=random.randint(1,20)\n",
    "for i in range(3):\n",
    "    u=eval(input(\"Enetr u Value:\"))\n",
    "    if n==u:\n",
    "        print(\"You own\")\n",
    "    else:\n",
    "        print(\"You Lost\")\n",
    "#============= Case-2: No of chances printing==========================\n",
    "#============= case-3: take the chances from user======================\n",
    "import random\n",
    "chances=eval(input(\"enter the number of chances:\"))\n",
    "num1=random.randint(1,15)\n",
    "for i in range(chances):\n",
    "    num2=eval(input(\"Enter the Numnber\"))\n",
    "    if num1==num2:\n",
    "        print(\"{} is equal to {} and YOU WON\".format(num1,num2))\n",
    "        break\n",
    "    else:\n",
    "        print(\"{} is not equal to {} and YOU LOST\".format(num1,num2))\n",
    "        print(\" {} is left \".format(chances-1-i))  # 3-1-0 =2\n",
    "#============== Case-4: when chances are over better luck next time ===========\n",
    "import random\n",
    "n1 = random.randint(1,20)\n",
    "ch = 3\n",
    "print(n1)\n",
    "x=0\n",
    "for i in range(ch):\n",
    "    n2 = eval(input(\"Enter a number b/w 1-20:\"))\n",
    "    if (n1 == n2):\n",
    "        print (\"You Won\")\n",
    "        x=1\n",
    "        break\n",
    "    else:\n",
    "        print(\"You Lost\")\n",
    "        print(\"{} chances left\".format((ch-1)-i))\n",
    "if x==0 :\n",
    "    print(\"All chance are over better luck next time\")\n",
    "    \n",
    "    \n",
    "# m-2:\n",
    "import random\n",
    "try:\n",
    "    num1=random.randint(1,20)\n",
    "    \n",
    "    for chances in range(3):\n",
    "        total_chances=3\n",
    "        num2=eval(input(\"Enter a number : \"))\n",
    "        if num1==num2:\n",
    "            chances=total_chances-1\n",
    "            print(\"You won\")\n",
    "            break\n",
    "        else:\n",
    "            print(\"You lost\")\n",
    "            print(\"{} attempt is left\".format(total_chances-1-chances))\n",
    "            \n",
    "        if chances==total_chances-1:\n",
    "             print(\"You have lost, Better luck next time \")\n",
    "            \n",
    "       \n",
    "            \n",
    "except Exception as e:\n",
    "    print(e)"
   ]
  },
  {
   "cell_type": "code",
   "execution_count": 49,
   "id": "2aff69d9",
   "metadata": {},
   "outputs": [
    {
     "name": "stdout",
     "output_type": "stream",
     "text": [
      "enter the number of chances:4\n",
      "13\n",
      "entner a number:12\n",
      "you lost\n",
      "you have 3 chances\n",
      "your all chances re over better luck next time\n",
      "13\n",
      "entner a number:13\n",
      "you won\n"
     ]
    }
   ],
   "source": [
    "import random\n",
    "chances=eval(input('enter the number of chances:'))\n",
    "for i in range(chances):\n",
    "    n1=random.randint(1,20)\n",
    "    print(n1)\n",
    "    n2=eval(input('entner a number:'))\n",
    "    if n1==n2:\n",
    "        print('you won')\n",
    "        break\n",
    "    else:\n",
    "        print('you lost')\n",
    "        print('you have {} chances'.format(chances-1-i))\n",
    "        print('your all chances re over better luck next time')\n"
   ]
  },
  {
   "cell_type": "code",
   "execution_count": 50,
   "id": "d7e4d423",
   "metadata": {},
   "outputs": [
    {
     "name": "stdout",
     "output_type": "stream",
     "text": [
      "1\n",
      "Enter a number b/w 1-20:1\n",
      "You Won\n"
     ]
    }
   ],
   "source": [
    "import random\n",
    "n1 = random.randint(1,20)\n",
    "ch = 3\n",
    "print(n1)\n",
    "x=0\n",
    "for i in range(ch):\n",
    "    n2 = eval(input(\"Enter a number b/w 1-20:\"))\n",
    "    if (n1 == n2):\n",
    "        print (\"You Won\")\n",
    "        x=1\n",
    "        break\n",
    "    else:\n",
    "        print(\"You Lost\")\n",
    "        print(\"{} chances left\".format((ch-1)-i))\n",
    "if x==0 :\n",
    "    print(\"All chance are over better luck next time\")"
   ]
  },
  {
   "cell_type": "code",
   "execution_count": 51,
   "id": "6fc8617b",
   "metadata": {},
   "outputs": [
    {
     "name": "stdout",
     "output_type": "stream",
     "text": [
      "Enter a number : 4\n",
      "You lost\n",
      "2 attempt is left\n",
      "Enter a number : 6\n",
      "You lost\n",
      "1 attempt is left\n",
      "Enter a number : 8\n",
      "You lost\n",
      "0 attempt is left\n",
      "You have lost, Better luck next time \n"
     ]
    }
   ],
   "source": [
    "import random\n",
    "try:\n",
    "    num1=random.randint(1,20)\n",
    "    \n",
    "    for chances in range(3):\n",
    "        total_chances=3\n",
    "        num2=eval(input(\"Enter a number : \"))\n",
    "        if num1==num2:\n",
    "            chances=total_chances-1\n",
    "            print(\"You won\")\n",
    "            break\n",
    "        else:\n",
    "            print(\"You lost\")\n",
    "            print(\"{} attempt is left\".format(total_chances-1-chances))\n",
    "            \n",
    "        if chances==total_chances-1:\n",
    "             print(\"You have lost, Better luck next time \")\n",
    "            \n",
    "       \n",
    "            \n",
    "except Exception as e:\n",
    "    print(e)"
   ]
  },
  {
   "cell_type": "code",
   "execution_count": null,
   "id": "bc4b0dbb",
   "metadata": {},
   "outputs": [],
   "source": [
    "# Exercise: For loop implementaion ===== functions \n",
    "# Exercise: Guess a game code with 4 use cases\n",
    "\n",
    "# Practice today session "
   ]
  },
  {
   "cell_type": "code",
   "execution_count": null,
   "id": "16f3af68",
   "metadata": {},
   "outputs": [],
   "source": [
    "# Find the sum of first 10 natural numbers \n",
    "# natural: countable\n"
   ]
  },
  {
   "cell_type": "code",
   "execution_count": null,
   "id": "38a35675",
   "metadata": {},
   "outputs": [],
   "source": [
    "i=1\n",
    "i=2     +  1 = 3\n",
    "i=3     +  3=6\n",
    "i=4     +  6=10\n",
    "i=5\n",
    "i=6\n",
    "i=7\n",
    "i=8\n",
    "i=9\n",
    "i=10"
   ]
  },
  {
   "cell_type": "code",
   "execution_count": 7,
   "id": "a3bbe74f",
   "metadata": {},
   "outputs": [
    {
     "name": "stdout",
     "output_type": "stream",
     "text": [
      "The sum of first 10 natural numbers are: 55\n"
     ]
    }
   ],
   "source": [
    "sum1=0\n",
    "for i in range(1,11):   # i=2\n",
    "    sum1=sum1+i         # sum1=1+2=3\n",
    "    \n",
    "print(\"The sum of first 10 natural numbers are:\",sum1) # out of the loop\n",
    "    \n",
    "# if you keep different variable    \n",
    "# step-1:    sum1=0   i=1    new sum1= 0+1=1\n",
    "# step-2:    sum1=1   i=2        sum1=1+2=3\n",
    "# step-3:    sum1=3   i=3        sum1=3+3=6\n",
    "# step-4:    sum1=6   i=4        sum1=6+4=10    ====>   sum1= (sum1)+i"
   ]
  },
  {
   "cell_type": "code",
   "execution_count": null,
   "id": "8f99fab9",
   "metadata": {},
   "outputs": [],
   "source": [
    "# WAP ask the user to find a number is an even number and odd number\n",
    "# between 1 to 100\n",
    "# this time count the number of even numbers and odd numbers"
   ]
  },
  {
   "cell_type": "code",
   "execution_count": null,
   "id": "f32dfbde",
   "metadata": {},
   "outputs": [],
   "source": [
    "1   2    3\n",
    "1+2=3\n",
    "3+3=6   your mind is storing and updating the values\n",
    "we will use only one variable to store an update the value"
   ]
  },
  {
   "cell_type": "code",
   "execution_count": 12,
   "id": "f9456836",
   "metadata": {},
   "outputs": [
    {
     "name": "stdout",
     "output_type": "stream",
     "text": [
      " the total number of even numbers are 50\n",
      " The total number of odd numbers are  50\n"
     ]
    }
   ],
   "source": [
    "count_e=0    \n",
    "count_o=0\n",
    "for i in range(1,101):\n",
    "    if i%2 ==0:  \n",
    "        count_e = count_e+1     # Instead of printing even ==== we are just counting \n",
    "    else:\n",
    "        count_o=count_o+1       # instead of printing odd ==== we are counting\n",
    "print(\" the total number of even numbers are\", count_e)\n",
    "print(\" The total number of odd numbers are \",count_o)"
   ]
  },
  {
   "cell_type": "code",
   "execution_count": null,
   "id": "d7279907",
   "metadata": {},
   "outputs": [],
   "source": [
    "you are seeing only 3 even numbers\n",
    "you display  i counted 4 even numbers"
   ]
  },
  {
   "cell_type": "code",
   "execution_count": null,
   "id": "80ac70a5",
   "metadata": {},
   "outputs": [],
   "source": [
    "sir we dont have to take a variable count for counting\n",
    "count=1\n",
    "0\n",
    "0+1=1\n",
    "1+1=2\n",
    "2+1=3\n",
    "3+1=4\n",
    "4+1=5\n",
    "5+1=6\n",
    "\n",
    "(vary)+1\n",
    "\n",
    "sai=sai+1"
   ]
  },
  {
   "cell_type": "code",
   "execution_count": null,
   "id": "904b07f3",
   "metadata": {},
   "outputs": [],
   "source": [
    "# wap ask get a 20 random number between 1 to 100  #  20 times\n",
    "# count the number of values which are greater than 50 and less than 90\n",
    "# which are between 50 and 90\n",
    "\n",
    "\n",
    "# you need to get the count out of 20 number how many numbers are betwenn 50 and 90"
   ]
  },
  {
   "cell_type": "code",
   "execution_count": 19,
   "id": "9ccbc7f5",
   "metadata": {},
   "outputs": [
    {
     "name": "stdout",
     "output_type": "stream",
     "text": [
      "the total number between 50 to 90:  0\n"
     ]
    }
   ],
   "source": [
    "import random\n",
    "num=random.randint(1,100) # random is outside\n",
    "count=0\n",
    "for num in range(20):\n",
    "    if 50<num and num<90:     \n",
    "         count=count+1\n",
    "        \n",
    "print(\"the total number between 50 to 90: \",count)"
   ]
  },
  {
   "cell_type": "code",
   "execution_count": 22,
   "id": "52fcca9f",
   "metadata": {},
   "outputs": [
    {
     "name": "stdout",
     "output_type": "stream",
     "text": [
      "invalid number\n",
      "invalid number\n",
      "invalid number\n",
      "invalid number\n",
      "Numbers between 50 and 90: 10\n",
      "Numbers less than 50 : 5\n"
     ]
    }
   ],
   "source": [
    "import random\n",
    "\n",
    "numGt50 = 0\n",
    "numLt50 = 0\n",
    "i = 1\n",
    "for i in range (1,20):  #19\n",
    "    num = random.randint(1, 100)\n",
    "    \n",
    "    if(num >50 and num < 90):\n",
    "        numGt50 = numGt50 +1\n",
    "    elif(num < 50):\n",
    "        numLt50 = numLt50 +1\n",
    "    else:\n",
    "        print(\"invalid number\")   # 4 are more than 90\n",
    "\n",
    "print(\"Numbers between 50 and 90:\", numGt50)\n",
    "print(\"Numbers less than 50 :\", numLt50)"
   ]
  },
  {
   "cell_type": "code",
   "execution_count": null,
   "id": "90c19937",
   "metadata": {},
   "outputs": [],
   "source": [
    "# first remove try-except\n",
    "# you are return the values under exception\n",
    "\n",
    "# what is the use exception:  to capture the error\n",
    "\n",
    "# in try block if you get the error====== exception\n",
    "# in try block there is no error ====== > try block will execute\n",
    "\n",
    "# return(c,d) under exception\n",
    "\n",
    "# remove try-exception run the code\n",
    "# keep exact code inside try block\n"
   ]
  },
  {
   "cell_type": "markdown",
   "id": "89d08d24",
   "metadata": {},
   "source": [
    "$in-operator$"
   ]
  },
  {
   "cell_type": "code",
   "execution_count": 23,
   "id": "0349df50",
   "metadata": {},
   "outputs": [
    {
     "data": {
      "text/plain": [
       "True"
      ]
     },
     "execution_count": 23,
     "metadata": {},
     "output_type": "execute_result"
    }
   ],
   "source": [
    "'b' in 'banana'"
   ]
  },
  {
   "cell_type": "code",
   "execution_count": 25,
   "id": "c8c467fa",
   "metadata": {},
   "outputs": [
    {
     "data": {
      "text/plain": [
       "False"
      ]
     },
     "execution_count": 25,
     "metadata": {},
     "output_type": "execute_result"
    }
   ],
   "source": [
    "name='python'\n",
    "\n",
    "'p' in name   # T\n",
    "'y' in name   # T\n",
    "'t' in name   # T\n",
    "'o' in name   # T\n",
    "'n' in name   # T\n",
    "'P' in name   # F"
   ]
  },
  {
   "cell_type": "code",
   "execution_count": 26,
   "id": "a747edbd",
   "metadata": {},
   "outputs": [
    {
     "data": {
      "text/plain": [
       "True"
      ]
     },
     "execution_count": 26,
     "metadata": {},
     "output_type": "execute_result"
    }
   ],
   "source": [
    "'py' in name"
   ]
  },
  {
   "cell_type": "code",
   "execution_count": 27,
   "id": "c456ae33",
   "metadata": {},
   "outputs": [
    {
     "data": {
      "text/plain": [
       "False"
      ]
     },
     "execution_count": 27,
     "metadata": {},
     "output_type": "execute_result"
    }
   ],
   "source": [
    "'pt' in name"
   ]
  },
  {
   "cell_type": "code",
   "execution_count": 28,
   "id": "e2c79a5f",
   "metadata": {},
   "outputs": [
    {
     "data": {
      "text/plain": [
       "True"
      ]
     },
     "execution_count": 28,
     "metadata": {},
     "output_type": "execute_result"
    }
   ],
   "source": [
    "'on' in name  # name='python'"
   ]
  },
  {
   "cell_type": "code",
   "execution_count": null,
   "id": "2d735252",
   "metadata": {},
   "outputs": [],
   "source": [
    "name='python'\n",
    "\n",
    "'p' in name   # T\n",
    "'y' in name   # T\n",
    "'t' in name   # T\n",
    "'o' in name   # T\n",
    "'n' in name   # T\n",
    "\n",
    "# generlised expression\n",
    "# what is vary and what is common\n",
    "\n",
    "# i in name"
   ]
  },
  {
   "cell_type": "code",
   "execution_count": 29,
   "id": "cd620686",
   "metadata": {},
   "outputs": [
    {
     "name": "stdout",
     "output_type": "stream",
     "text": [
      "p\n",
      "y\n",
      "t\n",
      "h\n",
      "o\n",
      "n\n"
     ]
    }
   ],
   "source": [
    "name='python'\n",
    "\n",
    "for i in name:\n",
    "    print(i)"
   ]
  },
  {
   "cell_type": "markdown",
   "id": "6fe8211a",
   "metadata": {},
   "source": [
    "# range ======= numbers\n",
    "# in ========== strings\n",
    "# eval ======== numbers\n",
    "# input ======= strings"
   ]
  },
  {
   "cell_type": "code",
   "execution_count": null,
   "id": "a939e15c",
   "metadata": {},
   "outputs": [],
   "source": [
    "# wap ask the user enter a your name : omkar\n",
    "# count the number of letters :  using for loop and in operator\n",
    "# if the count>5 : print(you have lengthy name)\n",
    "# else:print(you have small name)\n",
    "\n",
    "# in operator\n",
    "# loop\n",
    "# counter\n",
    "# conditional"
   ]
  },
  {
   "cell_type": "code",
   "execution_count": 35,
   "id": "ea9247d6",
   "metadata": {},
   "outputs": [
    {
     "name": "stdout",
     "output_type": "stream",
     "text": [
      "1 p\n",
      "2 y\n",
      "3 t\n",
      "4 h\n",
      "5 o\n",
      "6 n\n",
      "total count: 6\n",
      "it is a lengthy name\n"
     ]
    }
   ],
   "source": [
    "name='python'\n",
    "\n",
    "count=0\n",
    "for i in name:\n",
    "    count=count+1\n",
    "    print(count,i)\n",
    "    \n",
    "print(\"total count:\",count)\n",
    "\n",
    "if count>=5:print(\"it is a lengthy name\") # side by side also \n",
    "else:print(\"it is a small name\")"
   ]
  },
  {
   "cell_type": "code",
   "execution_count": 36,
   "id": "d504cc4a",
   "metadata": {},
   "outputs": [
    {
     "name": "stdout",
     "output_type": "stream",
     "text": [
      "enter your namepythona\n",
      "number of a 1\n"
     ]
    }
   ],
   "source": [
    "name = input(\"enter your name\")\n",
    "NumOfA = 0\n",
    "\n",
    "for i in name:\n",
    "    if 'a' == i: NumOfA = NumOfA +1\n",
    "print(\"number of a\", NumOfA)"
   ]
  },
  {
   "cell_type": "code",
   "execution_count": 37,
   "id": "d4c322c8",
   "metadata": {},
   "outputs": [
    {
     "name": "stdout",
     "output_type": "stream",
     "text": [
      "Enter your name:aaaaa\n",
      "a letter in your name: 1\n"
     ]
    }
   ],
   "source": [
    "name_1=input(\"Enter your name:\")\n",
    "for i in name_1:\n",
    "    if i=='a':\n",
    "        count=0\n",
    "        count=count+1\n",
    "print(\"a letter in your name:\",count)"
   ]
  },
  {
   "cell_type": "code",
   "execution_count": null,
   "id": "e912217a",
   "metadata": {},
   "outputs": [],
   "source": [
    "# wap ask the user enter your name : python  \n",
    "# iterate your name with loop\n",
    "# check the condition if i=='a': count it\n",
    "# print how many letter 'a' are there in your name\n",
    "\n",
    "# Mobin\n",
    "# DB\n",
    "# Saurabh\n",
    "# Anil\n",
    "# Swetha\n",
    "# Kishore\n",
    "# Azeez\n",
    "# Saud\n",
    "# Vikas\n",
    "# Harikrishna\n",
    "# Sibaprasad\n",
    "# Tarun\n",
    "# Jyotsna\n",
    "# santhosh\n",
    "# Karim\n",
    "# srinivas"
   ]
  },
  {
   "cell_type": "code",
   "execution_count": null,
   "id": "4f332aff",
   "metadata": {},
   "outputs": [],
   "source": [
    "I will upload solution\n",
    "check the solution ask me\n",
    "\n",
    "sibaprasd in the group\n",
    "group pls help sibaprasad\n",
    "Thank you!"
   ]
  },
  {
   "cell_type": "code",
   "execution_count": null,
   "id": "96104a51",
   "metadata": {},
   "outputs": [],
   "source": []
  },
  {
   "cell_type": "code",
   "execution_count": null,
   "id": "f124a939",
   "metadata": {},
   "outputs": [],
   "source": [
    "- Range \n",
    "\n",
    "- in concept\n"
   ]
  },
  {
   "cell_type": "code",
   "execution_count": null,
   "id": "722a432d",
   "metadata": {},
   "outputs": [],
   "source": [
    "'a'  # ascii \n",
    "\n",
    "A=65\n",
    "a=97"
   ]
  },
  {
   "cell_type": "markdown",
   "id": "cf725e3a",
   "metadata": {},
   "source": [
    "$ord$"
   ]
  },
  {
   "cell_type": "code",
   "execution_count": 2,
   "id": "34526647",
   "metadata": {},
   "outputs": [
    {
     "data": {
      "text/plain": [
       "65"
      ]
     },
     "execution_count": 2,
     "metadata": {},
     "output_type": "execute_result"
    }
   ],
   "source": [
    "ord('A')"
   ]
  },
  {
   "cell_type": "code",
   "execution_count": 3,
   "id": "82c0c2af",
   "metadata": {},
   "outputs": [
    {
     "data": {
      "text/plain": [
       "False"
      ]
     },
     "execution_count": 3,
     "metadata": {},
     "output_type": "execute_result"
    }
   ],
   "source": [
    "'Apple'>'apple'\n",
    "\n",
    "# 'A': 65\n",
    "# 'a': 97\n",
    "# 65>97"
   ]
  },
  {
   "cell_type": "code",
   "execution_count": 6,
   "id": "ccf4d80d",
   "metadata": {},
   "outputs": [
    {
     "data": {
      "text/plain": [
       "False"
      ]
     },
     "execution_count": 6,
     "metadata": {},
     "output_type": "execute_result"
    }
   ],
   "source": [
    "'Apple'>'Bat'\n",
    "\n",
    "# 'A'=65    'B'=66\n",
    "#  65>66  False"
   ]
  },
  {
   "cell_type": "code",
   "execution_count": 5,
   "id": "62280e2d",
   "metadata": {},
   "outputs": [
    {
     "data": {
      "text/plain": [
       "(65, 66)"
      ]
     },
     "execution_count": 5,
     "metadata": {},
     "output_type": "execute_result"
    }
   ],
   "source": [
    "ord('A'),ord('B')"
   ]
  },
  {
   "cell_type": "code",
   "execution_count": 9,
   "id": "5638a4ec",
   "metadata": {},
   "outputs": [
    {
     "data": {
      "text/plain": [
       "True"
      ]
     },
     "execution_count": 9,
     "metadata": {},
     "output_type": "execute_result"
    }
   ],
   "source": [
    "'Apple'>'APPLE'\n",
    "\n",
    "# 'A'   'A'  leave it\n",
    "#  'p'   'P'\n",
    "# 112>80"
   ]
  },
  {
   "cell_type": "code",
   "execution_count": 8,
   "id": "736c7c96",
   "metadata": {},
   "outputs": [
    {
     "data": {
      "text/plain": [
       "(112, 80)"
      ]
     },
     "execution_count": 8,
     "metadata": {},
     "output_type": "execute_result"
    }
   ],
   "source": [
    "ord('p'),ord('P')"
   ]
  },
  {
   "cell_type": "code",
   "execution_count": 13,
   "id": "fef20054",
   "metadata": {},
   "outputs": [
    {
     "data": {
      "text/plain": [
       "True"
      ]
     },
     "execution_count": 13,
     "metadata": {},
     "output_type": "execute_result"
    }
   ],
   "source": [
    "'Sufiyn' >'SUfiyn'\n",
    "\n",
    "# which word is greater\n",
    "# A SCII: American starndard code information interchanfe\n",
    "# A: 65     a=97\n",
    "# B:66\n",
    "# C=67"
   ]
  },
  {
   "cell_type": "code",
   "execution_count": 11,
   "id": "8bbc909b",
   "metadata": {},
   "outputs": [
    {
     "data": {
      "text/plain": [
       "(83, 115)"
      ]
     },
     "execution_count": 11,
     "metadata": {},
     "output_type": "execute_result"
    }
   ],
   "source": [
    "ord('S'),ord('s')"
   ]
  },
  {
   "cell_type": "markdown",
   "id": "ef46c5b4",
   "metadata": {},
   "source": [
    "$chr$"
   ]
  },
  {
   "cell_type": "code",
   "execution_count": 15,
   "id": "495fac03",
   "metadata": {},
   "outputs": [
    {
     "data": {
      "text/plain": [
       "('A', 65)"
      ]
     },
     "execution_count": 15,
     "metadata": {},
     "output_type": "execute_result"
    }
   ],
   "source": [
    "chr(65),ord('A')"
   ]
  },
  {
   "cell_type": "code",
   "execution_count": null,
   "id": "4be41d94",
   "metadata": {},
   "outputs": [],
   "source": [
    "# Case-1: use for loop 20 to 200\n",
    "# ASCII : where it will start I dont knwo\n",
    "#         where it will end\n",
    "# chr(1)\n",
    "# chr(2)"
   ]
  },
  {
   "cell_type": "code",
   "execution_count": 18,
   "id": "863c567e",
   "metadata": {},
   "outputs": [
    {
     "name": "stdout",
     "output_type": "stream",
     "text": [
      "A\n",
      "B\n"
     ]
    }
   ],
   "source": [
    "print(chr(65))\n",
    "print(chr(66))"
   ]
  },
  {
   "cell_type": "code",
   "execution_count": null,
   "id": "138d9533",
   "metadata": {},
   "outputs": [],
   "source": [
    "# output\n",
    "# asccii starting\n",
    "#  1-----?\n",
    "#  31----?\n",
    "#  65----->A\n",
    "#  66---->B\n",
    "#  ending"
   ]
  },
  {
   "cell_type": "code",
   "execution_count": 19,
   "id": "eaff9417",
   "metadata": {},
   "outputs": [
    {
     "name": "stdout",
     "output_type": "stream",
     "text": [
      "1\n",
      "2\n",
      "3\n",
      "4\n",
      "5\n",
      "6\n",
      "7\n",
      "8\n",
      "9\n",
      "10\n",
      "11\n",
      "12\n",
      "13\n",
      "14\n",
      "15\n",
      "16\n",
      "17\n",
      "18\n",
      "19\n",
      "20\n",
      "21\n",
      "22\n",
      "23\n",
      "24\n",
      "25\n",
      "26\n",
      "27\n",
      "28\n",
      "29\n",
      "30\n",
      "31\n",
      "32\n",
      "33\n",
      "34\n",
      "35\n",
      "36\n",
      "37\n",
      "38\n",
      "39\n",
      "40\n",
      "41\n",
      "42\n",
      "43\n",
      "44\n",
      "45\n",
      "46\n",
      "47\n",
      "48\n",
      "49\n",
      "50\n",
      "51\n",
      "52\n",
      "53\n",
      "54\n",
      "55\n",
      "56\n",
      "57\n",
      "58\n",
      "59\n",
      "60\n",
      "61\n",
      "62\n",
      "63\n",
      "64\n",
      "65\n",
      "66\n",
      "67\n",
      "68\n",
      "69\n",
      "70\n",
      "71\n",
      "72\n",
      "73\n",
      "74\n",
      "75\n",
      "76\n",
      "77\n",
      "78\n",
      "79\n",
      "80\n",
      "81\n",
      "82\n",
      "83\n",
      "84\n",
      "85\n",
      "86\n",
      "87\n",
      "88\n",
      "89\n",
      "90\n",
      "91\n",
      "92\n",
      "93\n",
      "94\n",
      "95\n",
      "96\n",
      "97\n",
      "98\n",
      "99\n"
     ]
    }
   ],
   "source": [
    "for i in range(1,100):\n",
    "    print(i)"
   ]
  },
  {
   "cell_type": "code",
   "execution_count": 24,
   "id": "688cf20e",
   "metadata": {},
   "outputs": [
    {
     "name": "stdout",
     "output_type": "stream",
     "text": [
      "33 ------> !\n",
      "34 ------> \"\n",
      "35 ------> #\n",
      "36 ------> $\n",
      "37 ------> %\n",
      "38 ------> &\n",
      "39 ------> '\n",
      "40 ------> (\n",
      "41 ------> )\n",
      "42 ------> *\n",
      "43 ------> +\n",
      "44 ------> ,\n",
      "45 ------> -\n",
      "46 ------> .\n",
      "47 ------> /\n",
      "48 ------> 0\n",
      "49 ------> 1\n",
      "50 ------> 2\n",
      "51 ------> 3\n",
      "52 ------> 4\n",
      "53 ------> 5\n",
      "54 ------> 6\n",
      "55 ------> 7\n",
      "56 ------> 8\n",
      "57 ------> 9\n",
      "58 ------> :\n",
      "59 ------> ;\n",
      "60 ------> <\n",
      "61 ------> =\n",
      "62 ------> >\n",
      "63 ------> ?\n",
      "64 ------> @\n",
      "65 ------> A\n",
      "66 ------> B\n",
      "67 ------> C\n",
      "68 ------> D\n",
      "69 ------> E\n",
      "70 ------> F\n",
      "71 ------> G\n",
      "72 ------> H\n",
      "73 ------> I\n",
      "74 ------> J\n",
      "75 ------> K\n",
      "76 ------> L\n",
      "77 ------> M\n",
      "78 ------> N\n",
      "79 ------> O\n",
      "80 ------> P\n",
      "81 ------> Q\n",
      "82 ------> R\n",
      "83 ------> S\n",
      "84 ------> T\n",
      "85 ------> U\n",
      "86 ------> V\n",
      "87 ------> W\n",
      "88 ------> X\n",
      "89 ------> Y\n",
      "90 ------> Z\n",
      "91 ------> [\n",
      "92 ------> \\\n",
      "93 ------> ]\n",
      "94 ------> ^\n",
      "95 ------> _\n",
      "96 ------> `\n",
      "97 ------> a\n",
      "98 ------> b\n",
      "99 ------> c\n",
      "100 ------> d\n",
      "101 ------> e\n",
      "102 ------> f\n",
      "103 ------> g\n",
      "104 ------> h\n",
      "105 ------> i\n",
      "106 ------> j\n",
      "107 ------> k\n",
      "108 ------> l\n",
      "109 ------> m\n",
      "110 ------> n\n",
      "111 ------> o\n",
      "112 ------> p\n",
      "113 ------> q\n",
      "114 ------> r\n",
      "115 ------> s\n",
      "116 ------> t\n",
      "117 ------> u\n",
      "118 ------> v\n",
      "119 ------> w\n",
      "120 ------> x\n",
      "121 ------> y\n",
      "122 ------> z\n",
      "123 ------> {\n",
      "124 ------> |\n",
      "125 ------> }\n",
      "126 ------> ~\n"
     ]
    }
   ],
   "source": [
    "for i in range(33,127):\n",
    "    print(i,'------>',chr(i))    # step-1:  1,chr(1)  2,chr(2)"
   ]
  },
  {
   "cell_type": "code",
   "execution_count": null,
   "id": "44569d1a",
   "metadata": {},
   "outputs": [],
   "source": [
    "# Do the same reverse task for capital letters A to Z\n",
    "# in operator"
   ]
  },
  {
   "cell_type": "code",
   "execution_count": 25,
   "id": "a7135390",
   "metadata": {},
   "outputs": [
    {
     "ename": "NameError",
     "evalue": "name 'A' is not defined",
     "output_type": "error",
     "traceback": [
      "\u001b[1;31m---------------------------------------------------------------------------\u001b[0m",
      "\u001b[1;31mNameError\u001b[0m                                 Traceback (most recent call last)",
      "Cell \u001b[1;32mIn[25], line 1\u001b[0m\n\u001b[1;32m----> 1\u001b[0m \u001b[38;5;28;01mfor\u001b[39;00m i \u001b[38;5;129;01min\u001b[39;00m \u001b[38;5;28mrange\u001b[39m(A,Z):\n\u001b[0;32m      2\u001b[0m     \u001b[38;5;28mprint\u001b[39m(i,\u001b[38;5;28mord\u001b[39m(i))\n",
      "\u001b[1;31mNameError\u001b[0m: name 'A' is not defined"
     ]
    }
   ],
   "source": [
    "for i in range(A,Z):\n",
    "    print(i,ord(i))"
   ]
  },
  {
   "cell_type": "code",
   "execution_count": 28,
   "id": "03e3fcd0",
   "metadata": {},
   "outputs": [
    {
     "name": "stdout",
     "output_type": "stream",
     "text": [
      "a ---> 97\n",
      "b ---> 98\n",
      "c ---> 99\n",
      "d ---> 100\n",
      "e ---> 101\n",
      "f ---> 102\n",
      "g ---> 103\n",
      "h ---> 104\n",
      "i ---> 105\n",
      "j ---> 106\n",
      "k ---> 107\n",
      "l ---> 108\n",
      "m ---> 109\n",
      "n ---> 110\n",
      "o ---> 111\n",
      "p ---> 112\n",
      "q ---> 113\n",
      "r ---> 114\n",
      "s ---> 115\n",
      "t ---> 116\n",
      "u ---> 117\n",
      "v ---> 118\n",
      "w ---> 119\n",
      "x ---> 120\n",
      "y ---> 121\n",
      "z ---> 122\n"
     ]
    }
   ],
   "source": [
    "for i in 'abcdefghijklmnopqrstuvwxyz':\n",
    "    print(i,\"--->\",ord(i))"
   ]
  },
  {
   "cell_type": "code",
   "execution_count": 29,
   "id": "0d58e359",
   "metadata": {},
   "outputs": [
    {
     "name": "stdout",
     "output_type": "stream",
     "text": [
      "a 97\n",
      "b 98\n",
      "C 67\n",
      "D 68\n"
     ]
    }
   ],
   "source": [
    "for i in 'a','b','C','D':\n",
    "    print(i,ord(i))"
   ]
  },
  {
   "cell_type": "code",
   "execution_count": 30,
   "id": "2c7495b2",
   "metadata": {},
   "outputs": [
    {
     "name": "stdout",
     "output_type": "stream",
     "text": [
      "A 65\n",
      "B 66\n",
      "C 67\n",
      "D 68\n",
      "E 69\n",
      "F 70\n",
      "G 71\n",
      "H 72\n",
      "I 73\n",
      "J 74\n",
      "K 75\n",
      "L 76\n",
      "M 77\n",
      "N 78\n",
      "O 79\n",
      "P 80\n",
      "Q 81\n",
      "R 82\n",
      "S 83\n",
      "T 84\n",
      "U 85\n",
      "V 86\n",
      "W 87\n",
      "X 88\n",
      "Y 89\n",
      "Z 90\n"
     ]
    }
   ],
   "source": [
    "for i in 'ABCDEFGHIJKLMNOPQRSTUVWXYZ':\n",
    "    print(i,ord(i))\n",
    "    \n",
    "for i in range(65,97):\n",
    "    print(i,chr(i))"
   ]
  },
  {
   "cell_type": "markdown",
   "id": "4767cc83",
   "metadata": {},
   "source": [
    "**Package-Name**: string"
   ]
  },
  {
   "cell_type": "code",
   "execution_count": 33,
   "id": "6fcdae00",
   "metadata": {},
   "outputs": [],
   "source": [
    "import string"
   ]
  },
  {
   "cell_type": "code",
   "execution_count": null,
   "id": "0b86e95d",
   "metadata": {},
   "outputs": [],
   "source": [
    "# step-1: apply dir\n",
    "# step-2: understand the method name  (with out __version__) \n",
    "# step-3: try to use the method name"
   ]
  },
  {
   "cell_type": "code",
   "execution_count": null,
   "id": "0d09877e",
   "metadata": {},
   "outputs": [],
   "source": [
    "# import <package_name>\n",
    "# dir(package_name)\n",
    "# help(<package_name>.<method_name>)\n",
    "# package_name.method_name\n",
    "#'ABCDEFGHIJKLMONOPQRSTUVWXYZ' : \n",
    "# 'abc----z'\n",
    "#'012---9'\n",
    "#'!@$#%^&*()'"
   ]
  },
  {
   "cell_type": "code",
   "execution_count": 35,
   "id": "68e9ccaa",
   "metadata": {},
   "outputs": [
    {
     "name": "stdout",
     "output_type": "stream",
     "text": [
      "ABCDEFGHIJKLMNOPQRSTUVWXYZ\n",
      "abcdefghijklmnopqrstuvwxyz\n"
     ]
    }
   ],
   "source": [
    "print(string.ascii_uppercase)\n",
    "print(string.ascii_lowercase)"
   ]
  },
  {
   "cell_type": "code",
   "execution_count": 36,
   "id": "6575093c",
   "metadata": {},
   "outputs": [
    {
     "name": "stdout",
     "output_type": "stream",
     "text": [
      "A 65\n",
      "B 66\n",
      "C 67\n",
      "D 68\n",
      "E 69\n",
      "F 70\n",
      "G 71\n",
      "H 72\n",
      "I 73\n",
      "J 74\n",
      "K 75\n",
      "L 76\n",
      "M 77\n",
      "N 78\n",
      "O 79\n",
      "P 80\n",
      "Q 81\n",
      "R 82\n",
      "S 83\n",
      "T 84\n",
      "U 85\n",
      "V 86\n",
      "W 87\n",
      "X 88\n",
      "Y 89\n",
      "Z 90\n"
     ]
    }
   ],
   "source": [
    "for i in string.ascii_uppercase:\n",
    "    print(i,ord(i))"
   ]
  },
  {
   "cell_type": "code",
   "execution_count": 38,
   "id": "ba56a041",
   "metadata": {},
   "outputs": [
    {
     "data": {
      "text/plain": [
       "'A'"
      ]
     },
     "execution_count": 38,
     "metadata": {},
     "output_type": "execute_result"
    }
   ],
   "source": [
    "string.capwords('a')  # capitalise the word"
   ]
  },
  {
   "cell_type": "code",
   "execution_count": 39,
   "id": "194353bc",
   "metadata": {},
   "outputs": [
    {
     "ename": "TypeError",
     "evalue": "'str' object cannot be interpreted as an integer",
     "output_type": "error",
     "traceback": [
      "\u001b[1;31m---------------------------------------------------------------------------\u001b[0m",
      "\u001b[1;31mTypeError\u001b[0m                                 Traceback (most recent call last)",
      "Cell \u001b[1;32mIn[39], line 3\u001b[0m\n\u001b[0;32m      1\u001b[0m \u001b[38;5;28;01mimport\u001b[39;00m \u001b[38;5;21;01mstring\u001b[39;00m\n\u001b[0;32m      2\u001b[0m \u001b[38;5;28;01mfor\u001b[39;00m i \u001b[38;5;129;01min\u001b[39;00m string\u001b[38;5;241m.\u001b[39mprintable:\n\u001b[1;32m----> 3\u001b[0m     \u001b[38;5;28mprint\u001b[39m(i, \u001b[38;5;28mord\u001b[39m(i), \u001b[38;5;28mchr\u001b[39m(i))\n",
      "\u001b[1;31mTypeError\u001b[0m: 'str' object cannot be interpreted as an integer"
     ]
    }
   ],
   "source": [
    "import string\n",
    "for i in string.printable:\n",
    "    print(i, ord(i), chr(i))"
   ]
  },
  {
   "cell_type": "code",
   "execution_count": 40,
   "id": "1d62212b",
   "metadata": {},
   "outputs": [
    {
     "data": {
      "text/plain": [
       "'0123456789abcdefghijklmnopqrstuvwxyzABCDEFGHIJKLMNOPQRSTUVWXYZ!\"#$%&\\'()*+,-./:;<=>?@[\\\\]^_`{|}~ \\t\\n\\r\\x0b\\x0c'"
      ]
     },
     "execution_count": 40,
     "metadata": {},
     "output_type": "execute_result"
    }
   ],
   "source": [
    "string.printable"
   ]
  },
  {
   "cell_type": "code",
   "execution_count": null,
   "id": "3a2d160d",
   "metadata": {},
   "outputs": [],
   "source": [
    "if condition on each letter type ===== ord\n",
    "else:                                  chr\n",
    "    \n",
    "idea is good\n"
   ]
  }
 ],
 "metadata": {
  "kernelspec": {
   "display_name": "Python 3 (ipykernel)",
   "language": "python",
   "name": "python3"
  },
  "language_info": {
   "codemirror_mode": {
    "name": "ipython",
    "version": 3
   },
   "file_extension": ".py",
   "mimetype": "text/x-python",
   "name": "python",
   "nbconvert_exporter": "python",
   "pygments_lexer": "ipython3",
   "version": "3.11.5"
  }
 },
 "nbformat": 4,
 "nbformat_minor": 5
}
