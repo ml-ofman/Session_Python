{
 "cells": [
  {
   "cell_type": "markdown",
   "id": "ebbd2bfe",
   "metadata": {},
   "source": [
    "**Q)WAP to add two numbers**"
   ]
  },
  {
   "cell_type": "code",
   "execution_count": 1,
   "id": "2c28fa62",
   "metadata": {},
   "outputs": [
    {
     "name": "stdout",
     "output_type": "stream",
     "text": [
      "the addition of 100 and 200 is 300\n"
     ]
    }
   ],
   "source": [
    "number1=100\n",
    "number2=200\n",
    "add=number1+number2\n",
    "print(\"the addition of {} and {} is {}\".format(number1,number2,add))"
   ]
  },
  {
   "cell_type": "markdown",
   "id": "b67b41a6",
   "metadata": {},
   "source": [
    "**Q)Wap ask the user enter a number by using keyboard**"
   ]
  },
  {
   "cell_type": "markdown",
   "id": "a2823ce9",
   "metadata": {},
   "source": [
    "$input$"
   ]
  },
  {
   "cell_type": "code",
   "execution_count": 4,
   "id": "92d01692",
   "metadata": {},
   "outputs": [
    {
     "name": "stdout",
     "output_type": "stream",
     "text": [
      "100\n"
     ]
    },
    {
     "data": {
      "text/plain": [
       "'100'"
      ]
     },
     "execution_count": 4,
     "metadata": {},
     "output_type": "execute_result"
    }
   ],
   "source": [
    "input()  # input from the keyboard"
   ]
  },
  {
   "cell_type": "code",
   "execution_count": 6,
   "id": "353bc323",
   "metadata": {},
   "outputs": [
    {
     "name": "stdout",
     "output_type": "stream",
     "text": [
      "enter a number:100\n"
     ]
    },
    {
     "data": {
      "text/plain": [
       "'100'"
      ]
     },
     "execution_count": 6,
     "metadata": {},
     "output_type": "execute_result"
    }
   ],
   "source": [
    "input(\"enter a number:\")"
   ]
  },
  {
   "cell_type": "code",
   "execution_count": 7,
   "id": "926300b6",
   "metadata": {},
   "outputs": [
    {
     "name": "stdout",
     "output_type": "stream",
     "text": [
      "enter your name:python\n"
     ]
    },
    {
     "data": {
      "text/plain": [
       "'python'"
      ]
     },
     "execution_count": 7,
     "metadata": {},
     "output_type": "execute_result"
    }
   ],
   "source": [
    "input(\"enter your name:\")"
   ]
  },
  {
   "cell_type": "code",
   "execution_count": 8,
   "id": "684396e8",
   "metadata": {},
   "outputs": [
    {
     "data": {
      "text/plain": [
       "'100200'"
      ]
     },
     "execution_count": 8,
     "metadata": {},
     "output_type": "execute_result"
    }
   ],
   "source": [
    "'100'+'200'"
   ]
  },
  {
   "cell_type": "markdown",
   "id": "78956c0b",
   "metadata": {},
   "source": [
    "$Note$\n",
    "\n",
    "**key board will give string format only**"
   ]
  },
  {
   "cell_type": "code",
   "execution_count": 9,
   "id": "335bdbf2",
   "metadata": {},
   "outputs": [
    {
     "name": "stdout",
     "output_type": "stream",
     "text": [
      "enter a number1:100\n",
      "enter a number2:200\n",
      "the addition of 100 and 200 is 100200\n"
     ]
    }
   ],
   "source": [
    "number1=input(\"enter a number1:\") # step-1: it will ask the number1='100'\n",
    "number2=input(\"enter a number2:\") # step-2: it will ask the number2='200'\n",
    "add=number1+number2               # '100'+'200'='100200'\n",
    "print(\"the addition of {} and {} is {}\".format(number1,number2,add))"
   ]
  },
  {
   "cell_type": "code",
   "execution_count": null,
   "id": "2368d77e",
   "metadata": {},
   "outputs": [],
   "source": [
    "a='100'\n",
    "int(a)"
   ]
  },
  {
   "cell_type": "code",
   "execution_count": 10,
   "id": "ecc1b777",
   "metadata": {},
   "outputs": [
    {
     "name": "stdout",
     "output_type": "stream",
     "text": [
      "enter a number1:100\n",
      "enter a number2:200\n",
      "the addition of 100 and 200 is 300\n"
     ]
    }
   ],
   "source": [
    "number1=input(\"enter a number1:\") # step-1: it will ask the number1='100'\n",
    "number2=input(\"enter a number2:\") # step-2: it will ask the number2='200'\n",
    "add=int(number1)+int(number2)               # int('100')+int('200')=100+200=300\n",
    "print(\"the addition of {} and {} is {}\".format(number1,number2,add))"
   ]
  },
  {
   "cell_type": "code",
   "execution_count": null,
   "id": "c2bb91d4",
   "metadata": {},
   "outputs": [],
   "source": [
    "# ----------------------case-1:---------------------------------\n",
    "number1=100   # manually we provided value 100\n",
    "number2=200   # manually we provided value 200\n",
    "add=number1+number2 # 100+200 =300\n",
    "print(\"the addition of {} and {} is {}\".format(number1,number2,add))\n",
    "\n",
    "#------------------ case-2-------------------------------------\n",
    "number1=input(\"enter a number1:\") # step-1: it will ask the number1='100'\n",
    "number2=input(\"enter a number2:\") # step-2: it will ask the number2='200'\n",
    "add=number1+number2               # '100'+'200'='100200'\n",
    "print(\"the addition of {} and {} is {}\".format(number1,number2,add))\n",
    "\n",
    "#---------------- case-3(type casting)-----------------------------------------------\n",
    "number1=input(\"enter a number1:\") # step-1: it will ask the number1='100'\n",
    "number2=input(\"enter a number2:\") # step-2: it will ask the number2='200'\n",
    "add=int(number1)+int(number2)               # int('100')+int('200')=100+200=300\n",
    "print(\"the addition of {} and {} is {}\".format(number1,number2,add))"
   ]
  },
  {
   "cell_type": "code",
   "execution_count": 11,
   "id": "d3a6b5b9",
   "metadata": {},
   "outputs": [
    {
     "name": "stdout",
     "output_type": "stream",
     "text": [
      "enter a number1:100\n",
      "enter a number2:200\n",
      "the addition of 100 and 200 is 300\n"
     ]
    }
   ],
   "source": [
    "#---------------- case-4(type casting)-----------------------------------------------\n",
    "number1=int(input(\"enter a number1:\")) # step-1: it will ask the number1=int('100')=100\n",
    "number2=int(input(\"enter a number2:\")) # step-2: it will ask the number2=int('200')=200\n",
    "add=number1+number2               # 100+200=300\n",
    "print(\"the addition of {} and {} is {}\".format(number1,number2,add))"
   ]
  },
  {
   "cell_type": "code",
   "execution_count": 1,
   "id": "d9e534c5",
   "metadata": {},
   "outputs": [
    {
     "name": "stdout",
     "output_type": "stream",
     "text": [
      "the addition of 100.5 and 200 is 300.5\n"
     ]
    }
   ],
   "source": [
    "number1=100.5   # type = float\n",
    "number2=200   # type= integer\n",
    "add=number1+number2 # 100.5+200 =300.5\n",
    "print(\"the addition of {} and {} is {}\".format(number1,number2,add))"
   ]
  },
  {
   "cell_type": "code",
   "execution_count": 4,
   "id": "bb0a8509",
   "metadata": {},
   "outputs": [
    {
     "name": "stdout",
     "output_type": "stream",
     "text": [
      "enter a number1:100.5\n"
     ]
    },
    {
     "data": {
      "text/plain": [
       "100.5"
      ]
     },
     "execution_count": 4,
     "metadata": {},
     "output_type": "execute_result"
    }
   ],
   "source": [
    "number1=float(input(\"enter a number1:\"))\n",
    "number1"
   ]
  },
  {
   "cell_type": "code",
   "execution_count": 5,
   "id": "50779b70",
   "metadata": {},
   "outputs": [
    {
     "name": "stdout",
     "output_type": "stream",
     "text": [
      "enter a number1:100.5\n"
     ]
    },
    {
     "ename": "ValueError",
     "evalue": "invalid literal for int() with base 10: '100.5'",
     "output_type": "error",
     "traceback": [
      "\u001b[1;31m---------------------------------------------------------------------------\u001b[0m",
      "\u001b[1;31mValueError\u001b[0m                                Traceback (most recent call last)",
      "Cell \u001b[1;32mIn[5], line 1\u001b[0m\n\u001b[1;32m----> 1\u001b[0m number2\u001b[38;5;241m=\u001b[39m\u001b[38;5;28mint\u001b[39m(\u001b[38;5;28minput\u001b[39m(\u001b[38;5;124m\"\u001b[39m\u001b[38;5;124menter a number1:\u001b[39m\u001b[38;5;124m\"\u001b[39m))\n\u001b[0;32m      2\u001b[0m number2\n",
      "\u001b[1;31mValueError\u001b[0m: invalid literal for int() with base 10: '100.5'"
     ]
    }
   ],
   "source": [
    "number2=int(input(\"enter a number1:\"))\n",
    "number2"
   ]
  },
  {
   "cell_type": "code",
   "execution_count": 8,
   "id": "ae93d739",
   "metadata": {},
   "outputs": [
    {
     "data": {
      "text/plain": [
       "100.5555"
      ]
     },
     "execution_count": 8,
     "metadata": {},
     "output_type": "execute_result"
    }
   ],
   "source": [
    "float('100.5555')"
   ]
  },
  {
   "cell_type": "code",
   "execution_count": 22,
   "id": "6f82adc4",
   "metadata": {},
   "outputs": [
    {
     "name": "stdout",
     "output_type": "stream",
     "text": [
      "enter n1:100.5\n"
     ]
    },
    {
     "ename": "ValueError",
     "evalue": "invalid literal for int() with base 10: '100.5'",
     "output_type": "error",
     "traceback": [
      "\u001b[1;31m---------------------------------------------------------------------------\u001b[0m",
      "\u001b[1;31mValueError\u001b[0m                                Traceback (most recent call last)",
      "Cell \u001b[1;32mIn[22], line 1\u001b[0m\n\u001b[1;32m----> 1\u001b[0m n1\u001b[38;5;241m=\u001b[39m\u001b[38;5;28mint\u001b[39m(\u001b[38;5;28minput\u001b[39m(\u001b[38;5;124m\"\u001b[39m\u001b[38;5;124menter n1:\u001b[39m\u001b[38;5;124m\"\u001b[39m))\n\u001b[0;32m      2\u001b[0m n2\u001b[38;5;241m=\u001b[39m\u001b[38;5;28mfloat\u001b[39m(\u001b[38;5;28minput\u001b[39m(\u001b[38;5;124m\"\u001b[39m\u001b[38;5;124menter n2:\u001b[39m\u001b[38;5;124m\"\u001b[39m))\n\u001b[0;32m      3\u001b[0m n1\u001b[38;5;241m+\u001b[39mn2\n",
      "\u001b[1;31mValueError\u001b[0m: invalid literal for int() with base 10: '100.5'"
     ]
    }
   ],
   "source": [
    "n1=int(input(\"enter n1:\")) # this will fail if we do not provide integer values\n",
    "n2=float(input(\"enter n2:\"))\n",
    "n1+n2\n",
    "\n",
    "# we need to keep in mind\n",
    "# always if i want to provide integer value type cast: int\n",
    "#        if i want to provide float value type cast: float\n",
    "#        if i provide by mistake int('100.5') ===== error\n",
    "#        to aviod this we go for eval concept"
   ]
  },
  {
   "cell_type": "markdown",
   "id": "06e84119",
   "metadata": {},
   "source": [
    "$eval$\n",
    "\n",
    "**evaluate**"
   ]
  },
  {
   "cell_type": "code",
   "execution_count": 23,
   "id": "0eb3be64",
   "metadata": {},
   "outputs": [
    {
     "name": "stdout",
     "output_type": "stream",
     "text": [
      "enter n1:100.5\n",
      "enter n2:100\n",
      "the addition of 100.5 and 100 is 200.5\n"
     ]
    }
   ],
   "source": [
    "n1=eval(input(\"enter n1:\"))\n",
    "n2=eval(input(\"enter n2:\"))\n",
    "print(\"the addition of {} and {} is {}\".format(n1,n2,n1+n2))"
   ]
  },
  {
   "cell_type": "code",
   "execution_count": 24,
   "id": "b433bded",
   "metadata": {},
   "outputs": [
    {
     "name": "stdout",
     "output_type": "stream",
     "text": [
      "enter n1:100.5\n",
      "enter n2:200\n",
      "the addition of 100.5 and 200 is 300.5\n"
     ]
    }
   ],
   "source": [
    "n1=input(\"enter n1:\")  # step-1: n1='100.5'\n",
    "n2=input(\"enter n2:\")  # step-2: n2='200'\n",
    "print(\"the addition of {} and {} is {}\".format(n1,n2,eval(n1)+eval(n2)))"
   ]
  },
  {
   "cell_type": "code",
   "execution_count": null,
   "id": "d7108cab",
   "metadata": {},
   "outputs": [],
   "source": [
    "n1=input(\"enter n1:\") #n1='100.5'\n",
    "n2=input(\"enter n2:\") #n2='200'\n",
    "eval(n1+n2) # ('100.5'+'200'='100.5200')====> \n",
    "eval(n1)+eval(n2)# eval('100.5')+eval('200')\n",
    "                 #  100.5+200=300.5"
   ]
  },
  {
   "cell_type": "code",
   "execution_count": 25,
   "id": "29e33184",
   "metadata": {},
   "outputs": [
    {
     "name": "stdout",
     "output_type": "stream",
     "text": [
      "enter n1:100\n",
      "enter n2:200\n"
     ]
    },
    {
     "data": {
      "text/plain": [
       "100200"
      ]
     },
     "execution_count": 25,
     "metadata": {},
     "output_type": "execute_result"
    }
   ],
   "source": [
    "n1=input(\"enter n1:\") #n1='100.5'\n",
    "n2=input(\"enter n2:\") #n2='200'\n",
    "eval(n1+n2)"
   ]
  },
  {
   "cell_type": "code",
   "execution_count": 26,
   "id": "aa8b2dca",
   "metadata": {},
   "outputs": [
    {
     "name": "stdout",
     "output_type": "stream",
     "text": [
      "enter n1:100\n",
      "enter n2:200\n"
     ]
    },
    {
     "data": {
      "text/plain": [
       "300"
      ]
     },
     "execution_count": 26,
     "metadata": {},
     "output_type": "execute_result"
    }
   ],
   "source": [
    "n1=input(\"enter n1:\") #n1='100.5'\n",
    "n2=input(\"enter n2:\") #n2='200'\n",
    "eval(n1)+eval(n2)"
   ]
  },
  {
   "cell_type": "markdown",
   "id": "cde92bd3",
   "metadata": {},
   "source": [
    "**Q) wap ask the user enter two numbers**\n",
    "\n",
    "- n1= from user 100\n",
    "\n",
    "- n2= from keyboard 200\n",
    "\n",
    "- the addition of 100 and 200 is 300\n",
    "\n",
    "- the subtraction of 100 and 200 is -100\n",
    "\n",
    "- the multiplication of 100 and 200 is 2000"
   ]
  },
  {
   "cell_type": "code",
   "execution_count": 31,
   "id": "bf4c10a3",
   "metadata": {},
   "outputs": [
    {
     "name": "stdout",
     "output_type": "stream",
     "text": [
      "enter n1:100\n",
      "enter n2:200.5\n",
      "the addition of 100  and  200.5 is : 300.5\n",
      "the subraction of 100  and  200.5 is : -100.5\n",
      "the multiplication of 100  and  200.5 is : 20050.0\n"
     ]
    }
   ],
   "source": [
    "num1=eval(input(\"enter n1:\"))  # step-1:  int('100.5')  ===== error\n",
    "num2=eval(input(\"enter n2:\"))\n",
    "ans= num1+num2\n",
    "sub = num1-num2\n",
    "mul= num1*num2\n",
    "print(\"the addition of {}  and  {} is : {}\".format(num1,num2,ans))\n",
    "print(\"the subraction of {}  and  {} is : {}\".format(num1,num2,sub))\n",
    "print(\"the multiplication of {}  and  {} is : {}\".format(num1,num2,mul))"
   ]
  },
  {
   "cell_type": "markdown",
   "id": "ad8bafc2",
   "metadata": {},
   "source": [
    "WAP ask the key board enter 3 numbers\n",
    "\n",
    "- and find the average\n",
    "- if a,b,c are three numbers then average is (a+b+c)/3"
   ]
  },
  {
   "cell_type": "code",
   "execution_count": 32,
   "id": "a2d732e1",
   "metadata": {},
   "outputs": [
    {
     "ename": "TypeError",
     "evalue": "sum() takes at most 2 arguments (3 given)",
     "output_type": "error",
     "traceback": [
      "\u001b[1;31m---------------------------------------------------------------------------\u001b[0m",
      "\u001b[1;31mTypeError\u001b[0m                                 Traceback (most recent call last)",
      "Cell \u001b[1;32mIn[32], line 1\u001b[0m\n\u001b[1;32m----> 1\u001b[0m \u001b[38;5;28msum\u001b[39m(\u001b[38;5;241m1\u001b[39m,\u001b[38;5;241m2\u001b[39m,\u001b[38;5;241m3\u001b[39m)\n",
      "\u001b[1;31mTypeError\u001b[0m: sum() takes at most 2 arguments (3 given)"
     ]
    }
   ],
   "source": [
    "sum(1,2,3)"
   ]
  },
  {
   "cell_type": "code",
   "execution_count": 38,
   "id": "6f071b91",
   "metadata": {},
   "outputs": [
    {
     "name": "stdout",
     "output_type": "stream",
     "text": [
      "enter first number:2\n",
      "enter second number:3\n",
      "enter third number:5\n",
      "the original value before round off: 3.3333333333333335\n",
      "the average of 2,3 and 5 is 3.33\n"
     ]
    }
   ],
   "source": [
    "n1 = eval(input(\"enter first number:\"))\n",
    "n2 = eval(input(\"enter second number:\"))\n",
    "n3 = eval(input(\"enter third number:\"))\n",
    "average=(n1+n2+n3)/3\n",
    "final_avg=round(average,2)\n",
    "print(\"the original value before round off:\",average)\n",
    "print(\"the average of {},{} and {} is {}\".format(n1,n2,n3,final_avg))\n"
   ]
  },
  {
   "cell_type": "code",
   "execution_count": null,
   "id": "c2627b14",
   "metadata": {},
   "outputs": [],
   "source": [
    "12/2  # division\n",
    "12%2  # modulus \n",
    "12//2 # floor division"
   ]
  },
  {
   "cell_type": "markdown",
   "id": "6ff03941",
   "metadata": {},
   "source": [
    "$division$\n",
    "\n",
    "- will provide normal division values"
   ]
  },
  {
   "cell_type": "code",
   "execution_count": 45,
   "id": "8112c6b4",
   "metadata": {},
   "outputs": [
    {
     "data": {
      "text/plain": [
       "2.4"
      ]
     },
     "execution_count": 45,
     "metadata": {},
     "output_type": "execute_result"
    }
   ],
   "source": [
    "12/5  # why 2.4"
   ]
  },
  {
   "cell_type": "markdown",
   "id": "3caf8875",
   "metadata": {},
   "source": [
    "$modulus$\n",
    "\n",
    "- it will provide reminder"
   ]
  },
  {
   "cell_type": "code",
   "execution_count": 46,
   "id": "957e7bf5",
   "metadata": {},
   "outputs": [
    {
     "data": {
      "text/plain": [
       "2"
      ]
     },
     "execution_count": 46,
     "metadata": {},
     "output_type": "execute_result"
    }
   ],
   "source": [
    "12%5  # why 2"
   ]
  },
  {
   "cell_type": "markdown",
   "id": "c35af56a",
   "metadata": {},
   "source": [
    "$floor$ $division$:\n",
    "    \n",
    "- qutioent"
   ]
  },
  {
   "cell_type": "code",
   "execution_count": 47,
   "id": "9d9b7d88",
   "metadata": {},
   "outputs": [
    {
     "data": {
      "text/plain": [
       "2"
      ]
     },
     "execution_count": 47,
     "metadata": {},
     "output_type": "execute_result"
    }
   ],
   "source": [
    "12//5 # why 2"
   ]
  },
  {
   "cell_type": "markdown",
   "id": "121c6cff",
   "metadata": {},
   "source": [
    "**Q)WAP ask the user to enter**\n",
    "\n",
    "- enter bill amount\n",
    "\n",
    "- enter tip amount\n",
    "\n",
    "- find total amount"
   ]
  },
  {
   "cell_type": "code",
   "execution_count": 48,
   "id": "d7db075d",
   "metadata": {},
   "outputs": [
    {
     "name": "stdout",
     "output_type": "stream",
     "text": [
      "enter the bill:1000\n",
      "enter the tip:100\n",
      "The total amount is: 1100\n"
     ]
    }
   ],
   "source": [
    "# WAP ask the user to enter\n",
    "# bill amount\n",
    "bill_amount=eval(input(\"enter the bill:\"))\n",
    "# tip amount\n",
    "tip_amount=eval(input(\"enter the tip:\"))\n",
    "# total amount\n",
    "total_amount=bill_amount+tip_amount\n",
    "print(\"The total amount is:\",total_amount)"
   ]
  },
  {
   "cell_type": "markdown",
   "id": "0403871b",
   "metadata": {},
   "source": [
    "**Q)WAP ask the user to enter**\n",
    "\n",
    "- enter bill amount\n",
    "\n",
    "- enter tip percent\n",
    "\n",
    "- find total amount"
   ]
  },
  {
   "cell_type": "code",
   "execution_count": 49,
   "id": "50a261b4",
   "metadata": {},
   "outputs": [
    {
     "name": "stdout",
     "output_type": "stream",
     "text": [
      "enter bill amount:1000\n",
      "enter tip percentage:20\n",
      "total bill is: 1200.0\n"
     ]
    }
   ],
   "source": [
    "# Wap ask the user enter\n",
    "# bill amount   1000\n",
    "# tip percentage on the bill (10% tip on the bill amount)\n",
    "# how much percentage of tip want to give:10\n",
    "# total amount=?\n",
    "\n",
    "bill_amount=eval(input(\"enter bill amount:\"))\n",
    "tip_per=eval(input(\"enter tip percentage:\"))\n",
    "tip_amount=(bill_amount*tip_per)/100\n",
    "total=bill_amount+tip_amount\n",
    "print(\"total bill is:\",total)"
   ]
  },
  {
   "cell_type": "markdown",
   "id": "41385aed",
   "metadata": {},
   "source": [
    "**Q)WAP ask the user enter Dollars**\n",
    "\n",
    "- input: how many dollars you want to pay : 100\n",
    "        \n",
    "- Manager will say: print('no dollars are not accepted')\n",
    "    \n",
    "- You: print(\"then what will accepted\")\n",
    "    \n",
    "- Manager:  print(\"only indian ruppes \")\n",
    "    \n",
    "- input: one dollar equal to how many ruppes : 80\n",
    "\n",
    "- then total amount to pay: 100*80"
   ]
  },
  {
   "cell_type": "code",
   "execution_count": 52,
   "id": "58897a20",
   "metadata": {},
   "outputs": [
    {
     "name": "stdout",
     "output_type": "stream",
     "text": [
      "How many dollars you want to pay100\n",
      "Manger: No dollars are not accepted\n",
      "Rashaad: Then what will accepted\n",
      "Manager: Only indian rupees\n",
      "one dollar equal to how many indian rupees80\n",
      "The total amount to pay 8000\n",
      "Manager: Thank you Rashaad\n"
     ]
    }
   ],
   "source": [
    "# WAP ask the user enter Dollars\n",
    "# input: how many dollars you want to pay : 100\n",
    "# print('no dollars are not accepted')\n",
    "# print(\"then what will accepted\")\n",
    "# print(\"only indian ruppes \")\n",
    "# input: one dollar equal to how many ruppes : 80\n",
    "# then total amount to pay: 100*80\n",
    "\n",
    "n1 = eval(input(\"How many dollars you want to pay\"))\n",
    "print('Manger: No dollars are not accepted')\n",
    "print('Rashaad: Then what will accepted')\n",
    "print('Manager: Only indian rupees')\n",
    "n2 = eval(input(\"one dollar equal to how many indian rupees\"))\n",
    "amount=n1*n2\n",
    "print(\"The total amount to pay {}\".format(amount))\n",
    "print(\"Manager: Thank you Rashaad\")"
   ]
  },
  {
   "cell_type": "markdown",
   "id": "5fc3978e",
   "metadata": {},
   "source": [
    "$end$"
   ]
  },
  {
   "cell_type": "code",
   "execution_count": 3,
   "id": "11d73fd0",
   "metadata": {},
   "outputs": [
    {
     "name": "stdout",
     "output_type": "stream",
     "text": [
      "hai---hello\n"
     ]
    }
   ],
   "source": [
    "# if we want to combine two print statements into one statement\n",
    "print(\"hai\",end='---')\n",
    "print(\"hello\")\n",
    "\n",
    "# hai hello"
   ]
  },
  {
   "cell_type": "markdown",
   "id": "e907c6f7",
   "metadata": {},
   "source": [
    "$sep$\n",
    "\n",
    "**sepeartor**"
   ]
  },
  {
   "cell_type": "code",
   "execution_count": 4,
   "id": "76e5948a",
   "metadata": {},
   "outputs": [
    {
     "name": "stdout",
     "output_type": "stream",
     "text": [
      "hai hello\n"
     ]
    }
   ],
   "source": [
    "print('hai','hello')\n",
    "# how many words are there : 2\n",
    "# you want to seperate hai and hello with \n",
    "# and\n",
    "\n",
    "# o/p:  hai & hello"
   ]
  },
  {
   "cell_type": "code",
   "execution_count": 5,
   "id": "07e70291",
   "metadata": {},
   "outputs": [
    {
     "name": "stdout",
     "output_type": "stream",
     "text": [
      "hai&hello\n"
     ]
    }
   ],
   "source": [
    "print('hai','hello',sep='&')"
   ]
  },
  {
   "cell_type": "code",
   "execution_count": 7,
   "id": "418693e0",
   "metadata": {},
   "outputs": [
    {
     "name": "stdout",
     "output_type": "stream",
     "text": [
      "hello--->python--->excited\n"
     ]
    }
   ],
   "source": [
    "print(\"hello\",'python','excited',sep='--->')"
   ]
  },
  {
   "cell_type": "code",
   "execution_count": 8,
   "id": "19d3d5ce",
   "metadata": {},
   "outputs": [
    {
     "name": "stdout",
     "output_type": "stream",
     "text": [
      "12-10-2023\n"
     ]
    }
   ],
   "source": [
    "print('12','10','2023',sep='-')"
   ]
  },
  {
   "cell_type": "code",
   "execution_count": 10,
   "id": "63f31d4b",
   "metadata": {},
   "outputs": [
    {
     "name": "stdout",
     "output_type": "stream",
     "text": [
      "3***5\n"
     ]
    }
   ],
   "source": [
    "print(3,5,sep='***')"
   ]
  },
  {
   "cell_type": "markdown",
   "id": "54b92b95",
   "metadata": {},
   "source": [
    "**Q)WAP ask the user enter a distance in km**\n",
    "\n",
    "-  ask the user enter a fare in rs \n",
    "     \n",
    "- calculate total amount to pay\n",
    "\n",
    "**output:**\n",
    " \n",
    "- for 2kms the fare is 20rs."
   ]
  },
  {
   "cell_type": "code",
   "execution_count": null,
   "id": "c9ce74d8",
   "metadata": {},
   "outputs": [],
   "source": [
    "# WAP ask the user enter a distance in km\n",
    "#     ask the user enter a fare in rs \n",
    "#     calculate total amount to pay\n",
    "\n",
    "# output:\n",
    "# for 2kms the fare is 20rs."
   ]
  },
  {
   "cell_type": "code",
   "execution_count": null,
   "id": "30af56a9",
   "metadata": {},
   "outputs": [],
   "source": [
    "distance=eval(input(\"enter a distance:\"))\n",
    "fare=eval(input(\"enter fare in rs:\"))\n",
    "total=distance*fare\n",
    "print(\"the total amout is:\",total)"
   ]
  },
  {
   "cell_type": "code",
   "execution_count": null,
   "id": "02628195",
   "metadata": {},
   "outputs": [],
   "source": [
    "dist = eval(input(\"enter the Distance in Kilometeres\"))\n",
    "fare = eval(input(\"enter the fair in rupees\"))\n",
    "tot_amnt = dist*fare\n",
    "print(\"For {} Kilometeres the fair is {}\".format(dist,tot_amnt))"
   ]
  },
  {
   "cell_type": "code",
   "execution_count": 11,
   "id": "f3bcd77c",
   "metadata": {},
   "outputs": [
    {
     "name": "stdout",
     "output_type": "stream",
     "text": [
      "enter the Distance in Kilometeres 2\n",
      "enter the fair in rupees 10\n",
      "For 2 Kilometeres the fair is 20 rs.\n"
     ]
    }
   ],
   "source": [
    "dist = eval(input(\"enter the Distance in Kilometeres \"))\n",
    "fare = eval(input(\"enter the fair in rupees \"))\n",
    "tot_amnt = dist*fare\n",
    "print(\"For {} Kilometeres the fair is {} rs.\".format(dist,tot_amnt))"
   ]
  },
  {
   "cell_type": "markdown",
   "id": "6ec5da41",
   "metadata": {},
   "source": [
    "**Q) Implement above code using seperator operator**\n",
    "\n",
    "- For {} Kilometeres the fair is {} rs\".format(dist,tot_amnt),'.'"
   ]
  },
  {
   "cell_type": "code",
   "execution_count": null,
   "id": "fbafde89",
   "metadata": {},
   "outputs": [],
   "source": [
    "st1:For 2 Kilometeres the fair is 20 rs,\n",
    "st2:.\n",
    "combine st1 and st2 using sep operators"
   ]
  },
  {
   "cell_type": "code",
   "execution_count": 3,
   "id": "32b95614",
   "metadata": {},
   "outputs": [
    {
     "name": "stdout",
     "output_type": "stream",
     "text": [
      "enter the Distance in Kilometeres 2\n",
      "enter the fair in rupees 10\n",
      "For 2 Kilometeres the fair is 20 rs.\n"
     ]
    }
   ],
   "source": [
    "dist = eval(input(\"enter the Distance in Kilometeres \"))\n",
    "fare = eval(input(\"enter the fair in rupees \"))\n",
    "tot_amnt = dist*fare\n",
    "print(\"For {} Kilometeres the fair is {} rs\".format(dist,tot_amnt),\n",
    "      '.',sep='')\n",
    "\n",
    "# the dot is too far"
   ]
  },
  {
   "cell_type": "code",
   "execution_count": 1,
   "id": "327ae77f",
   "metadata": {},
   "outputs": [
    {
     "name": "stdout",
     "output_type": "stream",
     "text": [
      "a&b\n"
     ]
    }
   ],
   "source": [
    "print('a','b',sep='&')"
   ]
  },
  {
   "cell_type": "code",
   "execution_count": 5,
   "id": "fbf4d614",
   "metadata": {},
   "outputs": [
    {
     "name": "stdout",
     "output_type": "stream",
     "text": [
      "enter the Distance in Kilometeres 2\n",
      "enter the fair in rupees 10\n",
      "For 2 Kilometeres the fair is 20 rs.\n"
     ]
    }
   ],
   "source": [
    "dist = eval(input(\"enter the Distance in Kilometeres \"))\n",
    "fare = eval(input(\"enter the fair in rupees \"))\n",
    "tot_amnt = dist*fare\n",
    "print(\"For {} Kilometeres the fair is {} rs\".format(dist,tot_amnt),\n",
    "      '.',sep='')"
   ]
  },
  {
   "cell_type": "code",
   "execution_count": 7,
   "id": "7f9d88f6",
   "metadata": {},
   "outputs": [
    {
     "name": "stdout",
     "output_type": "stream",
     "text": [
      "Ramesh & 35\n"
     ]
    }
   ],
   "source": [
    "print('Ramesh','35',sep=' & ')  # \n",
    "\n",
    "# Ramesh & 35"
   ]
  },
  {
   "cell_type": "code",
   "execution_count": 8,
   "id": "5a8c6b7d",
   "metadata": {},
   "outputs": [
    {
     "name": "stdout",
     "output_type": "stream",
     "text": [
      "Ramesh age is 35\n"
     ]
    }
   ],
   "source": [
    "print('Ramesh','35',sep=' age is ')"
   ]
  }
 ],
 "metadata": {
  "kernelspec": {
   "display_name": "Python 3 (ipykernel)",
   "language": "python",
   "name": "python3"
  },
  "language_info": {
   "codemirror_mode": {
    "name": "ipython",
    "version": 3
   },
   "file_extension": ".py",
   "mimetype": "text/x-python",
   "name": "python",
   "nbconvert_exporter": "python",
   "pygments_lexer": "ipython3",
   "version": "3.11.5"
  }
 },
 "nbformat": 4,
 "nbformat_minor": 5
}
