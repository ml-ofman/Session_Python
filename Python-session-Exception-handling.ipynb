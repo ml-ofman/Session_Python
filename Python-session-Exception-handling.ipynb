{
 "cells": [
  {
   "cell_type": "markdown",
   "id": "a5611e6c",
   "metadata": {},
   "source": [
    "$try$-$except$"
   ]
  },
  {
   "cell_type": "code",
   "execution_count": null,
   "id": "bff80650",
   "metadata": {},
   "outputs": [],
   "source": [
    "try \n",
    "except \n",
    "are the keywords"
   ]
  },
  {
   "cell_type": "code",
   "execution_count": null,
   "id": "a825accf",
   "metadata": {},
   "outputs": [],
   "source": [
    "there is a senarion you have written 500 lines of code\n",
    "\n",
    "python complies step by step\n",
    "\n",
    "suppose you got the error at 250 line\n",
    "\n",
    "the remaining lines will not execute\n",
    "\n",
    "- eventhough if the error comes at 250 line, it should not affect the other lines\n",
    "\n",
    "- error should not come\n",
    "\n",
    "try and except "
   ]
  },
  {
   "cell_type": "code",
   "execution_count": 1,
   "id": "36e7c888",
   "metadata": {},
   "outputs": [
    {
     "name": "stdout",
     "output_type": "stream",
     "text": [
      "enter a number:python\n"
     ]
    },
    {
     "ename": "NameError",
     "evalue": "name 'python' is not defined",
     "output_type": "error",
     "traceback": [
      "\u001b[1;31m---------------------------------------------------------------------------\u001b[0m",
      "\u001b[1;31mNameError\u001b[0m                                 Traceback (most recent call last)",
      "Cell \u001b[1;32mIn[1], line 1\u001b[0m\n\u001b[1;32m----> 1\u001b[0m n1\u001b[38;5;241m=\u001b[39m\u001b[38;5;28meval\u001b[39m(\u001b[38;5;28minput\u001b[39m(\u001b[38;5;124m\"\u001b[39m\u001b[38;5;124menter a number:\u001b[39m\u001b[38;5;124m\"\u001b[39m))\n\u001b[0;32m      2\u001b[0m n2\u001b[38;5;241m=\u001b[39m\u001b[38;5;241m100\u001b[39m\n\u001b[0;32m      3\u001b[0m add\u001b[38;5;241m=\u001b[39mn1\u001b[38;5;241m+\u001b[39mn2\n",
      "File \u001b[1;32m<string>:1\u001b[0m\n",
      "\u001b[1;31mNameError\u001b[0m: name 'python' is not defined"
     ]
    }
   ],
   "source": [
    "n1=eval(input(\"enter a number:\"))\n",
    "n2=100\n",
    "add=n1+n2\n",
    "print(add)"
   ]
  },
  {
   "cell_type": "code",
   "execution_count": null,
   "id": "cad7a59d",
   "metadata": {},
   "outputs": [],
   "source": [
    "# entire code should implement under try block\n",
    "# what ever the error comes in the code will display under except block"
   ]
  },
  {
   "cell_type": "code",
   "execution_count": 2,
   "id": "1d26e037",
   "metadata": {},
   "outputs": [
    {
     "name": "stdout",
     "output_type": "stream",
     "text": [
      "enter a number:python\n",
      "error coming look at the syntax\n"
     ]
    }
   ],
   "source": [
    "try:\n",
    "    n1=eval(input(\"enter a number:\"))\n",
    "    n2=100\n",
    "    add=n1+n2\n",
    "    print(add)\n",
    "    \n",
    "except:\n",
    "    print(\"error coming look at the syntax\")\n",
    "    \n",
    "# when error is in code , then except block will print"
   ]
  },
  {
   "cell_type": "code",
   "execution_count": 3,
   "id": "51011fff",
   "metadata": {},
   "outputs": [
    {
     "name": "stdout",
     "output_type": "stream",
     "text": [
      "enter a number:100\n",
      "200\n"
     ]
    }
   ],
   "source": [
    "try:\n",
    "    n1=eval(input(\"enter a number:\"))\n",
    "    n2=100\n",
    "    add=n1+n2\n",
    "    print(add)\n",
    "    \n",
    "except:\n",
    "    print(\"error coming look at the syntax\")"
   ]
  },
  {
   "cell_type": "code",
   "execution_count": 4,
   "id": "710067af",
   "metadata": {},
   "outputs": [
    {
     "ename": "IndentationError",
     "evalue": "expected an indented block after 'try' statement on line 1 (2288719868.py, line 2)",
     "output_type": "error",
     "traceback": [
      "\u001b[1;36m  Cell \u001b[1;32mIn[4], line 2\u001b[1;36m\u001b[0m\n\u001b[1;33m    n1=eval(input(\"enter a number:\"))\u001b[0m\n\u001b[1;37m    ^\u001b[0m\n\u001b[1;31mIndentationError\u001b[0m\u001b[1;31m:\u001b[0m expected an indented block after 'try' statement on line 1\n"
     ]
    }
   ],
   "source": [
    "try:\n",
    "    n1=eval(input(\"enter a number:\"))\n",
    "    n2=100\n",
    "    add=n1+n2\n",
    "    print(add)\n",
    "    \n",
    "except:\n",
    "    print(\"error coming look at the syntax\")"
   ]
  },
  {
   "cell_type": "code",
   "execution_count": 11,
   "id": "0e2bcb6d",
   "metadata": {},
   "outputs": [
    {
     "ename": "SyntaxError",
     "evalue": "incomplete input (2733360931.py, line 9)",
     "output_type": "error",
     "traceback": [
      "\u001b[1;36m  Cell \u001b[1;32mIn[11], line 9\u001b[1;36m\u001b[0m\n\u001b[1;33m    # type error\u001b[0m\n\u001b[1;37m                ^\u001b[0m\n\u001b[1;31mSyntaxError\u001b[0m\u001b[1;31m:\u001b[0m incomplete input\n"
     ]
    }
   ],
   "source": [
    "n1=eval(input(\"enter a number:\"))\n",
    "n2='100'\n",
    "add=n1/n2\n",
    "print(add\n",
    "\n",
    "# name error\n",
    "# value error\n",
    "# syntax error\n",
    "# type error"
   ]
  },
  {
   "cell_type": "code",
   "execution_count": 13,
   "id": "5a7ba692",
   "metadata": {},
   "outputs": [
    {
     "name": "stdout",
     "output_type": "stream",
     "text": [
      "enter a number:p\n",
      "error\n"
     ]
    }
   ],
   "source": [
    "try:\n",
    "    n1=eval(input(\"enter a number:\"))\n",
    "    n2=100\n",
    "    add=n1+n2\n",
    "    print(add)\n",
    "    \n",
    "except:\n",
    "    print(\"error\") # what is best way\n",
    "    \n",
    "# Name error\n",
    "# value error\n",
    "# syntax error\n",
    "\n",
    "# what ever error comes in code , that should display\n",
    "# Need to catch the error"
   ]
  },
  {
   "cell_type": "code",
   "execution_count": null,
   "id": "743a15ca",
   "metadata": {},
   "outputs": [],
   "source": [
    "# step-1:  we want to avoid the error\n",
    "           try - except block\n",
    "    \n",
    "# step-2:  we need to catch the correct error in the excption block\n",
    "           # name error\n",
    "           # value eror\n",
    "           # syntax error"
   ]
  },
  {
   "cell_type": "code",
   "execution_count": 21,
   "id": "5b256a57",
   "metadata": {},
   "outputs": [
    {
     "name": "stdout",
     "output_type": "stream",
     "text": [
      "enter a number:0\n",
      "division by zero\n"
     ]
    }
   ],
   "source": [
    "try:\n",
    "    n1=eval(input(\"enter a number:\"))\n",
    "    n2=0\n",
    "    add=n1/n2\n",
    "    print(add)\n",
    "    \n",
    "except Exception as e:\n",
    "    print(e) \n",
    "    \n",
    "# as means alias name"
   ]
  },
  {
   "cell_type": "code",
   "execution_count": null,
   "id": "e182fbec",
   "metadata": {},
   "outputs": [],
   "source": [
    "try:\n",
    "    number1=100\n",
    "    number2=200\n",
    "    add=number1+number2\n",
    "    print(\"the addition of {} and {} is {}\".format(number1,number2,add))\n",
    "    \n",
    "except Exception as e:\n",
    "    print(e)"
   ]
  },
  {
   "cell_type": "code",
   "execution_count": null,
   "id": "161278f7",
   "metadata": {},
   "outputs": [],
   "source": [
    "try:\n",
    "    number1=input(\"enter a number1:\") # step-1: it will ask the number1='100'\n",
    "    number2=input(\"enter a number2:\") # step-2: it will ask the number2='200'\n",
    "    add=number1+number2               # '100'+'200'='100200'\n",
    "    print(\"the addition of {} and {} is {}\".format(number1,number2,add))\n",
    "except Exception as e:\n",
    "    print(e)"
   ]
  },
  {
   "cell_type": "code",
   "execution_count": null,
   "id": "ab276efd",
   "metadata": {},
   "outputs": [],
   "source": [
    "lets say i have 100 lines -- \n",
    "one line has error ... \n",
    "i still want to execute the code by ignoring the line ... \n",
    "how to do it ???"
   ]
  },
  {
   "cell_type": "code",
   "execution_count": 23,
   "id": "c78ce735",
   "metadata": {},
   "outputs": [
    {
     "name": "stdout",
     "output_type": "stream",
     "text": [
      "Enter Meal price:p\n",
      "name 'p' is not defined\n"
     ]
    }
   ],
   "source": [
    "try:\n",
    "    mp=eval(input(\"Enter Meal price:\"))\n",
    "    tip=eval(input(\"Please let me know the tip in %\"))\n",
    "    t_amount=(mp*tip)/100\n",
    "    tot=mp+t_amount\n",
    "    print(\"The tip amount is {} and total amount is {}\".format(t_amount,tot))\n",
    "except Exception as e:\n",
    "    print(e)"
   ]
  },
  {
   "cell_type": "code",
   "execution_count": 28,
   "id": "065bed18",
   "metadata": {},
   "outputs": [
    {
     "name": "stdout",
     "output_type": "stream",
     "text": [
      "enter a number1:a\n",
      "enter a number2:100\n",
      "the addition of a and 100 is a100\n"
     ]
    }
   ],
   "source": [
    "try:\n",
    "    number1=input(\"enter a number1:\") # step-1: it will ask the number1='100'\n",
    "    number2=input(\"enter a number2:\") # step-2: it will ask the number2='200'\n",
    "    add=number1+number2 # '100'+'200'='100200'\n",
    "    print(\"the addition of {} and {} is {}\".format(number1,number2,add))\n",
    "    \n",
    "except exception is e:\n",
    "    print(e)"
   ]
  },
  {
   "cell_type": "code",
   "execution_count": 26,
   "id": "aa9d4eb6",
   "metadata": {},
   "outputs": [
    {
     "data": {
      "text/plain": [
       "'AB'"
      ]
     },
     "execution_count": 26,
     "metadata": {},
     "output_type": "execute_result"
    }
   ],
   "source": [
    "'A' + 'B'"
   ]
  },
  {
   "cell_type": "code",
   "execution_count": 29,
   "id": "6012031c",
   "metadata": {},
   "outputs": [
    {
     "data": {
      "text/plain": [
       "'A100'"
      ]
     },
     "execution_count": 29,
     "metadata": {},
     "output_type": "execute_result"
    }
   ],
   "source": [
    "'A'+'100'"
   ]
  },
  {
   "cell_type": "code",
   "execution_count": 30,
   "id": "1a409fa8",
   "metadata": {},
   "outputs": [
    {
     "data": {
      "text/plain": [
       "'100200'"
      ]
     },
     "execution_count": 30,
     "metadata": {},
     "output_type": "execute_result"
    }
   ],
   "source": [
    "'100'+'200'"
   ]
  },
  {
   "cell_type": "code",
   "execution_count": 32,
   "id": "eabce6fe",
   "metadata": {},
   "outputs": [
    {
     "name": "stdout",
     "output_type": "stream",
     "text": [
      "300\n",
      "enter number1:600\n",
      "enter number2:700\n",
      "1300\n"
     ]
    }
   ],
   "source": [
    "# WAP ask the user enter two numbers and add those number\n",
    "number1=100\n",
    "number2=200\n",
    "add1=number1+number2\n",
    "print(add1)\n",
    "\n",
    "\n",
    "# WAP ask the user enter numbers from keyboard and add those number\n",
    "number11=eval(input(\"enter number1:\"))\n",
    "number22=eval(input(\"enter number2:\"))\n",
    "add2=number11+number22\n",
    "print(add2)\n",
    "\n",
    "\n",
    "#WAP ask the user to get two random integer numbers and add those number"
   ]
  },
  {
   "cell_type": "code",
   "execution_count": 39,
   "id": "c12a1990",
   "metadata": {},
   "outputs": [
    {
     "name": "stdout",
     "output_type": "stream",
     "text": [
      "number1 is: 53\n",
      "number2 is: 124\n",
      "177\n"
     ]
    }
   ],
   "source": [
    "import random\n",
    "number1=random.randint(1,100)  # shift+tab\n",
    "print('number1 is:',number1)\n",
    "number2=random.randint(1,200)\n",
    "print('number2 is:',number2)\n",
    "add=number1+number2\n",
    "print(add)"
   ]
  },
  {
   "cell_type": "code",
   "execution_count": 40,
   "id": "1902316b",
   "metadata": {},
   "outputs": [
    {
     "name": "stdout",
     "output_type": "stream",
     "text": [
      "Help on method randrange in module random:\n",
      "\n",
      "randrange(start, stop=None, step=1) method of random.Random instance\n",
      "    Choose a random item from range(stop) or range(start, stop[, step]).\n",
      "    \n",
      "    Roughly equivalent to ``choice(range(start, stop, step))`` but\n",
      "    supports arbitrarily large ranges and is optimized for common cases.\n",
      "\n"
     ]
    }
   ],
   "source": [
    "help(random.randrange)"
   ]
  },
  {
   "cell_type": "code",
   "execution_count": 45,
   "id": "fdb7a1c9",
   "metadata": {},
   "outputs": [
    {
     "data": {
      "text/plain": [
       "45"
      ]
     },
     "execution_count": 45,
     "metadata": {},
     "output_type": "execute_result"
    }
   ],
   "source": [
    "random.randrange(0,100,step=5)\n",
    "\n",
    "# start=0\n",
    "# stop=100\n",
    "# step=5\n",
    "\n",
    "# 0  5   10   15   20   25 30 .....   \n",
    "\n",
    "# loops clear idea \n",
    "\n",
    "\n",
    "# read python everybody\n",
    "\n"
   ]
  },
  {
   "cell_type": "code",
   "execution_count": null,
   "id": "29af39b5",
   "metadata": {},
   "outputs": [],
   "source": [
    "import <package_name>\n",
    "dir(<package_name>)\n",
    "help(<package_name>.method)"
   ]
  },
  {
   "cell_type": "code",
   "execution_count": 35,
   "id": "a2f2a4f4",
   "metadata": {},
   "outputs": [
    {
     "data": {
      "text/plain": [
       "['BPF',\n",
       " 'LOG4',\n",
       " 'NV_MAGICCONST',\n",
       " 'RECIP_BPF',\n",
       " 'Random',\n",
       " 'SG_MAGICCONST',\n",
       " 'SystemRandom',\n",
       " 'TWOPI',\n",
       " '_ONE',\n",
       " '_Sequence',\n",
       " '_Set',\n",
       " '__all__',\n",
       " '__builtins__',\n",
       " '__cached__',\n",
       " '__doc__',\n",
       " '__file__',\n",
       " '__loader__',\n",
       " '__name__',\n",
       " '__package__',\n",
       " '__spec__',\n",
       " '_accumulate',\n",
       " '_acos',\n",
       " '_bisect',\n",
       " '_ceil',\n",
       " '_cos',\n",
       " '_e',\n",
       " '_exp',\n",
       " '_floor',\n",
       " '_index',\n",
       " '_inst',\n",
       " '_isfinite',\n",
       " '_log',\n",
       " '_os',\n",
       " '_pi',\n",
       " '_random',\n",
       " '_repeat',\n",
       " '_sha512',\n",
       " '_sin',\n",
       " '_sqrt',\n",
       " '_test',\n",
       " '_test_generator',\n",
       " '_urandom',\n",
       " '_warn',\n",
       " 'betavariate',\n",
       " 'choice',\n",
       " 'choices',\n",
       " 'expovariate',\n",
       " 'gammavariate',\n",
       " 'gauss',\n",
       " 'getrandbits',\n",
       " 'getstate',\n",
       " 'lognormvariate',\n",
       " 'normalvariate',\n",
       " 'paretovariate',\n",
       " 'randbytes',\n",
       " 'randint',\n",
       " 'random',\n",
       " 'randrange',\n",
       " 'sample',\n",
       " 'seed',\n",
       " 'setstate',\n",
       " 'shuffle',\n",
       " 'triangular',\n",
       " 'uniform',\n",
       " 'vonmisesvariate',\n",
       " 'weibullvariate']"
      ]
     },
     "execution_count": 35,
     "metadata": {},
     "output_type": "execute_result"
    }
   ],
   "source": [
    "import random\n",
    "dir(random)"
   ]
  },
  {
   "cell_type": "code",
   "execution_count": 36,
   "id": "8a34057e",
   "metadata": {},
   "outputs": [
    {
     "name": "stdout",
     "output_type": "stream",
     "text": [
      "Help on method randint in module random:\n",
      "\n",
      "randint(a, b) method of random.Random instance\n",
      "    Return random integer in range [a, b], including both end points.\n",
      "\n"
     ]
    }
   ],
   "source": [
    "help(random.randint)"
   ]
  },
  {
   "cell_type": "code",
   "execution_count": null,
   "id": "2fc8197c",
   "metadata": {},
   "outputs": [],
   "source": [
    "sir how to find in which package it is there. only by googling anaconda repository or any other way?\n",
    "\n",
    "\n",
    "pip freeze"
   ]
  },
  {
   "cell_type": "code",
   "execution_count": null,
   "id": "640e010f",
   "metadata": {},
   "outputs": [],
   "source": [
    "what is difference between randint and randrange"
   ]
  },
  {
   "cell_type": "code",
   "execution_count": 46,
   "id": "b19032af",
   "metadata": {},
   "outputs": [],
   "source": [
    "import pandas"
   ]
  },
  {
   "cell_type": "code",
   "execution_count": 47,
   "id": "11dea2d8",
   "metadata": {},
   "outputs": [
    {
     "data": {
      "text/plain": [
       "['ArrowDtype',\n",
       " 'BooleanDtype',\n",
       " 'Categorical',\n",
       " 'CategoricalDtype',\n",
       " 'CategoricalIndex',\n",
       " 'DataFrame',\n",
       " 'DateOffset',\n",
       " 'DatetimeIndex',\n",
       " 'DatetimeTZDtype',\n",
       " 'ExcelFile',\n",
       " 'ExcelWriter',\n",
       " 'Flags',\n",
       " 'Float32Dtype',\n",
       " 'Float64Dtype',\n",
       " 'Grouper',\n",
       " 'HDFStore',\n",
       " 'Index',\n",
       " 'IndexSlice',\n",
       " 'Int16Dtype',\n",
       " 'Int32Dtype',\n",
       " 'Int64Dtype',\n",
       " 'Int8Dtype',\n",
       " 'Interval',\n",
       " 'IntervalDtype',\n",
       " 'IntervalIndex',\n",
       " 'MultiIndex',\n",
       " 'NA',\n",
       " 'NaT',\n",
       " 'NamedAgg',\n",
       " 'Period',\n",
       " 'PeriodDtype',\n",
       " 'PeriodIndex',\n",
       " 'RangeIndex',\n",
       " 'Series',\n",
       " 'SparseDtype',\n",
       " 'StringDtype',\n",
       " 'Timedelta',\n",
       " 'TimedeltaIndex',\n",
       " 'Timestamp',\n",
       " 'UInt16Dtype',\n",
       " 'UInt32Dtype',\n",
       " 'UInt64Dtype',\n",
       " 'UInt8Dtype',\n",
       " '__all__',\n",
       " '__builtins__',\n",
       " '__cached__',\n",
       " '__doc__',\n",
       " '__docformat__',\n",
       " '__file__',\n",
       " '__git_version__',\n",
       " '__loader__',\n",
       " '__name__',\n",
       " '__package__',\n",
       " '__path__',\n",
       " '__spec__',\n",
       " '__version__',\n",
       " '_config',\n",
       " '_is_numpy_dev',\n",
       " '_libs',\n",
       " '_testing',\n",
       " '_typing',\n",
       " '_version',\n",
       " 'annotations',\n",
       " 'api',\n",
       " 'array',\n",
       " 'arrays',\n",
       " 'bdate_range',\n",
       " 'compat',\n",
       " 'concat',\n",
       " 'core',\n",
       " 'crosstab',\n",
       " 'cut',\n",
       " 'date_range',\n",
       " 'describe_option',\n",
       " 'errors',\n",
       " 'eval',\n",
       " 'factorize',\n",
       " 'from_dummies',\n",
       " 'get_dummies',\n",
       " 'get_option',\n",
       " 'infer_freq',\n",
       " 'interval_range',\n",
       " 'io',\n",
       " 'isna',\n",
       " 'isnull',\n",
       " 'json_normalize',\n",
       " 'lreshape',\n",
       " 'melt',\n",
       " 'merge',\n",
       " 'merge_asof',\n",
       " 'merge_ordered',\n",
       " 'notna',\n",
       " 'notnull',\n",
       " 'offsets',\n",
       " 'option_context',\n",
       " 'options',\n",
       " 'pandas',\n",
       " 'period_range',\n",
       " 'pivot',\n",
       " 'pivot_table',\n",
       " 'plotting',\n",
       " 'qcut',\n",
       " 'read_clipboard',\n",
       " 'read_csv',\n",
       " 'read_excel',\n",
       " 'read_feather',\n",
       " 'read_fwf',\n",
       " 'read_gbq',\n",
       " 'read_hdf',\n",
       " 'read_html',\n",
       " 'read_json',\n",
       " 'read_orc',\n",
       " 'read_parquet',\n",
       " 'read_pickle',\n",
       " 'read_sas',\n",
       " 'read_spss',\n",
       " 'read_sql',\n",
       " 'read_sql_query',\n",
       " 'read_sql_table',\n",
       " 'read_stata',\n",
       " 'read_table',\n",
       " 'read_xml',\n",
       " 'reset_option',\n",
       " 'set_eng_float_format',\n",
       " 'set_option',\n",
       " 'show_versions',\n",
       " 'test',\n",
       " 'testing',\n",
       " 'timedelta_range',\n",
       " 'to_datetime',\n",
       " 'to_numeric',\n",
       " 'to_pickle',\n",
       " 'to_timedelta',\n",
       " 'tseries',\n",
       " 'unique',\n",
       " 'util',\n",
       " 'value_counts',\n",
       " 'wide_to_long']"
      ]
     },
     "execution_count": 47,
     "metadata": {},
     "output_type": "execute_result"
    }
   ],
   "source": [
    "dir(pandas)"
   ]
  },
  {
   "cell_type": "code",
   "execution_count": null,
   "id": "6b7e881f",
   "metadata": {},
   "outputs": [],
   "source": []
  },
  {
   "cell_type": "code",
   "execution_count": null,
   "id": "d23f61ba",
   "metadata": {},
   "outputs": [],
   "source": []
  },
  {
   "cell_type": "code",
   "execution_count": null,
   "id": "0cc08bbc",
   "metadata": {},
   "outputs": [],
   "source": []
  },
  {
   "cell_type": "code",
   "execution_count": null,
   "id": "1f84a360",
   "metadata": {},
   "outputs": [],
   "source": []
  }
 ],
 "metadata": {
  "kernelspec": {
   "display_name": "Python 3 (ipykernel)",
   "language": "python",
   "name": "python3"
  },
  "language_info": {
   "codemirror_mode": {
    "name": "ipython",
    "version": 3
   },
   "file_extension": ".py",
   "mimetype": "text/x-python",
   "name": "python",
   "nbconvert_exporter": "python",
   "pygments_lexer": "ipython3",
   "version": "3.11.5"
  }
 },
 "nbformat": 4,
 "nbformat_minor": 5
}
