{
 "cells": [
  {
   "cell_type": "code",
   "execution_count": null,
   "id": "8aa9f13f",
   "metadata": {},
   "outputs": [],
   "source": [
    "# print first 10 letters\n",
    "for i in range(10):\n",
    "    print(i,end=' ')"
   ]
  },
  {
   "cell_type": "code",
   "execution_count": null,
   "id": "a84d38b5",
   "metadata": {},
   "outputs": [],
   "source": [
    "- intialisation\n",
    "\n",
    "- condition\n",
    "\n",
    "- increment/decrement\n",
    "\n",
    "- in for loop these 3 are in a single line\n",
    "\n",
    "- but while loop you need to provide 3 things\n",
    "\n",
    "- intial point\n",
    "\n",
    "- condition (if this condition satisfy then only it will give the permision to enter into loop)\n",
    "\n",
    "- increment/decrement"
   ]
  },
  {
   "cell_type": "code",
   "execution_count": null,
   "id": "9a3a83ff",
   "metadata": {},
   "outputs": [],
   "source": [
    "# print first 10 letters\n",
    "for i in range(10):\n",
    "    print(i,end=' ')\n",
    "    print('hello')\n",
    "    \n",
    "# intial point=0\n",
    "\n",
    "# condition :\n",
    "\n",
    "# get the 10: 0  1   2   3"
   ]
  },
  {
   "cell_type": "code",
   "execution_count": null,
   "id": "91b41b32",
   "metadata": {},
   "outputs": [],
   "source": [
    "# this code will not print 10 number\n",
    "# this code will infinite loop\n",
    "\n",
    "i=0   # intial piint\n",
    "\n",
    "while i>=0:  # based on your i\n",
    "    \n",
    "    print(i,end=' ')\n",
    "    print('hello')\n",
    "    \n",
    "    i=i+1          #=======increment\n",
    "    \n",
    "    \n",
    "#step-1:  i=0           True  0 h  i=0+1=1\n",
    "#step-2:  i=1    1>=0   True  1 h  i=1+1=2\n",
    "#step-3:  i=2    2>=0   True  2 h  i=2+1=3"
   ]
  },
  {
   "cell_type": "code",
   "execution_count": null,
   "id": "d7c0fad3",
   "metadata": {},
   "outputs": [],
   "source": [
    "i=0   # intial piint\n",
    "\n",
    "while i<11:  # based on your i\n",
    "    \n",
    "    print(i,end=' ')\n",
    "    print('hello')\n",
    "    \n",
    "    i=i+1 \n",
    "    \n",
    "#step-1:  i=0           True  0 h  i=0+1=1\n",
    "#step-2:  i=1    1<11   True  1 h  i=1+1=2\n",
    "#step-3:  i=2    2<11   True  2 h  i=2+1=3\n",
    "# step-9: i=8    8<11   True  8 h  i=8+1=9\n",
    "# step=11: i=10  10<11  True  10 h i=10+1=11\n",
    "# step-12: i=11  11<11  False"
   ]
  },
  {
   "cell_type": "code",
   "execution_count": null,
   "id": "4f11a65b",
   "metadata": {},
   "outputs": [],
   "source": [
    "# First give the intial point\n",
    "# Next while <condition>:\n",
    "#       print what ever you want\n",
    "#       i=i+1  or  i=i-1\n",
    "\n",
    "# Based on stop value ========= Think about condition"
   ]
  },
  {
   "cell_type": "code",
   "execution_count": null,
   "id": "898adfdc",
   "metadata": {},
   "outputs": [],
   "source": [
    "for i in range(10):\n",
    "    print(i,end=' ')\n",
    "    \n",
    "# intial point i=0\n",
    "# increment = i+1"
   ]
  },
  {
   "cell_type": "code",
   "execution_count": null,
   "id": "974e989e",
   "metadata": {},
   "outputs": [],
   "source": [
    "i=0   #    i=0\n",
    "\n",
    "while i<=10:     #0<=10   True    1<=10\n",
    "    print(i,end=' ')\n",
    "    \n",
    "    i=i+1        # i=0+1 =1"
   ]
  },
  {
   "cell_type": "code",
   "execution_count": null,
   "id": "9d527144",
   "metadata": {},
   "outputs": [],
   "source": [
    "for i in range(-1,-11,-1):\n",
    "    print(i,end=' ')\n",
    "    \n",
    "# negative numbers"
   ]
  },
  {
   "cell_type": "code",
   "execution_count": null,
   "id": "d64c6b5a",
   "metadata": {},
   "outputs": [],
   "source": [
    "for i in range(-10,0,1):\n",
    "    print(i,end=' ')"
   ]
  },
  {
   "cell_type": "code",
   "execution_count": null,
   "id": "3472116c",
   "metadata": {},
   "outputs": [],
   "source": [
    "for i in range(10,-1,-1):\n",
    "    print(i,end=' ')"
   ]
  },
  {
   "cell_type": "code",
   "execution_count": null,
   "id": "989525af",
   "metadata": {},
   "outputs": [],
   "source": [
    "# share to my whatsapp number\n",
    "i=-1\n",
    "while i<-11:\n",
    "    print(i,end=' ')\n",
    "    i=i+1"
   ]
  },
  {
   "cell_type": "code",
   "execution_count": null,
   "id": "fc52d2c3",
   "metadata": {},
   "outputs": [],
   "source": [
    "# program using function with global variable with return statement\n",
    "\n",
    "\n",
    "num=eval(input('enter a five digit number : '))\n",
    "def reverse():\n",
    "    try:\n",
    "        rev=0\n",
    "        for i in range(5):\n",
    "            rev=rev*10+num%10\n",
    "            num=num//10\n",
    "        print(\"the reverse of the number is \",rev)\n",
    "        \n",
    "    except Exception as e:\n",
    "        print(e)\n",
    "    \n",
    "reverse()\n",
    "\n",
    "# sir but it is nut reversing"
   ]
  },
  {
   "cell_type": "code",
   "execution_count": null,
   "id": "81533d40",
   "metadata": {},
   "outputs": [],
   "source": [
    "i=0  \n",
    "while i>=0: \n",
    "    print(i,end=' ') # 3\n",
    "    i=i+1            #4\n",
    "    if i==3:\n",
    "        break\n",
    " \n",
    "#step-1:   i=0       0>=0   T  print(0)   i=0+1=1   1==3 False  it will not break \n",
    "#step-2:   i=1       1>=0   T  p(1)       i=1+1=2   2==3 F       nOb\n",
    "#step-3:   i=2       2>=0   T  p(2)       i=2+1=3   3==3  T      b\n"
   ]
  },
  {
   "cell_type": "code",
   "execution_count": null,
   "id": "90879458",
   "metadata": {},
   "outputs": [],
   "source": [
    "i=0  \n",
    "while i>=0: \n",
    "    print(i,end=' ') \n",
    "    if i==3:\n",
    "        break\n",
    "    i=i+1 \n",
    "    \n",
    "# step-1:  i=0    0>=0  T  p(0)  0==3 F   no break   i=0+1=1"
   ]
  },
  {
   "cell_type": "code",
   "execution_count": null,
   "id": "85acbff4",
   "metadata": {},
   "outputs": [],
   "source": [
    "# in order to stop this loop we need to apply a condtion\n",
    "# inside the loop\n",
    "i=0\n",
    "while True:    # there is no condition check\n",
    "    print(i,end=' ')\n",
    "    i+=1               # i=i+1\n",
    "    if i==10:\n",
    "        break"
   ]
  },
  {
   "cell_type": "code",
   "execution_count": null,
   "id": "3a778964",
   "metadata": {},
   "outputs": [],
   "source": [
    "i=0  \n",
    "while i<=3:              # right condition\n",
    "    print(i,end=' ') \n",
    "    i=i+1 "
   ]
  },
  {
   "cell_type": "code",
   "execution_count": null,
   "id": "b7bdcbf8",
   "metadata": {},
   "outputs": [],
   "source": [
    "i=0  \n",
    "while i>=0:               # wrong condition\n",
    "    print(i,end=' ') \n",
    "    i=i+1\n",
    "    if i==4:             # one more condition to stop the loop\n",
    "        break"
   ]
  },
  {
   "cell_type": "code",
   "execution_count": null,
   "id": "a3d95021",
   "metadata": {},
   "outputs": [],
   "source": [
    "i=0\n",
    "while True:             # No condition\n",
    "    print(i,end=' ')\n",
    "    i+=1               \n",
    "    if i==4:           # condition to stop the loop\n",
    "        break"
   ]
  },
  {
   "cell_type": "code",
   "execution_count": null,
   "id": "10e5e78f",
   "metadata": {},
   "outputs": [],
   "source": [
    "i=0  \n",
    "while i<=3:              # right condition\n",
    "    print(i,end=' ') \n",
    "    i=i+1 \n",
    "    \n",
    "    \n",
    "i=0  \n",
    "while i>=0:               # wrong condition\n",
    "    print(i,end=' ') \n",
    "    i=i+1\n",
    "    if i==4:             # one more condition to stop the loop\n",
    "        break  \n",
    "        \n",
    "        \n",
    "i=0\n",
    "while True:             # No condition\n",
    "    print(i,end=' ')\n",
    "    i+=1               \n",
    "    if i==4:           # condition to stop the loop\n",
    "        break\n",
    "    print('hello')\n",
    "    print(3+5)"
   ]
  },
  {
   "cell_type": "code",
   "execution_count": null,
   "id": "7c7656d9",
   "metadata": {},
   "outputs": [],
   "source": [
    "i=0\n",
    "while True:             # No condition\n",
    "    print(i,end=' ')    # 3\n",
    "    i+=1                # 4            \n",
    "    if i==4:           # condition to stop the loop  4==4   T: break\n",
    "        break\n",
    "    print('hello')\n",
    "    print(3+5)\n",
    "    \n",
    "# 3  hello   8 is not coming"
   ]
  },
  {
   "cell_type": "code",
   "execution_count": null,
   "id": "fa3d3963",
   "metadata": {},
   "outputs": [],
   "source": [
    "a=10\n",
    "if a==10:            \n",
    "    print(\"hello\")"
   ]
  },
  {
   "cell_type": "code",
   "execution_count": null,
   "id": "f8a97f79",
   "metadata": {},
   "outputs": [],
   "source": [
    "a==10"
   ]
  },
  {
   "cell_type": "code",
   "execution_count": null,
   "id": "1332239d",
   "metadata": {},
   "outputs": [],
   "source": [
    "#WAP ask the user get 10 random numbers  between 1 to 100\n",
    "# print it is an even number or odd number\n",
    "\n",
    "# First write for loop\n",
    "# import <package>\n",
    "# for i in range(n):\n",
    "#     num=<package_name>.<method_name>(1,100)\n",
    "#     if num%2==0:\n",
    "#        print('{} is an even number'.format(num))\n",
    "#     else:\n",
    "#       print('{} is an even number'.format(num))\n",
    "\n",
    "\n",
    "# then implement in while loop\n",
    "# intial point\n",
    "# while <condition>:\n",
    "#     copy paste the same lines under for loop\n",
    "#     increment"
   ]
  },
  {
   "cell_type": "code",
   "execution_count": null,
   "id": "054d4b3d",
   "metadata": {},
   "outputs": [],
   "source": [
    "import random\n",
    "for i in range(10):\n",
    "    num=random.randint(1,100)\n",
    "    if num%2==0:\n",
    "        print('{} is an even number'.format(num))\n",
    "    else:\n",
    "        print('{} is an even number'.format(num))"
   ]
  },
  {
   "cell_type": "code",
   "execution_count": null,
   "id": "20a31950",
   "metadata": {},
   "outputs": [],
   "source": [
    "# intial point\n",
    "i=0\n",
    "while i<=10:\n",
    "    num=random.randint(1,100)\n",
    "    if num%2==0:\n",
    "        print('{} is an even number'.format(num))\n",
    "    else:\n",
    "        print('{} is an even number'.format(num))\n",
    "    i=i+1"
   ]
  },
  {
   "cell_type": "code",
   "execution_count": null,
   "id": "4de6b0d2",
   "metadata": {},
   "outputs": [],
   "source": [
    "# intial point\n",
    "i=0\n",
    "while True:\n",
    "    num=random.randint(1,100)\n",
    "    if num%2==0:\n",
    "        print('{} is an even number'.format(num))\n",
    "    else:\n",
    "        print('{} is an even number'.format(num))\n",
    "    i=i+1\n",
    "    if i==10:\n",
    "        break"
   ]
  },
  {
   "cell_type": "code",
   "execution_count": null,
   "id": "ab24bc85",
   "metadata": {},
   "outputs": [],
   "source": [
    "# WAP ask the user enter a number and get a square of the number\n",
    "# these task you need to 3 times\n",
    "# num=eval(\"enter the number\")\n",
    "# print(\"the square of {} is {}\".format(num,num*num))\n",
    "\n",
    "# For loop\n",
    "# for i in range(n):\n",
    "#     num=eval(\"enter the number\")\n",
    "#     print(\"the square of {} is {}\".format(num,num*num))\n",
    "\n",
    "# while loop\n"
   ]
  },
  {
   "cell_type": "code",
   "execution_count": 2,
   "id": "f8bfa872",
   "metadata": {},
   "outputs": [
    {
     "name": "stdout",
     "output_type": "stream",
     "text": [
      "enter the number3\n",
      "the square of 3 is 9\n",
      "enter the number5\n",
      "the square of 5 is 25\n",
      "enter the number6\n",
      "the square of 6 is 36\n"
     ]
    }
   ],
   "source": [
    "for i in range(3):\n",
    "    num=eval(input(\"enter the number\"))\n",
    "    print(\"the square of {} is {}\".format(num,num*num))"
   ]
  },
  {
   "cell_type": "code",
   "execution_count": 3,
   "id": "669b0f5f",
   "metadata": {},
   "outputs": [
    {
     "name": "stdout",
     "output_type": "stream",
     "text": [
      "enter the number5\n",
      "the square of 5 is 25\n",
      "enter the number7\n",
      "the square of 7 is 49\n",
      "enter the number8\n",
      "the square of 8 is 64\n",
      "enter the number8\n",
      "the square of 8 is 64\n"
     ]
    }
   ],
   "source": [
    "i=0\n",
    "\n",
    "while i<=3:\n",
    "    num=eval(input(\"enter the number\"))\n",
    "    print(\"the square of {} is {}\".format(num,num*num))\n",
    "    i+=1"
   ]
  },
  {
   "cell_type": "code",
   "execution_count": null,
   "id": "4d8ebbf7",
   "metadata": {},
   "outputs": [],
   "source": [
    "# package name: time"
   ]
  },
  {
   "cell_type": "code",
   "execution_count": 5,
   "id": "b03e6a1b",
   "metadata": {},
   "outputs": [
    {
     "name": "stdout",
     "output_type": "stream",
     "text": [
      "enter the number8\n",
      "the square of 8 is 64\n",
      "enter the number9\n",
      "the square of 9 is 81\n",
      "enter the number9\n",
      "the square of 9 is 81\n",
      "time taken in seconds is: 9.374788284301758\n"
     ]
    }
   ],
   "source": [
    "import time\n",
    "start=time.time()    # starts here\n",
    "\n",
    "for i in range(3):\n",
    "    num=eval(input(\"enter the number\"))\n",
    "    print(\"the square of {} is {}\".format(num,num*num))\n",
    "    \n",
    "end=time.time()\n",
    "print(\"time taken in seconds is:\",end-start)"
   ]
  },
  {
   "cell_type": "code",
   "execution_count": 6,
   "id": "ef0fcc18",
   "metadata": {},
   "outputs": [
    {
     "name": "stdout",
     "output_type": "stream",
     "text": [
      "enter the number6\n",
      "the square of 6 is 36\n",
      "enter the number7\n",
      "the square of 7 is 49\n",
      "enter the number8\n",
      "the square of 8 is 64\n",
      "enter the number9\n",
      "the square of 9 is 81\n",
      "time taken in sec is: 3.9404001235961914\n"
     ]
    }
   ],
   "source": [
    "start=time.time()\n",
    "i=0\n",
    "while i<=3:\n",
    "    num=eval(input(\"enter the number\"))\n",
    "    print(\"the square of {} is {}\".format(num,num*num))\n",
    "    i+=1\n",
    "    \n",
    "end=time.time()\n",
    "print(\"time taken in sec is:\",end-start)"
   ]
  },
  {
   "cell_type": "code",
   "execution_count": null,
   "id": "cd517703",
   "metadata": {},
   "outputs": [],
   "source": []
  },
  {
   "cell_type": "code",
   "execution_count": 8,
   "id": "f16c3512",
   "metadata": {},
   "outputs": [
    {
     "name": "stdout",
     "output_type": "stream",
     "text": [
      "hai\n",
      "hello\n",
      "enter a number7\n"
     ]
    }
   ],
   "source": [
    "print('hai')\n",
    "time.sleep(2)\n",
    "print('hello')   # after two seconds hello will print\n",
    "time.sleep(3)\n",
    "num=eval(input(\"enter a number\")) # after 3 seconds enter a number"
   ]
  },
  {
   "cell_type": "code",
   "execution_count": null,
   "id": "781c1853",
   "metadata": {},
   "outputs": [],
   "source": [
    "# Wap ask the user print sum of 10 natural numbers\n",
    "# For loop\n",
    "\n",
    "# sum1=0\n",
    "# for i in range(1,11):\n",
    "#    sum1=sum1+i\n",
    "# sum1\n",
    "\n",
    "# While loop"
   ]
  },
  {
   "cell_type": "code",
   "execution_count": null,
   "id": "f6b27d7d",
   "metadata": {},
   "outputs": [],
   "source": [
    "sum ========== keywords are not used as variables"
   ]
  },
  {
   "cell_type": "code",
   "execution_count": 9,
   "id": "bbefd2f2",
   "metadata": {},
   "outputs": [
    {
     "name": "stdout",
     "output_type": "stream",
     "text": [
      "55\n"
     ]
    }
   ],
   "source": [
    "sum1=0\n",
    "for i in range(1,11):\n",
    "    sum1=sum1+i\n",
    "print(sum1)"
   ]
  },
  {
   "cell_type": "code",
   "execution_count": 11,
   "id": "998544b4",
   "metadata": {},
   "outputs": [
    {
     "name": "stdout",
     "output_type": "stream",
     "text": [
      "55\n"
     ]
    }
   ],
   "source": [
    "#for i in range(1,11):\n",
    "i=1\n",
    "sum1=0\n",
    "while i<=10:\n",
    "    sum1=sum1+i\n",
    "    i+=1\n",
    "    \n",
    "print(sum1)"
   ]
  },
  {
   "cell_type": "code",
   "execution_count": null,
   "id": "73829e91",
   "metadata": {},
   "outputs": [],
   "source": [
    "# WAP ask the user enter a password\n",
    "# if the password =='python': print('you are in')\n",
    "# else: print(\"you are out\")\n",
    "# you need to provide 3 chances to user\n",
    "# if he success first time , the loop should stop\n",
    "# if he fails :\n",
    "#          print('how many chances are left')\n",
    "#          enter password\n",
    "\n",
    "#=========================== Unlimited chances till you give the password========\n",
    "# password='python'\n",
    "# while True:\n",
    "#     user_pwd=input(\"enter pwd\")\n",
    "#     if password==user_pwd:\n",
    "#        print('you won')\n",
    "#        break\n",
    "#     else:\n",
    "#       print(\"the password is wrong\")\n",
    "\n",
    "# ==================== provide 3 chances================================"
   ]
  },
  {
   "cell_type": "code",
   "execution_count": null,
   "id": "3b14b947",
   "metadata": {},
   "outputs": [],
   "source": [
    "password='python'\n",
    "if password==python:\n",
    "    print(\"you own\")\n",
    "else:\n",
    "    print(\"you are out\")"
   ]
  },
  {
   "cell_type": "code",
   "execution_count": null,
   "id": "0eb97605",
   "metadata": {},
   "outputs": [],
   "source": [
    "i=0\n",
    "chance=3\n",
    "while i<3:\n",
    "    p=input(\"Enter the password:\")\n",
    "    if p=='python':\n",
    "        print('You are in!!!')\n",
    "        break\n",
    "    elif chance-i-1==0:\n",
    "            print(\"Chances are over!!!\")\n",
    "    else:\n",
    "        print('You are out!!!')\n",
    "        print('{} chances are available, please enter the password!!!'.format(chance-i-1))\n",
    "    i+=1"
   ]
  },
  {
   "cell_type": "code",
   "execution_count": 4,
   "id": "f3c1acd3",
   "metadata": {},
   "outputs": [
    {
     "name": "stdout",
     "output_type": "stream",
     "text": [
      "Enter number of chances!!!3\n",
      "Enter the password:p\n",
      "You are out!!!\n",
      "2 chances are available, please enter the password!!!\n",
      "Enter the password:p\n",
      "You are out!!!\n",
      "1 chances are available, please enter the password!!!\n",
      "Enter the password:p\n",
      "You are out!!!\n",
      "0 chances are available, please enter the password!!!\n"
     ]
    }
   ],
   "source": [
    "i=0\n",
    "chance=eval(input(\"Enter number of chances!!!\")) # s-1\n",
    "while i<chance: \n",
    "    p=input(\"Enter the password:\")\n",
    "    if p=='python':\n",
    "        print('You are in!!!')\n",
    "        break\n",
    "    elif chance-i-1==0: \n",
    "            print(\"Chances are over!!!\")\n",
    "    else:\n",
    "        print('You are out!!!')\n",
    "        print('{} chances are available, please enter the password!!!'.format(chance-i-1))\n",
    "    i+=1  \n",
    "    \n",
    "# Based on your print statements code will change"
   ]
  },
  {
   "cell_type": "code",
   "execution_count": 5,
   "id": "0eaa3d62",
   "metadata": {},
   "outputs": [
    {
     "name": "stdout",
     "output_type": "stream",
     "text": [
      "enter pwdp\n",
      "the password is wrong\n",
      "enter pwdp\n",
      "the password is wrong\n",
      "enter pwdp\n",
      "the password is wrong\n",
      "enter pwdp\n",
      "the password is wrong\n",
      "enter pwdp\n",
      "the password is wrong\n",
      "enter pwdp\n",
      "the password is wrong\n",
      "enter pwdpython\n",
      "you won\n"
     ]
    }
   ],
   "source": [
    "password='python'  # random number  (1,10)\n",
    "while True:\n",
    "    user_pwd=input(\"enter pwd\")  # user number= eval(input)\n",
    "    if password==user_pwd:\n",
    "        print('you won')\n",
    "        break\n",
    "    else:\n",
    "        print(\"the password is wrong\")"
   ]
  },
  {
   "cell_type": "code",
   "execution_count": null,
   "id": "0438a8cd",
   "metadata": {},
   "outputs": [],
   "source": [
    "# I want create an infinte loop\n",
    "# you need get one random number  take 1 to 10\n",
    "# you need ask the enter the number\n",
    "# after how many trail you are success\n",
    "# how much time has taken to complete loop\n",
    "\n",
    "# how you are implemnting the time package\n",
    "# are you able to return number of chances"
   ]
  },
  {
   "cell_type": "code",
   "execution_count": 9,
   "id": "c66d87e8",
   "metadata": {},
   "outputs": [
    {
     "name": "stdout",
     "output_type": "stream",
     "text": [
      "hello\n",
      "how\n",
      "0.0\n"
     ]
    }
   ],
   "source": [
    "import time\n",
    "start=time.time() # starting seconds\n",
    "print('hello')\n",
    "print('how')\n",
    "end=time.time()\n",
    "print(end-start)"
   ]
  },
  {
   "cell_type": "markdown",
   "id": "dc83e529",
   "metadata": {},
   "source": [
    "Suppose that a player wants to play a game which requires him Rs. 1,000 to start. If the current balance in his account is less than Rs. 1,000 he needs to withdraw the extra money from his e-wallet.\n",
    "\n",
    "Note that if the sum of money in his courrent account and the amount withdrawn is greater than or equal to Rs. 1,000 then he can start playing the game. However if the sum is less than Rs. 1,000 then the program should keep displaying the user the message “You still do not have enough money to start playing.” and keep prompting the user to withdraw money unless it crosses Rs. 1,000. Once ready, i.e. if his current account balance crosses Rs. 1,000, it will display a message “Now, you are ready to play the game.” Your program should also display the account balance and the current amount in the e-wallet.\n",
    "\n",
    "(consider: initial account balance is Rs. 200 and money in the e-wallet is Rs. 5,000)\n",
    "\n",
    "(Do further improvement by checking if the e-wallet balance becomes NIL, etc.)"
   ]
  },
  {
   "cell_type": "code",
   "execution_count": null,
   "id": "1b8ad4e7",
   "metadata": {},
   "outputs": [],
   "source": [
    "======= I want to play a game the ticket is =1000rs\n",
    "======= <1000: your money less than 1000 you need get e-wallet\n",
    "======= enter=500\n",
    "=======your money less than 1000 you need get e-wallet\n",
    "======= 200\n",
    "======= 500+200=700"
   ]
  },
  {
   "cell_type": "code",
   "execution_count": 12,
   "id": "faca611c",
   "metadata": {},
   "outputs": [
    {
     "data": {
      "text/plain": [
       "(50+60j)"
      ]
     },
     "execution_count": 12,
     "metadata": {},
     "output_type": "execute_result"
    }
   ],
   "source": [
    "complex(50,60)"
   ]
  },
  {
   "cell_type": "code",
   "execution_count": null,
   "id": "72e760f0",
   "metadata": {},
   "outputs": [],
   "source": []
  },
  {
   "cell_type": "code",
   "execution_count": null,
   "id": "b39f158e",
   "metadata": {},
   "outputs": [],
   "source": []
  },
  {
   "cell_type": "code",
   "execution_count": null,
   "id": "0ac10340",
   "metadata": {},
   "outputs": [],
   "source": []
  },
  {
   "cell_type": "code",
   "execution_count": null,
   "id": "213cbab9",
   "metadata": {},
   "outputs": [],
   "source": []
  },
  {
   "cell_type": "code",
   "execution_count": null,
   "id": "687671f4",
   "metadata": {},
   "outputs": [],
   "source": []
  }
 ],
 "metadata": {
  "kernelspec": {
   "display_name": "Python 3 (ipykernel)",
   "language": "python",
   "name": "python3"
  },
  "language_info": {
   "codemirror_mode": {
    "name": "ipython",
    "version": 3
   },
   "file_extension": ".py",
   "mimetype": "text/x-python",
   "name": "python",
   "nbconvert_exporter": "python",
   "pygments_lexer": "ipython3",
   "version": "3.11.5"
  }
 },
 "nbformat": 4,
 "nbformat_minor": 5
}
