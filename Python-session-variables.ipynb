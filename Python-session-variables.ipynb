{
 "cells": [
  {
   "cell_type": "markdown",
   "id": "9c68fd90",
   "metadata": {},
   "source": [
    "## Session-1"
   ]
  },
  {
   "cell_type": "markdown",
   "id": "e2107f04",
   "metadata": {},
   "source": [
    "today im learning python basics "
   ]
  },
  {
   "cell_type": "markdown",
   "id": "0fcd52cd",
   "metadata": {},
   "source": [
    "**Variables**"
   ]
  },
  {
   "cell_type": "markdown",
   "id": "e34a664d",
   "metadata": {},
   "source": [
    "what is the defination of variables?\n",
    "\n",
    "- it store some values\n",
    "\n",
    "- it place some memory\n",
    "\n",
    "- whose value will change"
   ]
  },
  {
   "cell_type": "code",
   "execution_count": null,
   "id": "ccb72b0b",
   "metadata": {},
   "outputs": [],
   "source": [
    "#variables ====== some thing will vary"
   ]
  },
  {
   "cell_type": "code",
   "execution_count": 2,
   "id": "eda13438",
   "metadata": {},
   "outputs": [],
   "source": [
    "a=10\n",
    "# a is a variable ,\n",
    "# the value 10 is stored in 'a'"
   ]
  },
  {
   "cell_type": "code",
   "execution_count": 3,
   "id": "d021883e",
   "metadata": {},
   "outputs": [
    {
     "data": {
      "text/plain": [
       "50"
      ]
     },
     "execution_count": 3,
     "metadata": {},
     "output_type": "execute_result"
    }
   ],
   "source": [
    "a=50\n",
    "a"
   ]
  },
  {
   "cell_type": "code",
   "execution_count": null,
   "id": "d377706a",
   "metadata": {},
   "outputs": [],
   "source": [
    "# how the variables will be intialised"
   ]
  },
  {
   "cell_type": "code",
   "execution_count": 4,
   "id": "b056c672",
   "metadata": {},
   "outputs": [
    {
     "data": {
      "text/plain": [
       "100"
      ]
     },
     "execution_count": 4,
     "metadata": {},
     "output_type": "execute_result"
    }
   ],
   "source": [
    "number=100\n",
    "number "
   ]
  },
  {
   "cell_type": "code",
   "execution_count": 5,
   "id": "4ca803cc",
   "metadata": {},
   "outputs": [
    {
     "data": {
      "text/plain": [
       "200"
      ]
     },
     "execution_count": 5,
     "metadata": {},
     "output_type": "execute_result"
    }
   ],
   "source": [
    "NUMBER=200\n",
    "NUMBER"
   ]
  },
  {
   "cell_type": "code",
   "execution_count": 6,
   "id": "3c707420",
   "metadata": {},
   "outputs": [
    {
     "data": {
      "text/plain": [
       "300"
      ]
     },
     "execution_count": 6,
     "metadata": {},
     "output_type": "execute_result"
    }
   ],
   "source": [
    "NUmber=300\n",
    "NUmber"
   ]
  },
  {
   "cell_type": "code",
   "execution_count": 7,
   "id": "6073c07e",
   "metadata": {},
   "outputs": [
    {
     "data": {
      "text/plain": [
       "400"
      ]
     },
     "execution_count": 7,
     "metadata": {},
     "output_type": "execute_result"
    }
   ],
   "source": [
    "number123=400\n",
    "number123"
   ]
  },
  {
   "cell_type": "code",
   "execution_count": 8,
   "id": "d5b6b013",
   "metadata": {},
   "outputs": [
    {
     "ename": "SyntaxError",
     "evalue": "invalid decimal literal (1181908654.py, line 1)",
     "output_type": "error",
     "traceback": [
      "\u001b[1;36m  Cell \u001b[1;32mIn[8], line 1\u001b[1;36m\u001b[0m\n\u001b[1;33m    123number=500\u001b[0m\n\u001b[1;37m      ^\u001b[0m\n\u001b[1;31mSyntaxError\u001b[0m\u001b[1;31m:\u001b[0m invalid decimal literal\n"
     ]
    }
   ],
   "source": [
    "123number=500\n",
    "123number"
   ]
  },
  {
   "cell_type": "code",
   "execution_count": 9,
   "id": "6803835f",
   "metadata": {},
   "outputs": [
    {
     "ename": "SyntaxError",
     "evalue": "invalid syntax (988349833.py, line 1)",
     "output_type": "error",
     "traceback": [
      "\u001b[1;36m  Cell \u001b[1;32mIn[9], line 1\u001b[1;36m\u001b[0m\n\u001b[1;33m    number$=600\u001b[0m\n\u001b[1;37m          ^\u001b[0m\n\u001b[1;31mSyntaxError\u001b[0m\u001b[1;31m:\u001b[0m invalid syntax\n"
     ]
    }
   ],
   "source": [
    "number$=600\n",
    "number$"
   ]
  },
  {
   "cell_type": "code",
   "execution_count": 10,
   "id": "94ae9412",
   "metadata": {},
   "outputs": [
    {
     "data": {
      "text/plain": [
       "700"
      ]
     },
     "execution_count": 10,
     "metadata": {},
     "output_type": "execute_result"
    }
   ],
   "source": [
    "number_123=700\n",
    "number_123"
   ]
  },
  {
   "cell_type": "code",
   "execution_count": 11,
   "id": "41597660",
   "metadata": {},
   "outputs": [
    {
     "ename": "SyntaxError",
     "evalue": "invalid syntax (1954212567.py, line 2)",
     "output_type": "error",
     "traceback": [
      "\u001b[1;36m  Cell \u001b[1;32mIn[11], line 2\u001b[1;36m\u001b[0m\n\u001b[1;33m    number_%\u001b[0m\n\u001b[1;37m            ^\u001b[0m\n\u001b[1;31mSyntaxError\u001b[0m\u001b[1;31m:\u001b[0m invalid syntax\n"
     ]
    }
   ],
   "source": [
    "number_%=800\n",
    "number_%"
   ]
  },
  {
   "cell_type": "markdown",
   "id": "40dfb29d",
   "metadata": {},
   "source": [
    "- variables are case sensitive\n",
    "\n",
    "- both upper case and lower case will used for intialise the variables\n",
    "\n",
    "- letters as prefix and number as suffix will works\n",
    "\n",
    "- numbers as prefix will not work\n",
    "\n",
    "- underscore symbol will work\n",
    "\n",
    "- all symbols other than underscore will not works\n",
    "\n",
    "- keywords are not used as variables"
   ]
  },
  {
   "cell_type": "code",
   "execution_count": 12,
   "id": "271ac845",
   "metadata": {},
   "outputs": [
    {
     "data": {
      "text/plain": [
       "100"
      ]
     },
     "execution_count": 12,
     "metadata": {},
     "output_type": "execute_result"
    }
   ],
   "source": [
    "number#=120\n",
    "number#"
   ]
  },
  {
   "cell_type": "code",
   "execution_count": 13,
   "id": "a6e56687",
   "metadata": {},
   "outputs": [
    {
     "data": {
      "text/plain": [
       "200"
      ]
     },
     "execution_count": 13,
     "metadata": {},
     "output_type": "execute_result"
    }
   ],
   "source": [
    "number=100\n",
    "number=200\n",
    "number"
   ]
  },
  {
   "cell_type": "code",
   "execution_count": null,
   "id": "e3eacdae",
   "metadata": {},
   "outputs": [],
   "source": []
  },
  {
   "cell_type": "code",
   "execution_count": 14,
   "id": "9ce12686",
   "metadata": {},
   "outputs": [
    {
     "ename": "SyntaxError",
     "evalue": "invalid syntax (1085249249.py, line 1)",
     "output_type": "error",
     "traceback": [
      "\u001b[1;36m  Cell \u001b[1;32mIn[14], line 1\u001b[1;36m\u001b[0m\n\u001b[1;33m    if=500\u001b[0m\n\u001b[1;37m      ^\u001b[0m\n\u001b[1;31mSyntaxError\u001b[0m\u001b[1;31m:\u001b[0m invalid syntax\n"
     ]
    }
   ],
   "source": [
    "if=500\n",
    "if"
   ]
  },
  {
   "cell_type": "code",
   "execution_count": 15,
   "id": "19cc5a6d",
   "metadata": {},
   "outputs": [
    {
     "data": {
      "text/plain": [
       "100"
      ]
     },
     "execution_count": 15,
     "metadata": {},
     "output_type": "execute_result"
    }
   ],
   "source": [
    "sum=100\n",
    "sum"
   ]
  },
  {
   "cell_type": "code",
   "execution_count": null,
   "id": "32fcedca",
   "metadata": {},
   "outputs": [],
   "source": []
  }
 ],
 "metadata": {
  "kernelspec": {
   "display_name": "Python 3 (ipykernel)",
   "language": "python",
   "name": "python3"
  },
  "language_info": {
   "codemirror_mode": {
    "name": "ipython",
    "version": 3
   },
   "file_extension": ".py",
   "mimetype": "text/x-python",
   "name": "python",
   "nbconvert_exporter": "python",
   "pygments_lexer": "ipython3",
   "version": "3.11.5"
  }
 },
 "nbformat": 4,
 "nbformat_minor": 5
}
