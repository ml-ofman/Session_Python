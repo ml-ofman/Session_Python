{
 "cells": [
  {
   "cell_type": "code",
   "execution_count": null,
   "id": "b6f19fe8",
   "metadata": {},
   "outputs": [],
   "source": [
    "Generally we have"
   ]
  },
  {
   "cell_type": "code",
   "execution_count": null,
   "id": "19ec8f55",
   "metadata": {},
   "outputs": [],
   "source": [
    "################## Level-1#################\n",
    "1) basic syntax\n",
    "2) First program\n",
    "3) conditional statements\n",
    "4) functions\n",
    "5) loops concept\n",
    "6) Expetional handling\n",
    "7) packages \n",
    "\n",
    "############### Level-2####################\n",
    "8)Strings\n",
    "9)List\n",
    "10)dictionary\n",
    "11)tuples\n",
    "12)sets\n",
    "13) file handling sessions\n",
    "\n",
    "############## Level-3#################\n",
    "14)OOPS concept\n",
    "15)EDA\n",
    "16)ML\n",
    "17)DL\n",
    "18)NLP\n",
    "19) FLASK "
   ]
  },
  {
   "cell_type": "markdown",
   "id": "a51d326a",
   "metadata": {},
   "source": [
    "- integer type\n",
    "\n",
    "- float\n",
    "\n",
    "- string\n",
    "\n",
    "- boolean\n",
    "\n",
    "- complex conjugate"
   ]
  },
  {
   "cell_type": "markdown",
   "id": "fa98cb3c",
   "metadata": {},
   "source": [
    "$Integer$-$type$:"
   ]
  },
  {
   "cell_type": "code",
   "execution_count": 1,
   "id": "403c9698",
   "metadata": {},
   "outputs": [
    {
     "data": {
      "text/plain": [
       "int"
      ]
     },
     "execution_count": 1,
     "metadata": {},
     "output_type": "execute_result"
    }
   ],
   "source": [
    "a=100 \n",
    "type(a)"
   ]
  },
  {
   "cell_type": "markdown",
   "id": "232696d0",
   "metadata": {},
   "source": [
    "in math different number system will avialable\n",
    "\n",
    "- binary \n",
    "\n",
    "- decimal\n",
    "\n",
    "- octal\n",
    "\n",
    "- hexa "
   ]
  },
  {
   "cell_type": "markdown",
   "id": "9c4e3136",
   "metadata": {},
   "source": [
    "**binary**"
   ]
  },
  {
   "cell_type": "markdown",
   "id": "df0cfb4e",
   "metadata": {},
   "source": [
    "- bi mean two :  base=2\n",
    " \n",
    "- base=2  , two digits required\n",
    "\n",
    "- the two digits are 0 and 1\n",
    "\n",
    "- The representation is 0b<the combination of two digits>\n",
    "\n",
    "- example:  0b10001 or 0B10001\n",
    "    "
   ]
  },
  {
   "cell_type": "code",
   "execution_count": 2,
   "id": "d1682b35",
   "metadata": {},
   "outputs": [
    {
     "data": {
      "text/plain": [
       "7"
      ]
     },
     "execution_count": 2,
     "metadata": {},
     "output_type": "execute_result"
    }
   ],
   "source": [
    "0b111  # here the input is binary format\n",
    "\n",
    "# the output is decimal format"
   ]
  },
  {
   "cell_type": "code",
   "execution_count": 3,
   "id": "99ebc96c",
   "metadata": {},
   "outputs": [
    {
     "data": {
      "text/plain": [
       "5"
      ]
     },
     "execution_count": 3,
     "metadata": {},
     "output_type": "execute_result"
    }
   ],
   "source": [
    "0b101"
   ]
  },
  {
   "cell_type": "code",
   "execution_count": null,
   "id": "72aae5f8",
   "metadata": {},
   "outputs": [],
   "source": [
    "# STLD  DLD\n",
    "\n",
    "2^2    2^1     2^0\n",
    "\n",
    "4       2       1\n",
    "0       0       0==========0\n",
    "0       0       1==========1\n",
    "0       1       0==========2\n",
    "0       1       1==========3\n",
    "1       0       0==========4\n",
    "1       0       1==========5\n",
    "1       1       0==========6\n",
    "1       1       1==========7\n",
    "\n",
    "ON=1   OFF=0"
   ]
  },
  {
   "cell_type": "code",
   "execution_count": null,
   "id": "3ed7bc5b",
   "metadata": {},
   "outputs": [],
   "source": [
    "0B1111\n",
    "\n",
    "8   4   2    1\n",
    "1   1   1    1==== 15\n",
    "\n",
    "1011\n",
    "\n",
    "8 + 2+1=11\n",
    "\n",
    "\n"
   ]
  },
  {
   "cell_type": "code",
   "execution_count": 4,
   "id": "c3186d7a",
   "metadata": {},
   "outputs": [
    {
     "data": {
      "text/plain": [
       "29"
      ]
     },
     "execution_count": 4,
     "metadata": {},
     "output_type": "execute_result"
    },
    {
     "name": "stdout",
     "output_type": "stream",
     "text": [
      "The history saving thread hit an unexpected error (OperationalError('database or disk is full')).History will not be written to the database.\n"
     ]
    }
   ],
   "source": [
    "# THREE DIGITS(2^2) ARE THERE:       4  2  1\n",
    "# FOUR DIGITS(2^3) ARE THERE:     8  4  2  1\n",
    "# Five digits(2^4) are there:  16 8  4  2  1\n",
    "# Six digits(2^5) are there:32 16 8  4  2  1\n",
    "\n",
    "0b11101"
   ]
  },
  {
   "cell_type": "markdown",
   "id": "7e43c93f",
   "metadata": {},
   "source": [
    "**Octal**\n",
    "\n",
    "- octa mean 8 :  base=8\n",
    " \n",
    "- base=8  , 8 digits required\n",
    "\n",
    "- the 8 digits are 0,1,2,3,4,5,6,7\n",
    "\n",
    "- The representation is 0o<the combination of two digits>\n",
    "\n",
    "- example:  0o4567 or 0O1234\n",
    "    "
   ]
  },
  {
   "cell_type": "code",
   "execution_count": 7,
   "id": "e3ba6093",
   "metadata": {},
   "outputs": [
    {
     "data": {
      "text/plain": [
       "83"
      ]
     },
     "execution_count": 7,
     "metadata": {},
     "output_type": "execute_result"
    }
   ],
   "source": [
    "0o123"
   ]
  },
  {
   "cell_type": "markdown",
   "id": "2a87e3f6",
   "metadata": {},
   "source": [
    "**hexa**\n",
    "\n",
    "- hexa mean 16 :  base=16\n",
    " \n",
    "- base=16  , 16 digits required\n",
    "\n",
    "- the 16 digits are 0,1,2,3,4,5,6,7,8,9,A(10),B(11),C(12),D(13),E(14),F(15)\n",
    "\n",
    "- The representation is 0x<the combination of two digits>\n",
    "\n",
    "- example:  0xABC or 0XabcF\n",
    "    \n",
    "    \n",
    "esc+m"
   ]
  },
  {
   "cell_type": "code",
   "execution_count": 6,
   "id": "975d2181",
   "metadata": {},
   "outputs": [
    {
     "data": {
      "text/plain": [
       "43983"
      ]
     },
     "execution_count": 6,
     "metadata": {},
     "output_type": "execute_result"
    }
   ],
   "source": [
    "0XabcF"
   ]
  },
  {
   "cell_type": "markdown",
   "id": "2a0380bc",
   "metadata": {},
   "source": [
    "**float**"
   ]
  },
  {
   "cell_type": "code",
   "execution_count": 8,
   "id": "680fc9e7",
   "metadata": {},
   "outputs": [
    {
     "data": {
      "text/plain": [
       "float"
      ]
     },
     "execution_count": 8,
     "metadata": {},
     "output_type": "execute_result"
    }
   ],
   "source": [
    "num=1.234\n",
    "type(num)"
   ]
  },
  {
   "cell_type": "code",
   "execution_count": 9,
   "id": "b4bb6942",
   "metadata": {},
   "outputs": [
    {
     "data": {
      "text/plain": [
       "float"
      ]
     },
     "execution_count": 9,
     "metadata": {},
     "output_type": "execute_result"
    }
   ],
   "source": [
    "float"
   ]
  },
  {
   "cell_type": "code",
   "execution_count": 11,
   "id": "41a13569",
   "metadata": {
    "collapsed": true
   },
   "outputs": [
    {
     "data": {
      "text/plain": [
       "20000.0"
      ]
     },
     "execution_count": 11,
     "metadata": {},
     "output_type": "execute_result"
    }
   ],
   "source": [
    "2e4   #2*10000"
   ]
  },
  {
   "cell_type": "code",
   "execution_count": 12,
   "id": "bacaf804",
   "metadata": {},
   "outputs": [
    {
     "data": {
      "text/plain": [
       "2000000.0"
      ]
     },
     "execution_count": 12,
     "metadata": {},
     "output_type": "execute_result"
    }
   ],
   "source": [
    "2e6  # 2*1000000"
   ]
  },
  {
   "cell_type": "code",
   "execution_count": 13,
   "id": "d1a5ee07",
   "metadata": {},
   "outputs": [
    {
     "data": {
      "text/plain": [
       "0.002"
      ]
     },
     "execution_count": 13,
     "metadata": {},
     "output_type": "execute_result"
    }
   ],
   "source": [
    "2e-3 # 2/1000"
   ]
  },
  {
   "cell_type": "code",
   "execution_count": null,
   "id": "aedf69eb",
   "metadata": {},
   "outputs": [],
   "source": [
    "1.00000000000000e-14\n",
    "\n",
    "#1/1000000000000000= 0.0000000000000001\n",
    "# the senario: ans=0\n",
    "# 1.00000000000000e-14"
   ]
  },
  {
   "cell_type": "code",
   "execution_count": 15,
   "id": "4d809c62",
   "metadata": {},
   "outputs": [
    {
     "data": {
      "text/plain": [
       "1.0"
      ]
     },
     "execution_count": 15,
     "metadata": {},
     "output_type": "execute_result"
    }
   ],
   "source": [
    "1.000000"
   ]
  },
  {
   "cell_type": "code",
   "execution_count": null,
   "id": "bf79079d",
   "metadata": {},
   "outputs": [],
   "source": [
    "e+3 or e3 are same?"
   ]
  },
  {
   "cell_type": "code",
   "execution_count": 16,
   "id": "5f93ccd7",
   "metadata": {},
   "outputs": [
    {
     "data": {
      "text/plain": [
       "2000.0"
      ]
     },
     "execution_count": 16,
     "metadata": {},
     "output_type": "execute_result"
    }
   ],
   "source": [
    "2e+3"
   ]
  },
  {
   "cell_type": "code",
   "execution_count": 17,
   "id": "807cc7e1",
   "metadata": {},
   "outputs": [
    {
     "data": {
      "text/plain": [
       "2000.0"
      ]
     },
     "execution_count": 17,
     "metadata": {},
     "output_type": "execute_result"
    }
   ],
   "source": [
    "2e3"
   ]
  },
  {
   "cell_type": "markdown",
   "id": "b953fda9",
   "metadata": {},
   "source": [
    "$boolean$"
   ]
  },
  {
   "cell_type": "markdown",
   "id": "f84afa59",
   "metadata": {},
   "source": [
    "#### boolean"
   ]
  },
  {
   "cell_type": "code",
   "execution_count": 21,
   "id": "756e282c",
   "metadata": {},
   "outputs": [
    {
     "data": {
      "text/plain": [
       "bool"
      ]
     },
     "execution_count": 21,
     "metadata": {},
     "output_type": "execute_result"
    }
   ],
   "source": [
    "a=True     #  number = 1\n",
    "type(a)"
   ]
  },
  {
   "cell_type": "code",
   "execution_count": 19,
   "id": "d89dfca8",
   "metadata": {},
   "outputs": [
    {
     "data": {
      "text/plain": [
       "bool"
      ]
     },
     "execution_count": 19,
     "metadata": {},
     "output_type": "execute_result"
    }
   ],
   "source": [
    "b=False   # number = 0\n",
    "type(b)"
   ]
  },
  {
   "cell_type": "code",
   "execution_count": 23,
   "id": "4deb5d21",
   "metadata": {},
   "outputs": [
    {
     "data": {
      "text/plain": [
       "100"
      ]
     },
     "execution_count": 23,
     "metadata": {},
     "output_type": "execute_result"
    }
   ],
   "source": [
    "true=100  # we alreday defined here \n",
    "name=true\n",
    "name"
   ]
  },
  {
   "cell_type": "markdown",
   "id": "f8c18915",
   "metadata": {},
   "source": [
    "$String$"
   ]
  },
  {
   "cell_type": "markdown",
   "id": "d03401f7",
   "metadata": {},
   "source": [
    "- String means charcters \n",
    "\n",
    "- English letters \n"
   ]
  },
  {
   "cell_type": "code",
   "execution_count": 2,
   "id": "18a965c9",
   "metadata": {},
   "outputs": [],
   "source": [
    "python=100\n",
    "# value 100 we are saving a variable python\n",
    "# so now python is intialised"
   ]
  },
  {
   "cell_type": "code",
   "execution_count": 3,
   "id": "e5b67e57",
   "metadata": {},
   "outputs": [],
   "source": [
    "name=python\n",
    "# Name error\n",
    "# we are saving python in a variable name\n",
    "# It will try to understand where is \n",
    "# python intialized"
   ]
  },
  {
   "cell_type": "code",
   "execution_count": 4,
   "id": "6092e96a",
   "metadata": {},
   "outputs": [
    {
     "data": {
      "text/plain": [
       "100"
      ]
     },
     "execution_count": 4,
     "metadata": {},
     "output_type": "execute_result"
    }
   ],
   "source": [
    "name"
   ]
  },
  {
   "cell_type": "code",
   "execution_count": 5,
   "id": "783df63d",
   "metadata": {},
   "outputs": [
    {
     "data": {
      "text/plain": [
       "'python'"
      ]
     },
     "execution_count": 5,
     "metadata": {},
     "output_type": "execute_result"
    }
   ],
   "source": [
    "name1='python'\n",
    "name1"
   ]
  },
  {
   "cell_type": "code",
   "execution_count": 6,
   "id": "4bd6e3ca",
   "metadata": {},
   "outputs": [
    {
     "data": {
      "text/plain": [
       "str"
      ]
     },
     "execution_count": 6,
     "metadata": {},
     "output_type": "execute_result"
    }
   ],
   "source": [
    "type(name1)"
   ]
  },
  {
   "cell_type": "code",
   "execution_count": 7,
   "id": "8dc60c67",
   "metadata": {},
   "outputs": [
    {
     "data": {
      "text/plain": [
       "'python'"
      ]
     },
     "execution_count": 7,
     "metadata": {},
     "output_type": "execute_result"
    }
   ],
   "source": [
    "name2=\"python\"\n",
    "name2"
   ]
  },
  {
   "cell_type": "code",
   "execution_count": 8,
   "id": "c4a6e848",
   "metadata": {},
   "outputs": [
    {
     "ename": "SyntaxError",
     "evalue": "unterminated string literal (detected at line 1) (324177891.py, line 1)",
     "output_type": "error",
     "traceback": [
      "\u001b[1;36m  Cell \u001b[1;32mIn[8], line 1\u001b[1;36m\u001b[0m\n\u001b[1;33m    name3=\"python'\u001b[0m\n\u001b[1;37m          ^\u001b[0m\n\u001b[1;31mSyntaxError\u001b[0m\u001b[1;31m:\u001b[0m unterminated string literal (detected at line 1)\n"
     ]
    }
   ],
   "source": [
    "name3=\"python'\n",
    "name3"
   ]
  },
  {
   "cell_type": "code",
   "execution_count": null,
   "id": "778532f2",
   "metadata": {},
   "outputs": [],
   "source": [
    "hai              # first\n",
    "how are you      # second\n",
    "\n",
    "with out /t  and  /n"
   ]
  },
  {
   "cell_type": "code",
   "execution_count": 9,
   "id": "7fab62a8",
   "metadata": {},
   "outputs": [
    {
     "name": "stdout",
     "output_type": "stream",
     "text": [
      "Hai\n",
      "How are you\n"
     ]
    }
   ],
   "source": [
    "print(\"Hai\")\n",
    "print(\"How are you\")\n",
    "\n",
    "# 10 lines"
   ]
  },
  {
   "cell_type": "code",
   "execution_count": 12,
   "id": "7ca49417",
   "metadata": {},
   "outputs": [
    {
     "name": "stdout",
     "output_type": "stream",
     "text": [
      "hai \n",
      "         how are you\n",
      "         \n"
     ]
    },
    {
     "data": {
      "text/plain": [
       "'hai \\n         how are you\\n         '"
      ]
     },
     "execution_count": 12,
     "metadata": {},
     "output_type": "execute_result"
    }
   ],
   "source": [
    "name4=\"\"\"hai \n",
    "         how are you\n",
    "         \"\"\"\n",
    "\n",
    "print(name4)\n",
    "\n",
    "name4\n",
    "\n",
    "# DOC STRING "
   ]
  },
  {
   "cell_type": "markdown",
   "id": "2d6a28af",
   "metadata": {},
   "source": [
    "**Doc string**\n",
    "\n",
    "In programming, a docstring is a string literal specified in source code that is used, \n",
    "like a comment, to document a specific segment of code\n",
    "\n",
    "use triple quotes"
   ]
  },
  {
   "cell_type": "markdown",
   "id": "bf14d36e",
   "metadata": {},
   "source": [
    "$Complex$ - $Conjugate$:"
   ]
  },
  {
   "cell_type": "markdown",
   "id": "1e67fe43",
   "metadata": {},
   "source": [
    "- It represents  a+jb\n",
    "\n",
    "- complex\n",
    "\n",
    "- where a= real number\n",
    "\n",
    "- b= imaginary number\n",
    "\n",
    "- i= square root(-1)"
   ]
  },
  {
   "cell_type": "code",
   "execution_count": 13,
   "id": "aa264f8c",
   "metadata": {},
   "outputs": [
    {
     "data": {
      "text/plain": [
       "0j"
      ]
     },
     "execution_count": 13,
     "metadata": {},
     "output_type": "execute_result"
    }
   ],
   "source": [
    "complex()\n",
    "\n",
    "# curoser should be inside bracket\n",
    "# shift+tab at a time\n",
    "\n",
    "# if you are not provide anything isside the bracket\n",
    "# the default arguments will use\n",
    "# real=0  and img=0\n",
    "# 0+0j \n",
    "# when you enter 0+0j , the python output is 0j\n",
    "\n",
    "\n",
    "A) 0+0j  ( why cant answer A)\n",
    "B) 0j\n",
    "C) 0\n",
    "D)None of the above"
   ]
  },
  {
   "cell_type": "code",
   "execution_count": 14,
   "id": "dcf3becb",
   "metadata": {},
   "outputs": [
    {
     "data": {
      "text/plain": [
       "0j"
      ]
     },
     "execution_count": 14,
     "metadata": {},
     "output_type": "execute_result"
    }
   ],
   "source": [
    "0+0j"
   ]
  },
  {
   "cell_type": "code",
   "execution_count": 15,
   "id": "2d9d70d5",
   "metadata": {},
   "outputs": [
    {
     "data": {
      "text/plain": [
       "(3+5j)"
      ]
     },
     "execution_count": 15,
     "metadata": {},
     "output_type": "execute_result"
    }
   ],
   "source": [
    "complex(3,5) \n",
    "# 3+5j"
   ]
  },
  {
   "cell_type": "markdown",
   "id": "25a6af26",
   "metadata": {},
   "source": [
    "- integer :   int\n",
    "    \n",
    "- float   :   float\n",
    "    \n",
    "- string  :   str\n",
    "\n",
    "- complex :   complex"
   ]
  },
  {
   "cell_type": "code",
   "execution_count": 16,
   "id": "30329700",
   "metadata": {},
   "outputs": [
    {
     "data": {
      "text/plain": [
       "(3+10j)"
      ]
     },
     "execution_count": 16,
     "metadata": {},
     "output_type": "execute_result"
    }
   ],
   "source": [
    "num=3+10j\n",
    "num"
   ]
  },
  {
   "cell_type": "code",
   "execution_count": 17,
   "id": "c6cc0b5b",
   "metadata": {},
   "outputs": [
    {
     "data": {
      "text/plain": [
       "complex"
      ]
     },
     "execution_count": 17,
     "metadata": {},
     "output_type": "execute_result"
    }
   ],
   "source": [
    "type(num)"
   ]
  },
  {
   "cell_type": "code",
   "execution_count": 18,
   "id": "a2721db7",
   "metadata": {},
   "outputs": [
    {
     "data": {
      "text/plain": [
       "3.0"
      ]
     },
     "execution_count": 18,
     "metadata": {},
     "output_type": "execute_result"
    }
   ],
   "source": [
    "num.real"
   ]
  },
  {
   "cell_type": "code",
   "execution_count": 19,
   "id": "e71e4e64",
   "metadata": {},
   "outputs": [
    {
     "data": {
      "text/plain": [
       "10.0"
      ]
     },
     "execution_count": 19,
     "metadata": {},
     "output_type": "execute_result"
    }
   ],
   "source": [
    "num.imag"
   ]
  },
  {
   "cell_type": "code",
   "execution_count": null,
   "id": "336099f2",
   "metadata": {},
   "outputs": [],
   "source": []
  },
  {
   "cell_type": "code",
   "execution_count": null,
   "id": "99065032",
   "metadata": {},
   "outputs": [],
   "source": []
  }
 ],
 "metadata": {
  "kernelspec": {
   "display_name": "Python 3 (ipykernel)",
   "language": "python",
   "name": "python3"
  },
  "language_info": {
   "codemirror_mode": {
    "name": "ipython",
    "version": 3
   },
   "file_extension": ".py",
   "mimetype": "text/x-python",
   "name": "python",
   "nbconvert_exporter": "python",
   "pygments_lexer": "ipython3",
   "version": "3.11.5"
  }
 },
 "nbformat": 4,
 "nbformat_minor": 5
}
