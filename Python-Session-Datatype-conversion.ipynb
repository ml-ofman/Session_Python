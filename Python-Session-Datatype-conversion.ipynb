{
 "cells": [
  {
   "cell_type": "markdown",
   "id": "3634ec0a",
   "metadata": {},
   "source": [
    "## Type casting\n",
    "\n",
    "Data type converstion\n",
    "\n",
    "converting one data type to another data type"
   ]
  },
  {
   "cell_type": "markdown",
   "id": "7f86b333",
   "metadata": {},
   "source": [
    "int\n",
    "\n",
    "float\n",
    "\n",
    "str\n",
    "\n",
    "bool\n",
    "\n",
    "complex"
   ]
  },
  {
   "cell_type": "markdown",
   "id": "e416999a",
   "metadata": {},
   "source": [
    "**int to other data types**"
   ]
  },
  {
   "cell_type": "code",
   "execution_count": 1,
   "id": "eb26ab9e",
   "metadata": {},
   "outputs": [
    {
     "data": {
      "text/plain": [
       "int"
      ]
     },
     "execution_count": 1,
     "metadata": {},
     "output_type": "execute_result"
    }
   ],
   "source": [
    "number=100\n",
    "type(number)"
   ]
  },
  {
   "cell_type": "code",
   "execution_count": 3,
   "id": "59d81e77",
   "metadata": {},
   "outputs": [
    {
     "data": {
      "text/plain": [
       "100.0"
      ]
     },
     "execution_count": 3,
     "metadata": {},
     "output_type": "execute_result"
    }
   ],
   "source": [
    "# convert int  to   float\n",
    "float_number=float(number)\n",
    "float_number\n",
    "\n",
    "# 100 ======== 100.0\n",
    "# int ======== float"
   ]
  },
  {
   "cell_type": "code",
   "execution_count": 4,
   "id": "d33c271e",
   "metadata": {},
   "outputs": [
    {
     "data": {
      "text/plain": [
       "float"
      ]
     },
     "execution_count": 4,
     "metadata": {},
     "output_type": "execute_result"
    }
   ],
   "source": [
    "type(float_number)"
   ]
  },
  {
   "cell_type": "code",
   "execution_count": 6,
   "id": "4c2a4e1c",
   "metadata": {},
   "outputs": [
    {
     "data": {
      "text/plain": [
       "'100'"
      ]
     },
     "execution_count": 6,
     "metadata": {},
     "output_type": "execute_result"
    }
   ],
   "source": [
    "# convert into str type\n",
    "string_number=str(number)\n",
    "string_number"
   ]
  },
  {
   "cell_type": "code",
   "execution_count": 7,
   "id": "18f3427e",
   "metadata": {},
   "outputs": [
    {
     "data": {
      "text/plain": [
       "str"
      ]
     },
     "execution_count": 7,
     "metadata": {},
     "output_type": "execute_result"
    }
   ],
   "source": [
    "type(string_number)\n",
    "\n",
    "# 100 ============= '100'\n",
    "# int =============  str"
   ]
  },
  {
   "cell_type": "code",
   "execution_count": 8,
   "id": "6fc9e437",
   "metadata": {},
   "outputs": [
    {
     "data": {
      "text/plain": [
       "True"
      ]
     },
     "execution_count": 8,
     "metadata": {},
     "output_type": "execute_result"
    }
   ],
   "source": [
    "# convert into boolean\n",
    "bool(number)"
   ]
  },
  {
   "cell_type": "code",
   "execution_count": null,
   "id": "ae3b44b7",
   "metadata": {},
   "outputs": [],
   "source": [
    "bool(200)\n",
    "bool(300)"
   ]
  },
  {
   "cell_type": "code",
   "execution_count": 11,
   "id": "80b38900",
   "metadata": {},
   "outputs": [
    {
     "data": {
      "text/plain": [
       "True"
      ]
     },
     "execution_count": 11,
     "metadata": {},
     "output_type": "execute_result"
    }
   ],
   "source": [
    "bool(200)"
   ]
  },
  {
   "cell_type": "code",
   "execution_count": 14,
   "id": "afd99c98",
   "metadata": {},
   "outputs": [
    {
     "data": {
      "text/plain": [
       "300.0"
      ]
     },
     "execution_count": 14,
     "metadata": {},
     "output_type": "execute_result"
    }
   ],
   "source": [
    "n=300\n",
    "float(n)"
   ]
  },
  {
   "cell_type": "code",
   "execution_count": 15,
   "id": "2d1a43f8",
   "metadata": {},
   "outputs": [
    {
     "data": {
      "text/plain": [
       "True"
      ]
     },
     "execution_count": 15,
     "metadata": {},
     "output_type": "execute_result"
    }
   ],
   "source": [
    "bool(-200)"
   ]
  },
  {
   "cell_type": "code",
   "execution_count": 16,
   "id": "aad1df65",
   "metadata": {},
   "outputs": [
    {
     "data": {
      "text/plain": [
       "False"
      ]
     },
     "execution_count": 16,
     "metadata": {},
     "output_type": "execute_result"
    }
   ],
   "source": [
    "bool(0)"
   ]
  },
  {
   "cell_type": "markdown",
   "id": "7709a5be",
   "metadata": {},
   "source": [
    "**Other than zero everything is True under the bool operations**"
   ]
  },
  {
   "cell_type": "code",
   "execution_count": 19,
   "id": "d732e2bb",
   "metadata": {},
   "outputs": [
    {
     "data": {
      "text/plain": [
       "(200+0j)"
      ]
     },
     "execution_count": 19,
     "metadata": {},
     "output_type": "execute_result"
    }
   ],
   "source": [
    "# int to complex\n",
    "a=200\n",
    "complex(a)  # 200+0j"
   ]
  },
  {
   "cell_type": "code",
   "execution_count": 20,
   "id": "7deffb19",
   "metadata": {},
   "outputs": [
    {
     "data": {
      "text/plain": [
       "(200+300j)"
      ]
     },
     "execution_count": 20,
     "metadata": {},
     "output_type": "execute_result"
    }
   ],
   "source": [
    "a=200\n",
    "b=300\n",
    "complex(a,b) # 200+300j"
   ]
  },
  {
   "cell_type": "code",
   "execution_count": 23,
   "id": "1621afc4",
   "metadata": {},
   "outputs": [
    {
     "data": {
      "text/plain": [
       "300j"
      ]
     },
     "execution_count": 23,
     "metadata": {},
     "output_type": "execute_result"
    }
   ],
   "source": [
    "complex(0,300)"
   ]
  },
  {
   "cell_type": "code",
   "execution_count": null,
   "id": "d8c5674f",
   "metadata": {},
   "outputs": [],
   "source": [
    "# int to float\n",
    "# int to str\n",
    "# int to bool\n",
    "# int to complex"
   ]
  },
  {
   "cell_type": "markdown",
   "id": "57f09a39",
   "metadata": {},
   "source": [
    "**float to other data types**"
   ]
  },
  {
   "cell_type": "code",
   "execution_count": 24,
   "id": "3b962b3e",
   "metadata": {},
   "outputs": [
    {
     "data": {
      "text/plain": [
       "10.5"
      ]
     },
     "execution_count": 24,
     "metadata": {},
     "output_type": "execute_result"
    }
   ],
   "source": [
    "number1=10.5\n",
    "number1"
   ]
  },
  {
   "cell_type": "code",
   "execution_count": 25,
   "id": "daeb793d",
   "metadata": {},
   "outputs": [
    {
     "data": {
      "text/plain": [
       "float"
      ]
     },
     "execution_count": 25,
     "metadata": {},
     "output_type": "execute_result"
    }
   ],
   "source": [
    "type(number1)"
   ]
  },
  {
   "cell_type": "code",
   "execution_count": 27,
   "id": "8571f5a0",
   "metadata": {},
   "outputs": [
    {
     "data": {
      "text/plain": [
       "10"
      ]
     },
     "execution_count": 27,
     "metadata": {},
     "output_type": "execute_result"
    }
   ],
   "source": [
    "# float to integer\n",
    "int_number=int(number1)\n",
    "\n",
    "# 10.5 =========== 10\n",
    "# float ========= int\n",
    "int_number"
   ]
  },
  {
   "cell_type": "code",
   "execution_count": 28,
   "id": "43b7c636",
   "metadata": {},
   "outputs": [
    {
     "data": {
      "text/plain": [
       "int"
      ]
     },
     "execution_count": 28,
     "metadata": {},
     "output_type": "execute_result"
    }
   ],
   "source": [
    "type(int_number)"
   ]
  },
  {
   "cell_type": "code",
   "execution_count": 30,
   "id": "9315c28c",
   "metadata": {},
   "outputs": [
    {
     "data": {
      "text/plain": [
       "'10.5'"
      ]
     },
     "execution_count": 30,
     "metadata": {},
     "output_type": "execute_result"
    }
   ],
   "source": [
    "#float to string\n",
    "str(number1)"
   ]
  },
  {
   "cell_type": "code",
   "execution_count": 31,
   "id": "29c88787",
   "metadata": {},
   "outputs": [
    {
     "data": {
      "text/plain": [
       "True"
      ]
     },
     "execution_count": 31,
     "metadata": {},
     "output_type": "execute_result"
    }
   ],
   "source": [
    "#float to bool\n",
    "bool(number1)"
   ]
  },
  {
   "cell_type": "code",
   "execution_count": 32,
   "id": "b3a1d996",
   "metadata": {},
   "outputs": [
    {
     "data": {
      "text/plain": [
       "(10.5+0j)"
      ]
     },
     "execution_count": 32,
     "metadata": {},
     "output_type": "execute_result"
    }
   ],
   "source": [
    "# float to complex\n",
    "complex(number1)"
   ]
  },
  {
   "cell_type": "code",
   "execution_count": null,
   "id": "602b9c27",
   "metadata": {},
   "outputs": [],
   "source": [
    "number2=100.2\n",
    "int(number2)   # 100\n",
    "str(number2)   # '100.2'\n",
    "bool(number2)  # True\n",
    "complex(number2)# 100.2+0j"
   ]
  },
  {
   "cell_type": "markdown",
   "id": "8570828c",
   "metadata": {},
   "source": [
    "**String to other data types**"
   ]
  },
  {
   "cell_type": "code",
   "execution_count": null,
   "id": "d6558d7d",
   "metadata": {},
   "outputs": [],
   "source": [
    "string1='python'\n",
    "\n",
    "int(string1)     # error   python   6   \n",
    "float(string1)\n",
    "bool(string1)\n",
    "complex(string1)"
   ]
  },
  {
   "cell_type": "code",
   "execution_count": 33,
   "id": "7aad34b3",
   "metadata": {},
   "outputs": [
    {
     "ename": "ValueError",
     "evalue": "invalid literal for int() with base 10: 'python'",
     "output_type": "error",
     "traceback": [
      "\u001b[1;31m---------------------------------------------------------------------------\u001b[0m",
      "\u001b[1;31mValueError\u001b[0m                                Traceback (most recent call last)",
      "Cell \u001b[1;32mIn[33], line 3\u001b[0m\n\u001b[0;32m      1\u001b[0m string1\u001b[38;5;241m=\u001b[39m\u001b[38;5;124m'\u001b[39m\u001b[38;5;124mpython\u001b[39m\u001b[38;5;124m'\u001b[39m\n\u001b[1;32m----> 3\u001b[0m \u001b[38;5;28mint\u001b[39m(string1)\n",
      "\u001b[1;31mValueError\u001b[0m: invalid literal for int() with base 10: 'python'"
     ]
    }
   ],
   "source": [
    "string1='python'\n",
    "\n",
    "int(string1)"
   ]
  },
  {
   "cell_type": "code",
   "execution_count": 34,
   "id": "cdb27fb3",
   "metadata": {},
   "outputs": [
    {
     "ename": "ValueError",
     "evalue": "could not convert string to float: 'python'",
     "output_type": "error",
     "traceback": [
      "\u001b[1;31m---------------------------------------------------------------------------\u001b[0m",
      "\u001b[1;31mValueError\u001b[0m                                Traceback (most recent call last)",
      "Cell \u001b[1;32mIn[34], line 2\u001b[0m\n\u001b[0;32m      1\u001b[0m string1\u001b[38;5;241m=\u001b[39m\u001b[38;5;124m'\u001b[39m\u001b[38;5;124mpython\u001b[39m\u001b[38;5;124m'\u001b[39m\n\u001b[1;32m----> 2\u001b[0m \u001b[38;5;28mfloat\u001b[39m(string1)\n",
      "\u001b[1;31mValueError\u001b[0m: could not convert string to float: 'python'"
     ]
    }
   ],
   "source": [
    "string1='python'\n",
    "float(string1)"
   ]
  },
  {
   "cell_type": "code",
   "execution_count": 35,
   "id": "5c21b058",
   "metadata": {},
   "outputs": [
    {
     "data": {
      "text/plain": [
       "True"
      ]
     },
     "execution_count": 35,
     "metadata": {},
     "output_type": "execute_result"
    }
   ],
   "source": [
    "string1='python'\n",
    "bool(string1)"
   ]
  },
  {
   "cell_type": "code",
   "execution_count": 37,
   "id": "3ccbf34b",
   "metadata": {},
   "outputs": [
    {
     "data": {
      "text/plain": [
       "False"
      ]
     },
     "execution_count": 37,
     "metadata": {},
     "output_type": "execute_result"
    }
   ],
   "source": [
    "string2=\"\"   # empty string means nothing mentioned in quotes\n",
    "bool(string2)"
   ]
  },
  {
   "cell_type": "markdown",
   "id": "847097b6",
   "metadata": {},
   "source": [
    "## Empty string will provide FALSE under bool type"
   ]
  },
  {
   "cell_type": "code",
   "execution_count": 38,
   "id": "dcd8b7a1",
   "metadata": {},
   "outputs": [
    {
     "ename": "ValueError",
     "evalue": "complex() arg is a malformed string",
     "output_type": "error",
     "traceback": [
      "\u001b[1;31m---------------------------------------------------------------------------\u001b[0m",
      "\u001b[1;31mValueError\u001b[0m                                Traceback (most recent call last)",
      "Cell \u001b[1;32mIn[38], line 2\u001b[0m\n\u001b[0;32m      1\u001b[0m string1\u001b[38;5;241m=\u001b[39m\u001b[38;5;124m'\u001b[39m\u001b[38;5;124mpython\u001b[39m\u001b[38;5;124m'\u001b[39m\n\u001b[1;32m----> 2\u001b[0m \u001b[38;5;28mcomplex\u001b[39m(string1)\n",
      "\u001b[1;31mValueError\u001b[0m: complex() arg is a malformed string"
     ]
    }
   ],
   "source": [
    "string1='python'\n",
    "complex(string1)"
   ]
  },
  {
   "cell_type": "code",
   "execution_count": null,
   "id": "22bf1dcd",
   "metadata": {},
   "outputs": [],
   "source": [
    "# Name error\n",
    "# Value error"
   ]
  },
  {
   "cell_type": "code",
   "execution_count": null,
   "id": "51d40a67",
   "metadata": {},
   "outputs": [],
   "source": []
  },
  {
   "cell_type": "code",
   "execution_count": null,
   "id": "9bfa55a3",
   "metadata": {},
   "outputs": [],
   "source": [
    "# when it is zero  it is False\n",
    "# when it is empty string it is False"
   ]
  },
  {
   "cell_type": "code",
   "execution_count": null,
   "id": "41e38b08",
   "metadata": {},
   "outputs": [],
   "source": [
    "# when it False"
   ]
  },
  {
   "cell_type": "code",
   "execution_count": null,
   "id": "750fc41a",
   "metadata": {},
   "outputs": [],
   "source": [
    "# english letters can not convert into maths"
   ]
  },
  {
   "cell_type": "code",
   "execution_count": null,
   "id": "9f8ad09b",
   "metadata": {},
   "outputs": [],
   "source": [
    "what is \"with base 10\"\n",
    "\n",
    "give me 1000rs\n",
    "\n",
    "0b1000000"
   ]
  },
  {
   "cell_type": "code",
   "execution_count": null,
   "id": "bade1dc2",
   "metadata": {},
   "outputs": [],
   "source": [
    "string3='10'\n",
    "int(string3)    # 10\n",
    "float(string3)  # 10.0\n",
    "bool(string3)   #\n",
    "complex(string3)"
   ]
  },
  {
   "cell_type": "code",
   "execution_count": 42,
   "id": "c405e48a",
   "metadata": {},
   "outputs": [
    {
     "data": {
      "text/plain": [
       "(10+0j)"
      ]
     },
     "execution_count": 42,
     "metadata": {},
     "output_type": "execute_result"
    }
   ],
   "source": [
    "string3='10'\n",
    "complex(string3)"
   ]
  },
  {
   "cell_type": "code",
   "execution_count": null,
   "id": "486dbf8f",
   "metadata": {},
   "outputs": [],
   "source": [
    "string4='10.5'\n",
    "int(string4)    # 10\n",
    "float(string4)  # 10.0\n",
    "bool(string4)   #\n",
    "complex(string4)"
   ]
  },
  {
   "cell_type": "code",
   "execution_count": 44,
   "id": "9d950535",
   "metadata": {},
   "outputs": [
    {
     "ename": "ValueError",
     "evalue": "invalid literal for int() with base 10: '10.5'",
     "output_type": "error",
     "traceback": [
      "\u001b[1;31m---------------------------------------------------------------------------\u001b[0m",
      "\u001b[1;31mValueError\u001b[0m                                Traceback (most recent call last)",
      "Cell \u001b[1;32mIn[44], line 2\u001b[0m\n\u001b[0;32m      1\u001b[0m string4\u001b[38;5;241m=\u001b[39m\u001b[38;5;124m'\u001b[39m\u001b[38;5;124m10.5\u001b[39m\u001b[38;5;124m'\u001b[39m  \u001b[38;5;66;03m# internally what type float\u001b[39;00m\n\u001b[1;32m----> 2\u001b[0m \u001b[38;5;28mint\u001b[39m(string4)\n",
      "\u001b[1;31mValueError\u001b[0m: invalid literal for int() with base 10: '10.5'"
     ]
    }
   ],
   "source": [
    "string4='10.5'  # internally what type float\n",
    "int(string4) "
   ]
  },
  {
   "cell_type": "code",
   "execution_count": 45,
   "id": "3bb0acbb",
   "metadata": {},
   "outputs": [
    {
     "data": {
      "text/plain": [
       "10"
      ]
     },
     "execution_count": 45,
     "metadata": {},
     "output_type": "execute_result"
    }
   ],
   "source": [
    "int('10')   # This will works  10 is generally int=== quotes"
   ]
  },
  {
   "cell_type": "code",
   "execution_count": 46,
   "id": "3a367db4",
   "metadata": {},
   "outputs": [
    {
     "ename": "ValueError",
     "evalue": "invalid literal for int() with base 10: '10.5'",
     "output_type": "error",
     "traceback": [
      "\u001b[1;31m---------------------------------------------------------------------------\u001b[0m",
      "\u001b[1;31mValueError\u001b[0m                                Traceback (most recent call last)",
      "Cell \u001b[1;32mIn[46], line 1\u001b[0m\n\u001b[1;32m----> 1\u001b[0m \u001b[38;5;28mint\u001b[39m(\u001b[38;5;124m'\u001b[39m\u001b[38;5;124m10.5\u001b[39m\u001b[38;5;124m'\u001b[39m)\n",
      "\u001b[1;31mValueError\u001b[0m: invalid literal for int() with base 10: '10.5'"
     ]
    }
   ],
   "source": [
    "int('10.5') # 10.5 ==== float   # it will fail"
   ]
  },
  {
   "cell_type": "code",
   "execution_count": null,
   "id": "6529f254",
   "metadata": {},
   "outputs": [],
   "source": [
    "float('10')   # 10.0"
   ]
  },
  {
   "cell_type": "code",
   "execution_count": 47,
   "id": "4951df54",
   "metadata": {},
   "outputs": [
    {
     "data": {
      "text/plain": [
       "10.5"
      ]
     },
     "execution_count": 47,
     "metadata": {},
     "output_type": "execute_result"
    }
   ],
   "source": [
    "float('10.5') "
   ]
  },
  {
   "cell_type": "code",
   "execution_count": null,
   "id": "2976f5fe",
   "metadata": {},
   "outputs": [],
   "source": [
    "# float is the boss 10  10.5  it will give the answer\n",
    "# int will works only on integer value in quotes\n",
    "# int will not  works on float value in quotes"
   ]
  },
  {
   "cell_type": "code",
   "execution_count": null,
   "id": "29bb435c",
   "metadata": {},
   "outputs": [],
   "source": [
    "string1='python'\n",
    "string2='10'\n",
    "string3='10.5'\n",
    "string4='10+20j'"
   ]
  },
  {
   "cell_type": "code",
   "execution_count": null,
   "id": "ba9b8a23",
   "metadata": {},
   "outputs": [],
   "source": [
    "string4='10+20j'\n",
    "int(string4)          # error\n",
    "float(string4)        # error\n",
    "bool(string4)         # True\n",
    "complex(string4)      # "
   ]
  },
  {
   "cell_type": "code",
   "execution_count": 51,
   "id": "d9c4edf7",
   "metadata": {},
   "outputs": [
    {
     "data": {
      "text/plain": [
       "(10+20j)"
      ]
     },
     "execution_count": 51,
     "metadata": {},
     "output_type": "execute_result"
    }
   ],
   "source": [
    "string4='10+20j'\n",
    "complex(string4)"
   ]
  },
  {
   "cell_type": "code",
   "execution_count": null,
   "id": "3ceaea89",
   "metadata": {},
   "outputs": [],
   "source": [
    "maths ====== maths\n",
    "english === english\n",
    "maths+english ==== english "
   ]
  },
  {
   "cell_type": "code",
   "execution_count": null,
   "id": "94576c51",
   "metadata": {},
   "outputs": [],
   "source": [
    "int('10')\n",
    "# check-1:  '10'  10 is what?  = integer it is in quotes\n",
    "# int('10')   both are same group it will works\n",
    "\n",
    "int('10.5')\n",
    "# check-1 :  '10.5' ========= 10.5 = float\n",
    "# check-2:  int with float   , this will fail\n",
    "\n",
    "\n",
    "# floa is the boss\n",
    "# float('10') and float('10.5') both will works"
   ]
  },
  {
   "cell_type": "code",
   "execution_count": null,
   "id": "5eed4906",
   "metadata": {},
   "outputs": [],
   "source": [
    "Complex to other data types"
   ]
  },
  {
   "cell_type": "code",
   "execution_count": null,
   "id": "ea6e0939",
   "metadata": {},
   "outputs": [],
   "source": [
    "complex_number= 10+20j\n",
    "int(10+20j)\n",
    "float(10+20j)\n",
    "bool(10+20j)\n",
    "str(10+20j)"
   ]
  },
  {
   "cell_type": "markdown",
   "id": "cc3be119",
   "metadata": {},
   "source": [
    "python\n",
    "\n",
    "esc+m\n",
    "\n",
    "do shift+enter"
   ]
  },
  {
   "cell_type": "markdown",
   "id": "33ca42af",
   "metadata": {},
   "source": [
    "#### Note:\n",
    "\n",
    "- Other than zero every numerical either it is int or float it is True under boolean type\n",
    "\n",
    "- If it is empty string , it is False under boolean type\n",
    "\n",
    "- int('10.5')  provides error\n",
    "\n",
    "- complex('10+20j') will convert into complex values only\n",
    "\n",
    "- above two examples we need to observe two points\n",
    "\n",
    "     - what is the type cast \n",
    "     \n",
    "     - what is the base data type in quotes\n",
    "     \n",
    "     - if both are same it will works\n",
    "     \n",
    "     - int is integer type , but '10.5' is float in quotes both are different so error\n",
    "     \n",
    "     - complex type , inside btackets '10+20j' is complex in quotes so No error"
   ]
  },
  {
   "cell_type": "code",
   "execution_count": null,
   "id": "cea825ba",
   "metadata": {},
   "outputs": [],
   "source": []
  },
  {
   "cell_type": "code",
   "execution_count": null,
   "id": "5867638d",
   "metadata": {},
   "outputs": [],
   "source": []
  }
 ],
 "metadata": {
  "kernelspec": {
   "display_name": "Python 3 (ipykernel)",
   "language": "python",
   "name": "python3"
  },
  "language_info": {
   "codemirror_mode": {
    "name": "ipython",
    "version": 3
   },
   "file_extension": ".py",
   "mimetype": "text/x-python",
   "name": "python",
   "nbconvert_exporter": "python",
   "pygments_lexer": "ipython3",
   "version": "3.11.5"
  }
 },
 "nbformat": 4,
 "nbformat_minor": 5
}
